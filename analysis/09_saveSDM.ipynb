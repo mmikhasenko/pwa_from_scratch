{
 "cells": [
  {
   "cell_type": "markdown",
   "metadata": {},
   "source": [
    "# Extraction of SDM\n",
    "### Collect spin-density matrix elements from the `ROOT`-file and save them to a text file"
   ]
  },
  {
   "cell_type": "code",
   "execution_count": null,
   "metadata": {},
   "outputs": [],
   "source": [
    "import ROOT\n",
    "import os"
   ]
  },
  {
   "cell_type": "code",
   "execution_count": null,
   "metadata": {},
   "outputs": [],
   "source": [
    "data_folder = '/Users/mikhailmikhasenko/cernbox/tmp/pwa_results'\n",
    "sdm_folder = os.path.join('..', 'data', 'SDMs')"
   ]
  },
  {
   "cell_type": "code",
   "execution_count": null,
   "metadata": {},
   "outputs": [],
   "source": [
    "name = '0.100000-0.112853'"
   ]
  },
  {
   "cell_type": "code",
   "execution_count": null,
   "metadata": {},
   "outputs": [],
   "source": [
    "############################################\n",
    "\n",
    "def get_cve(myfile, name, i) :\n",
    "    hist = myfile.Get(name)\n",
    "    return [hist.GetBinCenter(i), hist.GetBinContent(i), hist.GetBinError(i)]\n",
    "\n",
    "############################################\n",
    "\n",
    "def get_SDM(myfile,bin,nbins=88) :\n",
    "    SDM = [[0.0 for x in range(nbins)] for y in range(nbins)]\n",
    "    eSDM = [[0.0 for x in range(nbins)] for y in range(nbins)]\n",
    "    # intensities\n",
    "    for i in range(nbins) :\n",
    "        hname = 'h'+str(i+1)\n",
    "        if (myfile.GetListOfKeys().Contains(hname)) :\n",
    "            v = get_cve(myfile,hname, bin)\n",
    "            SDM[i][i] = v[1]\n",
    "            eSDM[i][i] = v[2]\n",
    "        else :\n",
    "            print(\"Error: \",hname,\" not found!\")\n",
    "    # interferences\n",
    "    for i in range(nbins) :\n",
    "        for j in range(nbins) :\n",
    "            if (i >= j) : continue\n",
    "            rname = 'h1'+'{:03d}'.format(i+1)+'{:03d}'.format(j+1)\n",
    "            iname = 'h2'+'{:03d}'.format(i+1)+'{:03d}'.format(j+1)\n",
    "            if (myfile.GetListOfKeys().Contains(rname)) and (myfile.GetListOfKeys().Contains(iname)):\n",
    "                vr = get_cve(myfile,rname, bin)\n",
    "                vi = get_cve(myfile,iname, bin)\n",
    "                SDM[i][j] = vr[1]+vi[1]*1j\n",
    "                eSDM[i][j] = v[2]+vi[2]*1j\n",
    "                SDM[j][i] = vr[1]-vi[1]*1j\n",
    "                eSDM[j][i] = v[2]-vi[2]*1j\n",
    "#             else :\n",
    "#                 print(\"Error: \",rname,\" or \",iname,\" not found!\")\n",
    "    return SDM, eSDM\n",
    "############################################\n",
    "\n",
    "def save2file(output, inmat) :\n",
    "    os.makedirs(os.path.dirname(output), exist_ok=True)\n",
    "    # \n",
    "    mat=np.matrix([np.array(v).real for v in inmat])\n",
    "    np.savetxt(output+'.re',mat)\n",
    "    mat=np.matrix([np.array(v).imag for v in inmat])\n",
    "    np.savetxt(output+'.im',mat)\n",
    "\n",
    "def save_all_sdm(rootfilename, outfilename, Nb=100, Nw=88) :\n",
    "    myfile = ROOT.TFile(rootfilename)\n",
    "    for b in range(1,Nb+1) :\n",
    "        SDM_b, eSDM_b = get_SDM(myfile,b,Nw)\n",
    "        save2file(outfilename+'/'+'sdm'+str(b), SDM_b)\n",
    "        save2file(outfilename+'/'+'sdm'+str(b)+'-err', eSDM_b)\n",
    "    myfile.Close()    "
   ]
  },
  {
   "cell_type": "markdown",
   "metadata": {},
   "source": [
    "## Check the functionality"
   ]
  },
  {
   "cell_type": "code",
   "execution_count": null,
   "metadata": {},
   "outputs": [],
   "source": [
    "names = [\"0.100000-0.112853\", \"0.112853-0.127471\", \"0.127471-0.144385\", \"0.144385-0.164401\",\n",
    "         \"0.164401-0.188816\", \"0.188816-0.219907\", \"0.219907-0.262177\", \"0.262177-0.326380\",\n",
    "         \"0.326380-0.448588\", \"0.448588-0.724294\", \"0.724294-1.000000\"]"
   ]
  },
  {
   "cell_type": "markdown",
   "metadata": {},
   "source": [
    "Save a single SDM"
   ]
  },
  {
   "cell_type": "code",
   "execution_count": null,
   "metadata": {},
   "outputs": [],
   "source": [
    "myfile = ROOT.TFile(os.path.join(data_folder, 'hfit_'+names[2]+'.root'))\n",
    "\n",
    "SDM91, eSDM91 = get_SDM(myfile,91)\n",
    "print(SDM91[1][1],\" (+-) \",eSDM91[1][1])\n",
    "\n",
    "myfile.Close()"
   ]
  },
  {
   "cell_type": "markdown",
   "metadata": {},
   "source": [
    "Save all SDMs for the fiven t' in the file "
   ]
  },
  {
   "cell_type": "code",
   "execution_count": null,
   "metadata": {},
   "outputs": [],
   "source": [
    "myfile = ROOT.TFile(os.path.join(data_folder, 'hfit_0.100000-0.112853.root'))\n",
    "\n",
    "for b in range(1,101) :\n",
    "    SDM_b, eSDM_b = get_SDM(myfile,b)\n",
    "    save2file(os.path.join(sdm_folder, name, 'sdm'+str(b)), SDM_b)\n",
    "    save2file(os.path.join(sdm_folder, name, 'sdm'+str(b)+'-err'), eSDM_b)\n",
    "    \n",
    "myfile.Close()"
   ]
  },
  {
   "cell_type": "markdown",
   "metadata": {},
   "source": [
    "Save all SDMs form all t'-slices in files "
   ]
  },
  {
   "cell_type": "code",
   "execution_count": null,
   "metadata": {},
   "outputs": [],
   "source": [
    "for name in names :\n",
    "    print(name)\n",
    "    save_all_sdm(\n",
    "        os.path.join(data_folder, 'hfit_'+name+'.root'),\n",
    "        os.path.join(sdm_folder, name))"
   ]
  },
  {
   "cell_type": "markdown",
   "metadata": {},
   "source": [
    "### Systematic uncertainties"
   ]
  },
  {
   "cell_type": "markdown",
   "metadata": {},
   "source": [
    "Meanwhile, I did\n",
    "```bash\n",
    "cd /mnt/data/compass/2008/\n",
    "# create folders\n",
    "for i in $(ls flo_fit_results); do echo $i; mkdir flo_fit_results_txt/$i ; done \n",
    "# create subfolders with t-slices\n",
    "for i in $(ls flo_fit_results); do echo \"------> $i\"; for l in $(ls flo_fit_results/$i); do N=$(echo $l | sed \"s/hfit_//\" | sed \"s/.root//\"); echo $N; mkdir flo_fit_results_txt/$i/$N; done; done\n",
    "# copy foldes names\n",
    "for i in $(ls flo_fit_results_txt/); do echo \\\"$i\\\",; done\n",
    "# copy 22 t'-clices names\n",
    "for i in $(ls flo_fit_results/flo_88waves_22tbins); do N=$(echo $i | sed \"s/hfit_//\" | sed \"s/.root//\"); echo \\\"$N\\\",; done\n",
    "exit\n",
    "```"
   ]
  },
  {
   "cell_type": "code",
   "execution_count": null,
   "metadata": {},
   "outputs": [],
   "source": [
    "fold = \"/mnt/data/compass/2008\"\n",
    "#\n",
    "files=[(\"flo_88waves_best_11tbins\",100,88),\n",
    "    (\"flo_53waves_best_11tbins\",100,53),\n",
    "#     (\"flo_88waves_22tbins\",100,88), # that is special (see below)\n",
    "    (\"flo_88waves_coarse_ES\",100,88),\n",
    "    (\"flo_88waves_f0_980_BW\",100,88),\n",
    "    (\"flo_88waves_K1\",100,88),\n",
    "    (\"flo_88waves_no_neg_waves\",100,81)#,\n",
    "    (\"flo_88waves_rank2\",100,88)]"
   ]
  },
  {
   "cell_type": "code",
   "execution_count": null,
   "metadata": {},
   "outputs": [],
   "source": [
    "for ff in files :\n",
    "    fl = ff[0]\n",
    "    print(\"--->\",fl)\n",
    "    root_folder = fold+\"/flo_fit_results/\"    +fl+\"/\"\n",
    "    text_folder = fold+\"/flo_fit_results_txt/\"+fl+\"/\"\n",
    "    for name in names :\n",
    "        print(name)\n",
    "        save_all_sdm(root_folder+'hfit_'+name+'.root',\n",
    "                     text_folder+name, ff[1], ff[2])"
   ]
  },
  {
   "cell_type": "markdown",
   "metadata": {},
   "source": [
    "### Special file with 22 $t'$ bins"
   ]
  },
  {
   "cell_type": "code",
   "execution_count": null,
   "metadata": {},
   "outputs": [],
   "source": [
    "for ff in [(\"flo_88waves_22tbins\",100,88)] :\n",
    "    fl = ff[0]\n",
    "    print(\"--->\",fl)\n",
    "    root_folder = fold+\"/flo_fit_results/\"    +fl+\"/\"\n",
    "    text_folder = fold+\"/flo_fit_results_txt/\"+fl+\"/\"\n",
    "    for name in [\"0.100000-0.106427\",\n",
    "        \"0.106427-0.112853\",\n",
    "        \"0.112853-0.120162\",\n",
    "        \"0.120162-0.127471\",\n",
    "        \"0.127471-0.135928\",\n",
    "        \"0.135928-0.144385\",\n",
    "        \"0.144385-0.154399\",\n",
    "        \"0.154399-0.164401\",\n",
    "        \"0.164401-0.176609\",\n",
    "        \"0.176609-0.188816\",\n",
    "        \"0.188816-0.204362\",\n",
    "        \"0.204362-0.219907\",\n",
    "        \"0.219907-0.241042\",\n",
    "        \"0.241042-0.262177\",\n",
    "        \"0.262177-0.294228\",\n",
    "        \"0.294228-0.326380\",\n",
    "        \"0.326380-0.387484\",\n",
    "        \"0.387484-0.448588\",\n",
    "        \"0.448588-0.586441\",\n",
    "        \"0.586441-0.724294\",\n",
    "        \"0.724294-0.862147\",\n",
    "        \"0.862147-1.000000\"]:\n",
    "        print(name)\n",
    "        save_all_sdm(root_folder+'hfit_'+name+'.root',\n",
    "                     text_folder+name, ff[1], ff[2])"
   ]
  },
  {
   "cell_type": "code",
   "execution_count": null,
   "metadata": {},
   "outputs": [],
   "source": []
  }
 ],
 "metadata": {
  "kernelspec": {
   "display_name": "Python 3",
   "language": "python",
   "name": "python3"
  },
  "language_info": {
   "codemirror_mode": {
    "name": "ipython",
    "version": 3
   },
   "file_extension": ".py",
   "mimetype": "text/x-python",
   "name": "python",
   "nbconvert_exporter": "python",
   "pygments_lexer": "ipython3",
   "version": "3.10.8"
  }
 },
 "nbformat": 4,
 "nbformat_minor": 2
}
