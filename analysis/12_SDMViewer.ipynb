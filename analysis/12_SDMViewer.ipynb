{
 "cells": [
  {
   "cell_type": "markdown",
   "metadata": {},
   "source": [
    "# Spin-Density Matrix viewer\n",
    "The notebook gives interactive tools to plot SDM of the mass-independent analysis"
   ]
  },
  {
   "cell_type": "markdown",
   "metadata": {},
   "source": [
    "### Define methods to load the data\n",
    "The files are stored as simple text files with $88\\times88$ numbers\n",
    " - `.re` for the real part\n",
    " - `.im` for the imaginary part"
   ]
  },
  {
   "cell_type": "code",
   "execution_count": 14,
   "metadata": {},
   "outputs": [
    {
     "data": {
      "text/plain": [
       "loadSDMs (generic function with 1 method)"
      ]
     },
     "execution_count": 14,
     "metadata": {},
     "output_type": "execute_result"
    }
   ],
   "source": [
    "function loadSDMs(tname)\n",
    "    Nb = 100; Nw = 88\n",
    "    sdms = Array{Complex{Float64},3}(Nb,Nw,Nw);\n",
    "    sdmes = Array{Complex{Float64},3}(Nb,Nw,Nw);\n",
    "    for i in 1:Nb\n",
    "        sdm  = readdlm(\"$(tname)/sdm$(i).re\")+1im*readdlm(\"$(tname)/sdm$(i).im\")\n",
    "        sdme = readdlm(\"$(tname)/sdm$(i)-err.re\")+1im*readdlm(\"$(tname)/sdm$(i)-err.im\")\n",
    "        sdms[i,:,:] .= sdm\n",
    "        sdmes[i,:,:] .= sdme\n",
    "    end\n",
    "    return sdms, sdmes\n",
    "end"
   ]
  },
  {
   "cell_type": "code",
   "execution_count": 21,
   "metadata": {},
   "outputs": [],
   "source": [
    "bins = linspace(0.5,2.5,101);\n",
    "mnXb = collect(bins)[1:end-1]+0.01;"
   ]
  },
  {
   "cell_type": "code",
   "execution_count": 182,
   "metadata": {},
   "outputs": [],
   "source": [
    "using Plots\n",
    "using Interact\n",
    "using DataStructures"
   ]
  },
  {
   "cell_type": "code",
   "execution_count": 46,
   "metadata": {},
   "outputs": [],
   "source": [
    "push!(LOAD_PATH,\"src\")\n",
    "using amplitudes_compass: wavenames"
   ]
  },
  {
   "cell_type": "code",
   "execution_count": 65,
   "metadata": {},
   "outputs": [
    {
     "name": "stderr",
     "output_type": "stream",
     "text": [
      "WARNING: redefining constant tprime_names\n"
     ]
    }
   ],
   "source": [
    "const tprime_names = [\"0.100000-0.112853\", \"0.112853-0.127471\", \"0.127471-0.144385\", \"0.144385-0.164401\",\n",
    "    \"0.164401-0.188816\", \"0.188816-0.219907\", \"0.219907-0.262177\", \"0.262177-0.326380\", \"0.326380-0.448588\", \n",
    "    \"0.448588-0.724294\", \"0.724294-1.000000\"];"
   ]
  },
  {
   "cell_type": "code",
   "execution_count": 68,
   "metadata": {},
   "outputs": [
    {
     "data": {
      "text/plain": [
       "combineSDMsFromTprime (generic function with 1 method)"
      ]
     },
     "execution_count": 68,
     "metadata": {},
     "output_type": "execute_result"
    }
   ],
   "source": [
    "function combineSDMsFromTprime(folder)\n",
    "    Nt=11; Nb = 100; Nw = 88\n",
    "    sdms = Array{Complex{Float64},4}(Nt,Nb,Nw,Nw);\n",
    "    sdmes = Array{Complex{Float64},4}(Nt,Nb,Nw,Nw);\n",
    "    for (t,tname) in enumerate(tprime_names)\n",
    "        println(joinpath(folder,tname))\n",
    "        SDMs, SDMes = loadSDMs(joinpath(folder,tname));\n",
    "        sdms[t,:,:,:] .= SDMs\n",
    "        sdmes[t,:,:,:] .= SDMes\n",
    "    end\n",
    "    sdms, sdmes\n",
    "end"
   ]
  },
  {
   "cell_type": "markdown",
   "metadata": {},
   "source": [
    "### Read in the partial wave results"
   ]
  },
  {
   "cell_type": "code",
   "execution_count": 69,
   "metadata": {},
   "outputs": [
    {
     "name": "stdout",
     "output_type": "stream",
     "text": [
      "SDMs/0.100000-0.112853\n",
      "SDMs/0.112853-0.127471\n",
      "SDMs/0.127471-0.144385\n",
      "SDMs/0.144385-0.164401\n",
      "SDMs/0.164401-0.188816\n",
      "SDMs/0.188816-0.219907\n",
      "SDMs/0.219907-0.262177\n",
      "SDMs/0.262177-0.326380\n",
      "SDMs/0.326380-0.448588\n",
      "SDMs/0.448588-0.724294\n",
      "SDMs/0.724294-1.000000\n",
      " 47.260696 seconds (68.32 M allocations: 4.417 GiB, 3.92% gc time)\n"
     ]
    }
   ],
   "source": [
    "@time all_SDMs, all_SDMes = combineSDMsFromTprime(\"SDMs\");"
   ]
  },
  {
   "cell_type": "code",
   "execution_count": 61,
   "metadata": {},
   "outputs": [
    {
     "data": {
      "text/plain": [
       "(11, 100, 88, 88)"
      ]
     },
     "execution_count": 61,
     "metadata": {},
     "output_type": "execute_result"
    }
   ],
   "source": [
    "size(all_SDMs)"
   ]
  },
  {
   "cell_type": "code",
   "execution_count": 77,
   "metadata": {},
   "outputs": [
    {
     "data": {
      "text/html": [],
      "text/plain": [
       "Interact.Options{:SelectionSlider,Int64}(135: \"input-49\" = 44 Int64 , \"wavei\", 44, \"44\", 44, Interact.OptionDict(DataStructures.OrderedDict(\"1\"=>1,\"2\"=>2,\"3\"=>3,\"4\"=>4,\"5\"=>5,\"6\"=>6,\"7\"=>7,\"8\"=>8,\"9\"=>9,\"10\"=>10…), Dict(68=>\"68\",2=>\"2\",11=>\"11\",39=>\"39\",46=>\"46\",85=>\"85\",25=>\"25\",55=>\"55\",42=>\"42\",29=>\"29\"…)), Any[], Any[], true, \"horizontal\", true)"
      ]
     },
     "metadata": {},
     "output_type": "display_data"
    },
    {
     "data": {
      "text/html": [],
      "text/plain": [
       "Interact.Options{:SelectionSlider,Int64}(137: \"input-50\" = 6 Int64 , \"trimei\", 6, \"6\", 6, Interact.OptionDict(DataStructures.OrderedDict(\"1\"=>1,\"2\"=>2,\"3\"=>3,\"4\"=>4,\"5\"=>5,\"6\"=>6,\"7\"=>7,\"8\"=>8,\"9\"=>9,\"10\"=>10…), Dict(2=>\"2\",11=>\"11\",7=>\"7\",9=>\"9\",10=>\"10\",8=>\"8\",6=>\"6\",4=>\"4\",3=>\"3\",5=>\"5\"…)), Any[], Any[], true, \"horizontal\", true)"
      ]
     },
     "metadata": {},
     "output_type": "display_data"
    },
    {
     "data": {
      "text/html": [],
      "text/plain": [
       "Interact.Options{:ToggleButtons,Any}(139: \"input-51\" = auto Any , \"scale\", :auto, \"auto\", 1, Interact.OptionDict(DataStructures.OrderedDict{String,Any}(\"auto\"=>:auto,\"fixed\"=>(0, 240000)), Dict{Any,String}(Pair{Any,String}(:auto, \"auto\"),Pair{Any,String}((0, 240000), \"fixed\"))), Any[], Any[], true, \"horizontal\", true)"
      ]
     },
     "metadata": {},
     "output_type": "display_data"
    },
    {
     "data": {
      "image/svg+xml": [
       "<?xml version=\"1.0\" encoding=\"utf-8\"?>\n",
       "<svg xmlns=\"http://www.w3.org/2000/svg\" xmlns:xlink=\"http://www.w3.org/1999/xlink\" width=\"600\" height=\"400\" viewBox=\"0 0 600 400\">\n",
       "<defs>\n",
       "  <clipPath id=\"clip00\">\n",
       "    <rect x=\"0\" y=\"0\" width=\"600\" height=\"400\"/>\n",
       "  </clipPath>\n",
       "</defs>\n",
       "<polygon clip-path=\"url(#clip2500)\" points=\"\n",
       "0,400 600,400 600,0 0,0 \n",
       "  \" fill=\"#ffffff\" fill-opacity=\"1\"/>\n",
       "<defs>\n",
       "  <clipPath id=\"clip01\">\n",
       "    <rect x=\"120\" y=\"0\" width=\"421\" height=\"400\"/>\n",
       "  </clipPath>\n",
       "</defs>\n",
       "<polygon clip-path=\"url(#clip2500)\" points=\"\n",
       "43.3909,375.813 580.315,375.813 580.315,11.811 43.3909,11.811 \n",
       "  \" fill=\"#ffffff\" fill-opacity=\"1\"/>\n",
       "<defs>\n",
       "  <clipPath id=\"clip02\">\n",
       "    <rect x=\"43\" y=\"11\" width=\"538\" height=\"365\"/>\n",
       "  </clipPath>\n",
       "</defs>\n",
       "<polyline clip-path=\"url(#clip2502)\" style=\"stroke:#000000; stroke-width:0.5; stroke-opacity:0.1; fill:none\" points=\"\n",
       "  56.0287,375.813 56.0287,11.811 \n",
       "  \"/>\n",
       "<polyline clip-path=\"url(#clip2502)\" style=\"stroke:#000000; stroke-width:0.5; stroke-opacity:0.1; fill:none\" points=\"\n",
       "  183.941,375.813 183.941,11.811 \n",
       "  \"/>\n",
       "<polyline clip-path=\"url(#clip2502)\" style=\"stroke:#000000; stroke-width:0.5; stroke-opacity:0.1; fill:none\" points=\"\n",
       "  311.853,375.813 311.853,11.811 \n",
       "  \"/>\n",
       "<polyline clip-path=\"url(#clip2502)\" style=\"stroke:#000000; stroke-width:0.5; stroke-opacity:0.1; fill:none\" points=\"\n",
       "  439.765,375.813 439.765,11.811 \n",
       "  \"/>\n",
       "<polyline clip-path=\"url(#clip2502)\" style=\"stroke:#000000; stroke-width:0.5; stroke-opacity:0.1; fill:none\" points=\"\n",
       "  567.677,375.813 567.677,11.811 \n",
       "  \"/>\n",
       "<polyline clip-path=\"url(#clip2502)\" style=\"stroke:#000000; stroke-width:0.5; stroke-opacity:0.1; fill:none\" points=\"\n",
       "  43.3909,362.579 580.315,362.579 \n",
       "  \"/>\n",
       "<polyline clip-path=\"url(#clip2502)\" style=\"stroke:#000000; stroke-width:0.5; stroke-opacity:0.1; fill:none\" points=\"\n",
       "  43.3909,280.85 580.315,280.85 \n",
       "  \"/>\n",
       "<polyline clip-path=\"url(#clip2502)\" style=\"stroke:#000000; stroke-width:0.5; stroke-opacity:0.1; fill:none\" points=\"\n",
       "  43.3909,199.121 580.315,199.121 \n",
       "  \"/>\n",
       "<polyline clip-path=\"url(#clip2502)\" style=\"stroke:#000000; stroke-width:0.5; stroke-opacity:0.1; fill:none\" points=\"\n",
       "  43.3909,117.392 580.315,117.392 \n",
       "  \"/>\n",
       "<polyline clip-path=\"url(#clip2502)\" style=\"stroke:#000000; stroke-width:0.5; stroke-opacity:0.1; fill:none\" points=\"\n",
       "  43.3909,35.6627 580.315,35.6627 \n",
       "  \"/>\n",
       "<polyline clip-path=\"url(#clip2500)\" style=\"stroke:#000000; stroke-width:1; stroke-opacity:1; fill:none\" points=\"\n",
       "  43.3909,375.813 580.315,375.813 \n",
       "  \"/>\n",
       "<polyline clip-path=\"url(#clip2500)\" style=\"stroke:#000000; stroke-width:1; stroke-opacity:1; fill:none\" points=\"\n",
       "  43.3909,375.813 43.3909,11.811 \n",
       "  \"/>\n",
       "<polyline clip-path=\"url(#clip2500)\" style=\"stroke:#000000; stroke-width:1; stroke-opacity:1; fill:none\" points=\"\n",
       "  56.0287,375.813 56.0287,370.353 \n",
       "  \"/>\n",
       "<polyline clip-path=\"url(#clip2500)\" style=\"stroke:#000000; stroke-width:1; stroke-opacity:1; fill:none\" points=\"\n",
       "  183.941,375.813 183.941,370.353 \n",
       "  \"/>\n",
       "<polyline clip-path=\"url(#clip2500)\" style=\"stroke:#000000; stroke-width:1; stroke-opacity:1; fill:none\" points=\"\n",
       "  311.853,375.813 311.853,370.353 \n",
       "  \"/>\n",
       "<polyline clip-path=\"url(#clip2500)\" style=\"stroke:#000000; stroke-width:1; stroke-opacity:1; fill:none\" points=\"\n",
       "  439.765,375.813 439.765,370.353 \n",
       "  \"/>\n",
       "<polyline clip-path=\"url(#clip2500)\" style=\"stroke:#000000; stroke-width:1; stroke-opacity:1; fill:none\" points=\"\n",
       "  567.677,375.813 567.677,370.353 \n",
       "  \"/>\n",
       "<polyline clip-path=\"url(#clip2500)\" style=\"stroke:#000000; stroke-width:1; stroke-opacity:1; fill:none\" points=\"\n",
       "  43.3909,362.579 51.4448,362.579 \n",
       "  \"/>\n",
       "<polyline clip-path=\"url(#clip2500)\" style=\"stroke:#000000; stroke-width:1; stroke-opacity:1; fill:none\" points=\"\n",
       "  43.3909,280.85 51.4448,280.85 \n",
       "  \"/>\n",
       "<polyline clip-path=\"url(#clip2500)\" style=\"stroke:#000000; stroke-width:1; stroke-opacity:1; fill:none\" points=\"\n",
       "  43.3909,199.121 51.4448,199.121 \n",
       "  \"/>\n",
       "<polyline clip-path=\"url(#clip2500)\" style=\"stroke:#000000; stroke-width:1; stroke-opacity:1; fill:none\" points=\"\n",
       "  43.3909,117.392 51.4448,117.392 \n",
       "  \"/>\n",
       "<polyline clip-path=\"url(#clip2500)\" style=\"stroke:#000000; stroke-width:1; stroke-opacity:1; fill:none\" points=\"\n",
       "  43.3909,35.6627 51.4448,35.6627 \n",
       "  \"/>\n",
       "<g clip-path=\"url(#clip2500)\">\n",
       "<text style=\"fill:#000000; fill-opacity:1; font-family:Arial,Helvetica Neue,Helvetica,sans-serif; font-size:12; text-anchor:middle;\" transform=\"rotate(0, 56.0287, 389.613)\" x=\"56.0287\" y=\"389.613\">0.5</text>\n",
       "</g>\n",
       "<g clip-path=\"url(#clip2500)\">\n",
       "<text style=\"fill:#000000; fill-opacity:1; font-family:Arial,Helvetica Neue,Helvetica,sans-serif; font-size:12; text-anchor:middle;\" transform=\"rotate(0, 183.941, 389.613)\" x=\"183.941\" y=\"389.613\">1.0</text>\n",
       "</g>\n",
       "<g clip-path=\"url(#clip2500)\">\n",
       "<text style=\"fill:#000000; fill-opacity:1; font-family:Arial,Helvetica Neue,Helvetica,sans-serif; font-size:12; text-anchor:middle;\" transform=\"rotate(0, 311.853, 389.613)\" x=\"311.853\" y=\"389.613\">1.5</text>\n",
       "</g>\n",
       "<g clip-path=\"url(#clip2500)\">\n",
       "<text style=\"fill:#000000; fill-opacity:1; font-family:Arial,Helvetica Neue,Helvetica,sans-serif; font-size:12; text-anchor:middle;\" transform=\"rotate(0, 439.765, 389.613)\" x=\"439.765\" y=\"389.613\">2.0</text>\n",
       "</g>\n",
       "<g clip-path=\"url(#clip2500)\">\n",
       "<text style=\"fill:#000000; fill-opacity:1; font-family:Arial,Helvetica Neue,Helvetica,sans-serif; font-size:12; text-anchor:middle;\" transform=\"rotate(0, 567.677, 389.613)\" x=\"567.677\" y=\"389.613\">2.5</text>\n",
       "</g>\n",
       "<g clip-path=\"url(#clip2500)\">\n",
       "<text style=\"fill:#000000; fill-opacity:1; font-family:Arial,Helvetica Neue,Helvetica,sans-serif; font-size:12; text-anchor:end;\" transform=\"rotate(0, 37.3909, 367.079)\" x=\"37.3909\" y=\"367.079\">0</text>\n",
       "</g>\n",
       "<g clip-path=\"url(#clip2500)\">\n",
       "<text style=\"fill:#000000; fill-opacity:1; font-family:Arial,Helvetica Neue,Helvetica,sans-serif; font-size:12; text-anchor:end;\" transform=\"rotate(0, 37.3909, 285.35)\" x=\"37.3909\" y=\"285.35\">50</text>\n",
       "</g>\n",
       "<g clip-path=\"url(#clip2500)\">\n",
       "<text style=\"fill:#000000; fill-opacity:1; font-family:Arial,Helvetica Neue,Helvetica,sans-serif; font-size:12; text-anchor:end;\" transform=\"rotate(0, 37.3909, 203.621)\" x=\"37.3909\" y=\"203.621\">100</text>\n",
       "</g>\n",
       "<g clip-path=\"url(#clip2500)\">\n",
       "<text style=\"fill:#000000; fill-opacity:1; font-family:Arial,Helvetica Neue,Helvetica,sans-serif; font-size:12; text-anchor:end;\" transform=\"rotate(0, 37.3909, 121.892)\" x=\"37.3909\" y=\"121.892\">150</text>\n",
       "</g>\n",
       "<g clip-path=\"url(#clip2500)\">\n",
       "<text style=\"fill:#000000; fill-opacity:1; font-family:Arial,Helvetica Neue,Helvetica,sans-serif; font-size:12; text-anchor:end;\" transform=\"rotate(0, 37.3909, 40.1627)\" x=\"37.3909\" y=\"40.1627\">200</text>\n",
       "</g>\n",
       "<polyline clip-path=\"url(#clip2502)\" style=\"stroke:#000000; stroke-width:1; stroke-opacity:0; fill:none\" points=\"\n",
       "  58.5869,362.579 63.7034,362.579 68.8199,362.579 73.9364,362.579 79.0528,362.579 84.1693,362.579 89.2858,362.579 94.4023,362.579 99.5188,362.579 104.635,362.579 \n",
       "  109.752,362.579 114.868,362.579 119.985,362.579 125.101,362.579 130.218,362.579 135.334,362.579 140.451,362.579 145.567,362.579 150.684,362.579 155.8,362.579 \n",
       "  160.917,362.579 166.033,362.579 171.15,362.579 176.266,362.579 181.383,362.579 186.499,362.579 191.616,362.579 196.732,362.579 201.849,362.579 206.965,362.579 \n",
       "  212.081,362.579 217.198,362.579 222.314,362.579 227.431,362.579 232.547,362.579 237.664,362.579 242.78,362.579 247.897,362.579 253.013,362.579 258.13,362.579 \n",
       "  263.246,362.579 268.363,362.579 273.479,355.601 278.596,356.243 283.712,352.169 288.829,336.013 293.945,306.103 299.062,318.058 304.178,328.874 309.295,344.093 \n",
       "  314.411,340.148 319.528,353.459 324.644,328.387 329.761,361.228 334.877,342.18 339.994,340.374 345.11,302.406 350.227,271.968 355.343,271.453 360.46,182.937 \n",
       "  365.576,258.725 370.693,79.0865 375.809,165.978 380.926,168.716 386.042,155.215 391.158,100.588 396.275,155.021 401.391,109.869 406.508,131.402 411.624,234.628 \n",
       "  416.741,210.256 421.857,225.235 426.974,253.196 432.09,303.677 437.207,218.748 442.323,115.078 447.44,165.167 452.556,257.727 457.673,239.456 462.789,286.76 \n",
       "  467.906,258.528 473.022,242.214 478.139,329.527 483.255,268.964 488.372,331.213 493.488,332.069 498.605,330.928 503.721,274.368 508.838,344.41 513.954,332.755 \n",
       "  519.071,347.201 524.187,345.006 529.304,332.043 534.42,332.608 539.537,356.117 544.653,343.756 549.77,361.992 554.886,360.073 560.003,362.205 565.119,289.511 \n",
       "  \n",
       "  \"/>\n",
       "<circle clip-path=\"url(#clip2502)\" style=\"fill:#000000; stroke:none; fill-opacity:1\" cx=\"58.5869\" cy=\"362.579\" r=\"2\"/>\n",
       "<circle clip-path=\"url(#clip2502)\" style=\"fill:#009af9; stroke:none; fill-opacity:1\" cx=\"58.5869\" cy=\"362.579\" r=\"1\"/>\n",
       "<circle clip-path=\"url(#clip2502)\" style=\"fill:#000000; stroke:none; fill-opacity:1\" cx=\"63.7034\" cy=\"362.579\" r=\"2\"/>\n",
       "<circle clip-path=\"url(#clip2502)\" style=\"fill:#009af9; stroke:none; fill-opacity:1\" cx=\"63.7034\" cy=\"362.579\" r=\"1\"/>\n",
       "<circle clip-path=\"url(#clip2502)\" style=\"fill:#000000; stroke:none; fill-opacity:1\" cx=\"68.8199\" cy=\"362.579\" r=\"2\"/>\n",
       "<circle clip-path=\"url(#clip2502)\" style=\"fill:#009af9; stroke:none; fill-opacity:1\" cx=\"68.8199\" cy=\"362.579\" r=\"1\"/>\n",
       "<circle clip-path=\"url(#clip2502)\" style=\"fill:#000000; stroke:none; fill-opacity:1\" cx=\"73.9364\" cy=\"362.579\" r=\"2\"/>\n",
       "<circle clip-path=\"url(#clip2502)\" style=\"fill:#009af9; stroke:none; fill-opacity:1\" cx=\"73.9364\" cy=\"362.579\" r=\"1\"/>\n",
       "<circle clip-path=\"url(#clip2502)\" style=\"fill:#000000; stroke:none; fill-opacity:1\" cx=\"79.0528\" cy=\"362.579\" r=\"2\"/>\n",
       "<circle clip-path=\"url(#clip2502)\" style=\"fill:#009af9; stroke:none; fill-opacity:1\" cx=\"79.0528\" cy=\"362.579\" r=\"1\"/>\n",
       "<circle clip-path=\"url(#clip2502)\" style=\"fill:#000000; stroke:none; fill-opacity:1\" cx=\"84.1693\" cy=\"362.579\" r=\"2\"/>\n",
       "<circle clip-path=\"url(#clip2502)\" style=\"fill:#009af9; stroke:none; fill-opacity:1\" cx=\"84.1693\" cy=\"362.579\" r=\"1\"/>\n",
       "<circle clip-path=\"url(#clip2502)\" style=\"fill:#000000; stroke:none; fill-opacity:1\" cx=\"89.2858\" cy=\"362.579\" r=\"2\"/>\n",
       "<circle clip-path=\"url(#clip2502)\" style=\"fill:#009af9; stroke:none; fill-opacity:1\" cx=\"89.2858\" cy=\"362.579\" r=\"1\"/>\n",
       "<circle clip-path=\"url(#clip2502)\" style=\"fill:#000000; stroke:none; fill-opacity:1\" cx=\"94.4023\" cy=\"362.579\" r=\"2\"/>\n",
       "<circle clip-path=\"url(#clip2502)\" style=\"fill:#009af9; stroke:none; fill-opacity:1\" cx=\"94.4023\" cy=\"362.579\" r=\"1\"/>\n",
       "<circle clip-path=\"url(#clip2502)\" style=\"fill:#000000; stroke:none; fill-opacity:1\" cx=\"99.5188\" cy=\"362.579\" r=\"2\"/>\n",
       "<circle clip-path=\"url(#clip2502)\" style=\"fill:#009af9; stroke:none; fill-opacity:1\" cx=\"99.5188\" cy=\"362.579\" r=\"1\"/>\n",
       "<circle clip-path=\"url(#clip2502)\" style=\"fill:#000000; stroke:none; fill-opacity:1\" cx=\"104.635\" cy=\"362.579\" r=\"2\"/>\n",
       "<circle clip-path=\"url(#clip2502)\" style=\"fill:#009af9; stroke:none; fill-opacity:1\" cx=\"104.635\" cy=\"362.579\" r=\"1\"/>\n",
       "<circle clip-path=\"url(#clip2502)\" style=\"fill:#000000; stroke:none; fill-opacity:1\" cx=\"109.752\" cy=\"362.579\" r=\"2\"/>\n",
       "<circle clip-path=\"url(#clip2502)\" style=\"fill:#009af9; stroke:none; fill-opacity:1\" cx=\"109.752\" cy=\"362.579\" r=\"1\"/>\n",
       "<circle clip-path=\"url(#clip2502)\" style=\"fill:#000000; stroke:none; fill-opacity:1\" cx=\"114.868\" cy=\"362.579\" r=\"2\"/>\n",
       "<circle clip-path=\"url(#clip2502)\" style=\"fill:#009af9; stroke:none; fill-opacity:1\" cx=\"114.868\" cy=\"362.579\" r=\"1\"/>\n",
       "<circle clip-path=\"url(#clip2502)\" style=\"fill:#000000; stroke:none; fill-opacity:1\" cx=\"119.985\" cy=\"362.579\" r=\"2\"/>\n",
       "<circle clip-path=\"url(#clip2502)\" style=\"fill:#009af9; stroke:none; fill-opacity:1\" cx=\"119.985\" cy=\"362.579\" r=\"1\"/>\n",
       "<circle clip-path=\"url(#clip2502)\" style=\"fill:#000000; stroke:none; fill-opacity:1\" cx=\"125.101\" cy=\"362.579\" r=\"2\"/>\n",
       "<circle clip-path=\"url(#clip2502)\" style=\"fill:#009af9; stroke:none; fill-opacity:1\" cx=\"125.101\" cy=\"362.579\" r=\"1\"/>\n",
       "<circle clip-path=\"url(#clip2502)\" style=\"fill:#000000; stroke:none; fill-opacity:1\" cx=\"130.218\" cy=\"362.579\" r=\"2\"/>\n",
       "<circle clip-path=\"url(#clip2502)\" style=\"fill:#009af9; stroke:none; fill-opacity:1\" cx=\"130.218\" cy=\"362.579\" r=\"1\"/>\n",
       "<circle clip-path=\"url(#clip2502)\" style=\"fill:#000000; stroke:none; fill-opacity:1\" cx=\"135.334\" cy=\"362.579\" r=\"2\"/>\n",
       "<circle clip-path=\"url(#clip2502)\" style=\"fill:#009af9; stroke:none; fill-opacity:1\" cx=\"135.334\" cy=\"362.579\" r=\"1\"/>\n",
       "<circle clip-path=\"url(#clip2502)\" style=\"fill:#000000; stroke:none; fill-opacity:1\" cx=\"140.451\" cy=\"362.579\" r=\"2\"/>\n",
       "<circle clip-path=\"url(#clip2502)\" style=\"fill:#009af9; stroke:none; fill-opacity:1\" cx=\"140.451\" cy=\"362.579\" r=\"1\"/>\n",
       "<circle clip-path=\"url(#clip2502)\" style=\"fill:#000000; stroke:none; fill-opacity:1\" cx=\"145.567\" cy=\"362.579\" r=\"2\"/>\n",
       "<circle clip-path=\"url(#clip2502)\" style=\"fill:#009af9; stroke:none; fill-opacity:1\" cx=\"145.567\" cy=\"362.579\" r=\"1\"/>\n",
       "<circle clip-path=\"url(#clip2502)\" style=\"fill:#000000; stroke:none; fill-opacity:1\" cx=\"150.684\" cy=\"362.579\" r=\"2\"/>\n",
       "<circle clip-path=\"url(#clip2502)\" style=\"fill:#009af9; stroke:none; fill-opacity:1\" cx=\"150.684\" cy=\"362.579\" r=\"1\"/>\n",
       "<circle clip-path=\"url(#clip2502)\" style=\"fill:#000000; stroke:none; fill-opacity:1\" cx=\"155.8\" cy=\"362.579\" r=\"2\"/>\n",
       "<circle clip-path=\"url(#clip2502)\" style=\"fill:#009af9; stroke:none; fill-opacity:1\" cx=\"155.8\" cy=\"362.579\" r=\"1\"/>\n",
       "<circle clip-path=\"url(#clip2502)\" style=\"fill:#000000; stroke:none; fill-opacity:1\" cx=\"160.917\" cy=\"362.579\" r=\"2\"/>\n",
       "<circle clip-path=\"url(#clip2502)\" style=\"fill:#009af9; stroke:none; fill-opacity:1\" cx=\"160.917\" cy=\"362.579\" r=\"1\"/>\n",
       "<circle clip-path=\"url(#clip2502)\" style=\"fill:#000000; stroke:none; fill-opacity:1\" cx=\"166.033\" cy=\"362.579\" r=\"2\"/>\n",
       "<circle clip-path=\"url(#clip2502)\" style=\"fill:#009af9; stroke:none; fill-opacity:1\" cx=\"166.033\" cy=\"362.579\" r=\"1\"/>\n",
       "<circle clip-path=\"url(#clip2502)\" style=\"fill:#000000; stroke:none; fill-opacity:1\" cx=\"171.15\" cy=\"362.579\" r=\"2\"/>\n",
       "<circle clip-path=\"url(#clip2502)\" style=\"fill:#009af9; stroke:none; fill-opacity:1\" cx=\"171.15\" cy=\"362.579\" r=\"1\"/>\n",
       "<circle clip-path=\"url(#clip2502)\" style=\"fill:#000000; stroke:none; fill-opacity:1\" cx=\"176.266\" cy=\"362.579\" r=\"2\"/>\n",
       "<circle clip-path=\"url(#clip2502)\" style=\"fill:#009af9; stroke:none; fill-opacity:1\" cx=\"176.266\" cy=\"362.579\" r=\"1\"/>\n",
       "<circle clip-path=\"url(#clip2502)\" style=\"fill:#000000; stroke:none; fill-opacity:1\" cx=\"181.383\" cy=\"362.579\" r=\"2\"/>\n",
       "<circle clip-path=\"url(#clip2502)\" style=\"fill:#009af9; stroke:none; fill-opacity:1\" cx=\"181.383\" cy=\"362.579\" r=\"1\"/>\n",
       "<circle clip-path=\"url(#clip2502)\" style=\"fill:#000000; stroke:none; fill-opacity:1\" cx=\"186.499\" cy=\"362.579\" r=\"2\"/>\n",
       "<circle clip-path=\"url(#clip2502)\" style=\"fill:#009af9; stroke:none; fill-opacity:1\" cx=\"186.499\" cy=\"362.579\" r=\"1\"/>\n",
       "<circle clip-path=\"url(#clip2502)\" style=\"fill:#000000; stroke:none; fill-opacity:1\" cx=\"191.616\" cy=\"362.579\" r=\"2\"/>\n",
       "<circle clip-path=\"url(#clip2502)\" style=\"fill:#009af9; stroke:none; fill-opacity:1\" cx=\"191.616\" cy=\"362.579\" r=\"1\"/>\n",
       "<circle clip-path=\"url(#clip2502)\" style=\"fill:#000000; stroke:none; fill-opacity:1\" cx=\"196.732\" cy=\"362.579\" r=\"2\"/>\n",
       "<circle clip-path=\"url(#clip2502)\" style=\"fill:#009af9; stroke:none; fill-opacity:1\" cx=\"196.732\" cy=\"362.579\" r=\"1\"/>\n",
       "<circle clip-path=\"url(#clip2502)\" style=\"fill:#000000; stroke:none; fill-opacity:1\" cx=\"201.849\" cy=\"362.579\" r=\"2\"/>\n",
       "<circle clip-path=\"url(#clip2502)\" style=\"fill:#009af9; stroke:none; fill-opacity:1\" cx=\"201.849\" cy=\"362.579\" r=\"1\"/>\n",
       "<circle clip-path=\"url(#clip2502)\" style=\"fill:#000000; stroke:none; fill-opacity:1\" cx=\"206.965\" cy=\"362.579\" r=\"2\"/>\n",
       "<circle clip-path=\"url(#clip2502)\" style=\"fill:#009af9; stroke:none; fill-opacity:1\" cx=\"206.965\" cy=\"362.579\" r=\"1\"/>\n",
       "<circle clip-path=\"url(#clip2502)\" style=\"fill:#000000; stroke:none; fill-opacity:1\" cx=\"212.081\" cy=\"362.579\" r=\"2\"/>\n",
       "<circle clip-path=\"url(#clip2502)\" style=\"fill:#009af9; stroke:none; fill-opacity:1\" cx=\"212.081\" cy=\"362.579\" r=\"1\"/>\n",
       "<circle clip-path=\"url(#clip2502)\" style=\"fill:#000000; stroke:none; fill-opacity:1\" cx=\"217.198\" cy=\"362.579\" r=\"2\"/>\n",
       "<circle clip-path=\"url(#clip2502)\" style=\"fill:#009af9; stroke:none; fill-opacity:1\" cx=\"217.198\" cy=\"362.579\" r=\"1\"/>\n",
       "<circle clip-path=\"url(#clip2502)\" style=\"fill:#000000; stroke:none; fill-opacity:1\" cx=\"222.314\" cy=\"362.579\" r=\"2\"/>\n",
       "<circle clip-path=\"url(#clip2502)\" style=\"fill:#009af9; stroke:none; fill-opacity:1\" cx=\"222.314\" cy=\"362.579\" r=\"1\"/>\n",
       "<circle clip-path=\"url(#clip2502)\" style=\"fill:#000000; stroke:none; fill-opacity:1\" cx=\"227.431\" cy=\"362.579\" r=\"2\"/>\n",
       "<circle clip-path=\"url(#clip2502)\" style=\"fill:#009af9; stroke:none; fill-opacity:1\" cx=\"227.431\" cy=\"362.579\" r=\"1\"/>\n",
       "<circle clip-path=\"url(#clip2502)\" style=\"fill:#000000; stroke:none; fill-opacity:1\" cx=\"232.547\" cy=\"362.579\" r=\"2\"/>\n",
       "<circle clip-path=\"url(#clip2502)\" style=\"fill:#009af9; stroke:none; fill-opacity:1\" cx=\"232.547\" cy=\"362.579\" r=\"1\"/>\n",
       "<circle clip-path=\"url(#clip2502)\" style=\"fill:#000000; stroke:none; fill-opacity:1\" cx=\"237.664\" cy=\"362.579\" r=\"2\"/>\n",
       "<circle clip-path=\"url(#clip2502)\" style=\"fill:#009af9; stroke:none; fill-opacity:1\" cx=\"237.664\" cy=\"362.579\" r=\"1\"/>\n",
       "<circle clip-path=\"url(#clip2502)\" style=\"fill:#000000; stroke:none; fill-opacity:1\" cx=\"242.78\" cy=\"362.579\" r=\"2\"/>\n",
       "<circle clip-path=\"url(#clip2502)\" style=\"fill:#009af9; stroke:none; fill-opacity:1\" cx=\"242.78\" cy=\"362.579\" r=\"1\"/>\n",
       "<circle clip-path=\"url(#clip2502)\" style=\"fill:#000000; stroke:none; fill-opacity:1\" cx=\"247.897\" cy=\"362.579\" r=\"2\"/>\n",
       "<circle clip-path=\"url(#clip2502)\" style=\"fill:#009af9; stroke:none; fill-opacity:1\" cx=\"247.897\" cy=\"362.579\" r=\"1\"/>\n",
       "<circle clip-path=\"url(#clip2502)\" style=\"fill:#000000; stroke:none; fill-opacity:1\" cx=\"253.013\" cy=\"362.579\" r=\"2\"/>\n",
       "<circle clip-path=\"url(#clip2502)\" style=\"fill:#009af9; stroke:none; fill-opacity:1\" cx=\"253.013\" cy=\"362.579\" r=\"1\"/>\n",
       "<circle clip-path=\"url(#clip2502)\" style=\"fill:#000000; stroke:none; fill-opacity:1\" cx=\"258.13\" cy=\"362.579\" r=\"2\"/>\n",
       "<circle clip-path=\"url(#clip2502)\" style=\"fill:#009af9; stroke:none; fill-opacity:1\" cx=\"258.13\" cy=\"362.579\" r=\"1\"/>\n",
       "<circle clip-path=\"url(#clip2502)\" style=\"fill:#000000; stroke:none; fill-opacity:1\" cx=\"263.246\" cy=\"362.579\" r=\"2\"/>\n",
       "<circle clip-path=\"url(#clip2502)\" style=\"fill:#009af9; stroke:none; fill-opacity:1\" cx=\"263.246\" cy=\"362.579\" r=\"1\"/>\n",
       "<circle clip-path=\"url(#clip2502)\" style=\"fill:#000000; stroke:none; fill-opacity:1\" cx=\"268.363\" cy=\"362.579\" r=\"2\"/>\n",
       "<circle clip-path=\"url(#clip2502)\" style=\"fill:#009af9; stroke:none; fill-opacity:1\" cx=\"268.363\" cy=\"362.579\" r=\"1\"/>\n",
       "<circle clip-path=\"url(#clip2502)\" style=\"fill:#000000; stroke:none; fill-opacity:1\" cx=\"273.479\" cy=\"355.601\" r=\"2\"/>\n",
       "<circle clip-path=\"url(#clip2502)\" style=\"fill:#009af9; stroke:none; fill-opacity:1\" cx=\"273.479\" cy=\"355.601\" r=\"1\"/>\n",
       "<circle clip-path=\"url(#clip2502)\" style=\"fill:#000000; stroke:none; fill-opacity:1\" cx=\"278.596\" cy=\"356.243\" r=\"2\"/>\n",
       "<circle clip-path=\"url(#clip2502)\" style=\"fill:#009af9; stroke:none; fill-opacity:1\" cx=\"278.596\" cy=\"356.243\" r=\"1\"/>\n",
       "<circle clip-path=\"url(#clip2502)\" style=\"fill:#000000; stroke:none; fill-opacity:1\" cx=\"283.712\" cy=\"352.169\" r=\"2\"/>\n",
       "<circle clip-path=\"url(#clip2502)\" style=\"fill:#009af9; stroke:none; fill-opacity:1\" cx=\"283.712\" cy=\"352.169\" r=\"1\"/>\n",
       "<circle clip-path=\"url(#clip2502)\" style=\"fill:#000000; stroke:none; fill-opacity:1\" cx=\"288.829\" cy=\"336.013\" r=\"2\"/>\n",
       "<circle clip-path=\"url(#clip2502)\" style=\"fill:#009af9; stroke:none; fill-opacity:1\" cx=\"288.829\" cy=\"336.013\" r=\"1\"/>\n",
       "<circle clip-path=\"url(#clip2502)\" style=\"fill:#000000; stroke:none; fill-opacity:1\" cx=\"293.945\" cy=\"306.103\" r=\"2\"/>\n",
       "<circle clip-path=\"url(#clip2502)\" style=\"fill:#009af9; stroke:none; fill-opacity:1\" cx=\"293.945\" cy=\"306.103\" r=\"1\"/>\n",
       "<circle clip-path=\"url(#clip2502)\" style=\"fill:#000000; stroke:none; fill-opacity:1\" cx=\"299.062\" cy=\"318.058\" r=\"2\"/>\n",
       "<circle clip-path=\"url(#clip2502)\" style=\"fill:#009af9; stroke:none; fill-opacity:1\" cx=\"299.062\" cy=\"318.058\" r=\"1\"/>\n",
       "<circle clip-path=\"url(#clip2502)\" style=\"fill:#000000; stroke:none; fill-opacity:1\" cx=\"304.178\" cy=\"328.874\" r=\"2\"/>\n",
       "<circle clip-path=\"url(#clip2502)\" style=\"fill:#009af9; stroke:none; fill-opacity:1\" cx=\"304.178\" cy=\"328.874\" r=\"1\"/>\n",
       "<circle clip-path=\"url(#clip2502)\" style=\"fill:#000000; stroke:none; fill-opacity:1\" cx=\"309.295\" cy=\"344.093\" r=\"2\"/>\n",
       "<circle clip-path=\"url(#clip2502)\" style=\"fill:#009af9; stroke:none; fill-opacity:1\" cx=\"309.295\" cy=\"344.093\" r=\"1\"/>\n",
       "<circle clip-path=\"url(#clip2502)\" style=\"fill:#000000; stroke:none; fill-opacity:1\" cx=\"314.411\" cy=\"340.148\" r=\"2\"/>\n",
       "<circle clip-path=\"url(#clip2502)\" style=\"fill:#009af9; stroke:none; fill-opacity:1\" cx=\"314.411\" cy=\"340.148\" r=\"1\"/>\n",
       "<circle clip-path=\"url(#clip2502)\" style=\"fill:#000000; stroke:none; fill-opacity:1\" cx=\"319.528\" cy=\"353.459\" r=\"2\"/>\n",
       "<circle clip-path=\"url(#clip2502)\" style=\"fill:#009af9; stroke:none; fill-opacity:1\" cx=\"319.528\" cy=\"353.459\" r=\"1\"/>\n",
       "<circle clip-path=\"url(#clip2502)\" style=\"fill:#000000; stroke:none; fill-opacity:1\" cx=\"324.644\" cy=\"328.387\" r=\"2\"/>\n",
       "<circle clip-path=\"url(#clip2502)\" style=\"fill:#009af9; stroke:none; fill-opacity:1\" cx=\"324.644\" cy=\"328.387\" r=\"1\"/>\n",
       "<circle clip-path=\"url(#clip2502)\" style=\"fill:#000000; stroke:none; fill-opacity:1\" cx=\"329.761\" cy=\"361.228\" r=\"2\"/>\n",
       "<circle clip-path=\"url(#clip2502)\" style=\"fill:#009af9; stroke:none; fill-opacity:1\" cx=\"329.761\" cy=\"361.228\" r=\"1\"/>\n",
       "<circle clip-path=\"url(#clip2502)\" style=\"fill:#000000; stroke:none; fill-opacity:1\" cx=\"334.877\" cy=\"342.18\" r=\"2\"/>\n",
       "<circle clip-path=\"url(#clip2502)\" style=\"fill:#009af9; stroke:none; fill-opacity:1\" cx=\"334.877\" cy=\"342.18\" r=\"1\"/>\n",
       "<circle clip-path=\"url(#clip2502)\" style=\"fill:#000000; stroke:none; fill-opacity:1\" cx=\"339.994\" cy=\"340.374\" r=\"2\"/>\n",
       "<circle clip-path=\"url(#clip2502)\" style=\"fill:#009af9; stroke:none; fill-opacity:1\" cx=\"339.994\" cy=\"340.374\" r=\"1\"/>\n",
       "<circle clip-path=\"url(#clip2502)\" style=\"fill:#000000; stroke:none; fill-opacity:1\" cx=\"345.11\" cy=\"302.406\" r=\"2\"/>\n",
       "<circle clip-path=\"url(#clip2502)\" style=\"fill:#009af9; stroke:none; fill-opacity:1\" cx=\"345.11\" cy=\"302.406\" r=\"1\"/>\n",
       "<circle clip-path=\"url(#clip2502)\" style=\"fill:#000000; stroke:none; fill-opacity:1\" cx=\"350.227\" cy=\"271.968\" r=\"2\"/>\n",
       "<circle clip-path=\"url(#clip2502)\" style=\"fill:#009af9; stroke:none; fill-opacity:1\" cx=\"350.227\" cy=\"271.968\" r=\"1\"/>\n",
       "<circle clip-path=\"url(#clip2502)\" style=\"fill:#000000; stroke:none; fill-opacity:1\" cx=\"355.343\" cy=\"271.453\" r=\"2\"/>\n",
       "<circle clip-path=\"url(#clip2502)\" style=\"fill:#009af9; stroke:none; fill-opacity:1\" cx=\"355.343\" cy=\"271.453\" r=\"1\"/>\n",
       "<circle clip-path=\"url(#clip2502)\" style=\"fill:#000000; stroke:none; fill-opacity:1\" cx=\"360.46\" cy=\"182.937\" r=\"2\"/>\n",
       "<circle clip-path=\"url(#clip2502)\" style=\"fill:#009af9; stroke:none; fill-opacity:1\" cx=\"360.46\" cy=\"182.937\" r=\"1\"/>\n",
       "<circle clip-path=\"url(#clip2502)\" style=\"fill:#000000; stroke:none; fill-opacity:1\" cx=\"365.576\" cy=\"258.725\" r=\"2\"/>\n",
       "<circle clip-path=\"url(#clip2502)\" style=\"fill:#009af9; stroke:none; fill-opacity:1\" cx=\"365.576\" cy=\"258.725\" r=\"1\"/>\n",
       "<circle clip-path=\"url(#clip2502)\" style=\"fill:#000000; stroke:none; fill-opacity:1\" cx=\"370.693\" cy=\"79.0865\" r=\"2\"/>\n",
       "<circle clip-path=\"url(#clip2502)\" style=\"fill:#009af9; stroke:none; fill-opacity:1\" cx=\"370.693\" cy=\"79.0865\" r=\"1\"/>\n",
       "<circle clip-path=\"url(#clip2502)\" style=\"fill:#000000; stroke:none; fill-opacity:1\" cx=\"375.809\" cy=\"165.978\" r=\"2\"/>\n",
       "<circle clip-path=\"url(#clip2502)\" style=\"fill:#009af9; stroke:none; fill-opacity:1\" cx=\"375.809\" cy=\"165.978\" r=\"1\"/>\n",
       "<circle clip-path=\"url(#clip2502)\" style=\"fill:#000000; stroke:none; fill-opacity:1\" cx=\"380.926\" cy=\"168.716\" r=\"2\"/>\n",
       "<circle clip-path=\"url(#clip2502)\" style=\"fill:#009af9; stroke:none; fill-opacity:1\" cx=\"380.926\" cy=\"168.716\" r=\"1\"/>\n",
       "<circle clip-path=\"url(#clip2502)\" style=\"fill:#000000; stroke:none; fill-opacity:1\" cx=\"386.042\" cy=\"155.215\" r=\"2\"/>\n",
       "<circle clip-path=\"url(#clip2502)\" style=\"fill:#009af9; stroke:none; fill-opacity:1\" cx=\"386.042\" cy=\"155.215\" r=\"1\"/>\n",
       "<circle clip-path=\"url(#clip2502)\" style=\"fill:#000000; stroke:none; fill-opacity:1\" cx=\"391.158\" cy=\"100.588\" r=\"2\"/>\n",
       "<circle clip-path=\"url(#clip2502)\" style=\"fill:#009af9; stroke:none; fill-opacity:1\" cx=\"391.158\" cy=\"100.588\" r=\"1\"/>\n",
       "<circle clip-path=\"url(#clip2502)\" style=\"fill:#000000; stroke:none; fill-opacity:1\" cx=\"396.275\" cy=\"155.021\" r=\"2\"/>\n",
       "<circle clip-path=\"url(#clip2502)\" style=\"fill:#009af9; stroke:none; fill-opacity:1\" cx=\"396.275\" cy=\"155.021\" r=\"1\"/>\n",
       "<circle clip-path=\"url(#clip2502)\" style=\"fill:#000000; stroke:none; fill-opacity:1\" cx=\"401.391\" cy=\"109.869\" r=\"2\"/>\n",
       "<circle clip-path=\"url(#clip2502)\" style=\"fill:#009af9; stroke:none; fill-opacity:1\" cx=\"401.391\" cy=\"109.869\" r=\"1\"/>\n",
       "<circle clip-path=\"url(#clip2502)\" style=\"fill:#000000; stroke:none; fill-opacity:1\" cx=\"406.508\" cy=\"131.402\" r=\"2\"/>\n",
       "<circle clip-path=\"url(#clip2502)\" style=\"fill:#009af9; stroke:none; fill-opacity:1\" cx=\"406.508\" cy=\"131.402\" r=\"1\"/>\n",
       "<circle clip-path=\"url(#clip2502)\" style=\"fill:#000000; stroke:none; fill-opacity:1\" cx=\"411.624\" cy=\"234.628\" r=\"2\"/>\n",
       "<circle clip-path=\"url(#clip2502)\" style=\"fill:#009af9; stroke:none; fill-opacity:1\" cx=\"411.624\" cy=\"234.628\" r=\"1\"/>\n",
       "<circle clip-path=\"url(#clip2502)\" style=\"fill:#000000; stroke:none; fill-opacity:1\" cx=\"416.741\" cy=\"210.256\" r=\"2\"/>\n",
       "<circle clip-path=\"url(#clip2502)\" style=\"fill:#009af9; stroke:none; fill-opacity:1\" cx=\"416.741\" cy=\"210.256\" r=\"1\"/>\n",
       "<circle clip-path=\"url(#clip2502)\" style=\"fill:#000000; stroke:none; fill-opacity:1\" cx=\"421.857\" cy=\"225.235\" r=\"2\"/>\n",
       "<circle clip-path=\"url(#clip2502)\" style=\"fill:#009af9; stroke:none; fill-opacity:1\" cx=\"421.857\" cy=\"225.235\" r=\"1\"/>\n",
       "<circle clip-path=\"url(#clip2502)\" style=\"fill:#000000; stroke:none; fill-opacity:1\" cx=\"426.974\" cy=\"253.196\" r=\"2\"/>\n",
       "<circle clip-path=\"url(#clip2502)\" style=\"fill:#009af9; stroke:none; fill-opacity:1\" cx=\"426.974\" cy=\"253.196\" r=\"1\"/>\n",
       "<circle clip-path=\"url(#clip2502)\" style=\"fill:#000000; stroke:none; fill-opacity:1\" cx=\"432.09\" cy=\"303.677\" r=\"2\"/>\n",
       "<circle clip-path=\"url(#clip2502)\" style=\"fill:#009af9; stroke:none; fill-opacity:1\" cx=\"432.09\" cy=\"303.677\" r=\"1\"/>\n",
       "<circle clip-path=\"url(#clip2502)\" style=\"fill:#000000; stroke:none; fill-opacity:1\" cx=\"437.207\" cy=\"218.748\" r=\"2\"/>\n",
       "<circle clip-path=\"url(#clip2502)\" style=\"fill:#009af9; stroke:none; fill-opacity:1\" cx=\"437.207\" cy=\"218.748\" r=\"1\"/>\n",
       "<circle clip-path=\"url(#clip2502)\" style=\"fill:#000000; stroke:none; fill-opacity:1\" cx=\"442.323\" cy=\"115.078\" r=\"2\"/>\n",
       "<circle clip-path=\"url(#clip2502)\" style=\"fill:#009af9; stroke:none; fill-opacity:1\" cx=\"442.323\" cy=\"115.078\" r=\"1\"/>\n",
       "<circle clip-path=\"url(#clip2502)\" style=\"fill:#000000; stroke:none; fill-opacity:1\" cx=\"447.44\" cy=\"165.167\" r=\"2\"/>\n",
       "<circle clip-path=\"url(#clip2502)\" style=\"fill:#009af9; stroke:none; fill-opacity:1\" cx=\"447.44\" cy=\"165.167\" r=\"1\"/>\n",
       "<circle clip-path=\"url(#clip2502)\" style=\"fill:#000000; stroke:none; fill-opacity:1\" cx=\"452.556\" cy=\"257.727\" r=\"2\"/>\n",
       "<circle clip-path=\"url(#clip2502)\" style=\"fill:#009af9; stroke:none; fill-opacity:1\" cx=\"452.556\" cy=\"257.727\" r=\"1\"/>\n",
       "<circle clip-path=\"url(#clip2502)\" style=\"fill:#000000; stroke:none; fill-opacity:1\" cx=\"457.673\" cy=\"239.456\" r=\"2\"/>\n",
       "<circle clip-path=\"url(#clip2502)\" style=\"fill:#009af9; stroke:none; fill-opacity:1\" cx=\"457.673\" cy=\"239.456\" r=\"1\"/>\n",
       "<circle clip-path=\"url(#clip2502)\" style=\"fill:#000000; stroke:none; fill-opacity:1\" cx=\"462.789\" cy=\"286.76\" r=\"2\"/>\n",
       "<circle clip-path=\"url(#clip2502)\" style=\"fill:#009af9; stroke:none; fill-opacity:1\" cx=\"462.789\" cy=\"286.76\" r=\"1\"/>\n",
       "<circle clip-path=\"url(#clip2502)\" style=\"fill:#000000; stroke:none; fill-opacity:1\" cx=\"467.906\" cy=\"258.528\" r=\"2\"/>\n",
       "<circle clip-path=\"url(#clip2502)\" style=\"fill:#009af9; stroke:none; fill-opacity:1\" cx=\"467.906\" cy=\"258.528\" r=\"1\"/>\n",
       "<circle clip-path=\"url(#clip2502)\" style=\"fill:#000000; stroke:none; fill-opacity:1\" cx=\"473.022\" cy=\"242.214\" r=\"2\"/>\n",
       "<circle clip-path=\"url(#clip2502)\" style=\"fill:#009af9; stroke:none; fill-opacity:1\" cx=\"473.022\" cy=\"242.214\" r=\"1\"/>\n",
       "<circle clip-path=\"url(#clip2502)\" style=\"fill:#000000; stroke:none; fill-opacity:1\" cx=\"478.139\" cy=\"329.527\" r=\"2\"/>\n",
       "<circle clip-path=\"url(#clip2502)\" style=\"fill:#009af9; stroke:none; fill-opacity:1\" cx=\"478.139\" cy=\"329.527\" r=\"1\"/>\n",
       "<circle clip-path=\"url(#clip2502)\" style=\"fill:#000000; stroke:none; fill-opacity:1\" cx=\"483.255\" cy=\"268.964\" r=\"2\"/>\n",
       "<circle clip-path=\"url(#clip2502)\" style=\"fill:#009af9; stroke:none; fill-opacity:1\" cx=\"483.255\" cy=\"268.964\" r=\"1\"/>\n",
       "<circle clip-path=\"url(#clip2502)\" style=\"fill:#000000; stroke:none; fill-opacity:1\" cx=\"488.372\" cy=\"331.213\" r=\"2\"/>\n",
       "<circle clip-path=\"url(#clip2502)\" style=\"fill:#009af9; stroke:none; fill-opacity:1\" cx=\"488.372\" cy=\"331.213\" r=\"1\"/>\n",
       "<circle clip-path=\"url(#clip2502)\" style=\"fill:#000000; stroke:none; fill-opacity:1\" cx=\"493.488\" cy=\"332.069\" r=\"2\"/>\n",
       "<circle clip-path=\"url(#clip2502)\" style=\"fill:#009af9; stroke:none; fill-opacity:1\" cx=\"493.488\" cy=\"332.069\" r=\"1\"/>\n",
       "<circle clip-path=\"url(#clip2502)\" style=\"fill:#000000; stroke:none; fill-opacity:1\" cx=\"498.605\" cy=\"330.928\" r=\"2\"/>\n",
       "<circle clip-path=\"url(#clip2502)\" style=\"fill:#009af9; stroke:none; fill-opacity:1\" cx=\"498.605\" cy=\"330.928\" r=\"1\"/>\n",
       "<circle clip-path=\"url(#clip2502)\" style=\"fill:#000000; stroke:none; fill-opacity:1\" cx=\"503.721\" cy=\"274.368\" r=\"2\"/>\n",
       "<circle clip-path=\"url(#clip2502)\" style=\"fill:#009af9; stroke:none; fill-opacity:1\" cx=\"503.721\" cy=\"274.368\" r=\"1\"/>\n",
       "<circle clip-path=\"url(#clip2502)\" style=\"fill:#000000; stroke:none; fill-opacity:1\" cx=\"508.838\" cy=\"344.41\" r=\"2\"/>\n",
       "<circle clip-path=\"url(#clip2502)\" style=\"fill:#009af9; stroke:none; fill-opacity:1\" cx=\"508.838\" cy=\"344.41\" r=\"1\"/>\n",
       "<circle clip-path=\"url(#clip2502)\" style=\"fill:#000000; stroke:none; fill-opacity:1\" cx=\"513.954\" cy=\"332.755\" r=\"2\"/>\n",
       "<circle clip-path=\"url(#clip2502)\" style=\"fill:#009af9; stroke:none; fill-opacity:1\" cx=\"513.954\" cy=\"332.755\" r=\"1\"/>\n",
       "<circle clip-path=\"url(#clip2502)\" style=\"fill:#000000; stroke:none; fill-opacity:1\" cx=\"519.071\" cy=\"347.201\" r=\"2\"/>\n",
       "<circle clip-path=\"url(#clip2502)\" style=\"fill:#009af9; stroke:none; fill-opacity:1\" cx=\"519.071\" cy=\"347.201\" r=\"1\"/>\n",
       "<circle clip-path=\"url(#clip2502)\" style=\"fill:#000000; stroke:none; fill-opacity:1\" cx=\"524.187\" cy=\"345.006\" r=\"2\"/>\n",
       "<circle clip-path=\"url(#clip2502)\" style=\"fill:#009af9; stroke:none; fill-opacity:1\" cx=\"524.187\" cy=\"345.006\" r=\"1\"/>\n",
       "<circle clip-path=\"url(#clip2502)\" style=\"fill:#000000; stroke:none; fill-opacity:1\" cx=\"529.304\" cy=\"332.043\" r=\"2\"/>\n",
       "<circle clip-path=\"url(#clip2502)\" style=\"fill:#009af9; stroke:none; fill-opacity:1\" cx=\"529.304\" cy=\"332.043\" r=\"1\"/>\n",
       "<circle clip-path=\"url(#clip2502)\" style=\"fill:#000000; stroke:none; fill-opacity:1\" cx=\"534.42\" cy=\"332.608\" r=\"2\"/>\n",
       "<circle clip-path=\"url(#clip2502)\" style=\"fill:#009af9; stroke:none; fill-opacity:1\" cx=\"534.42\" cy=\"332.608\" r=\"1\"/>\n",
       "<circle clip-path=\"url(#clip2502)\" style=\"fill:#000000; stroke:none; fill-opacity:1\" cx=\"539.537\" cy=\"356.117\" r=\"2\"/>\n",
       "<circle clip-path=\"url(#clip2502)\" style=\"fill:#009af9; stroke:none; fill-opacity:1\" cx=\"539.537\" cy=\"356.117\" r=\"1\"/>\n",
       "<circle clip-path=\"url(#clip2502)\" style=\"fill:#000000; stroke:none; fill-opacity:1\" cx=\"544.653\" cy=\"343.756\" r=\"2\"/>\n",
       "<circle clip-path=\"url(#clip2502)\" style=\"fill:#009af9; stroke:none; fill-opacity:1\" cx=\"544.653\" cy=\"343.756\" r=\"1\"/>\n",
       "<circle clip-path=\"url(#clip2502)\" style=\"fill:#000000; stroke:none; fill-opacity:1\" cx=\"549.77\" cy=\"361.992\" r=\"2\"/>\n",
       "<circle clip-path=\"url(#clip2502)\" style=\"fill:#009af9; stroke:none; fill-opacity:1\" cx=\"549.77\" cy=\"361.992\" r=\"1\"/>\n",
       "<circle clip-path=\"url(#clip2502)\" style=\"fill:#000000; stroke:none; fill-opacity:1\" cx=\"554.886\" cy=\"360.073\" r=\"2\"/>\n",
       "<circle clip-path=\"url(#clip2502)\" style=\"fill:#009af9; stroke:none; fill-opacity:1\" cx=\"554.886\" cy=\"360.073\" r=\"1\"/>\n",
       "<circle clip-path=\"url(#clip2502)\" style=\"fill:#000000; stroke:none; fill-opacity:1\" cx=\"560.003\" cy=\"362.205\" r=\"2\"/>\n",
       "<circle clip-path=\"url(#clip2502)\" style=\"fill:#009af9; stroke:none; fill-opacity:1\" cx=\"560.003\" cy=\"362.205\" r=\"1\"/>\n",
       "<circle clip-path=\"url(#clip2502)\" style=\"fill:#000000; stroke:none; fill-opacity:1\" cx=\"565.119\" cy=\"289.511\" r=\"2\"/>\n",
       "<circle clip-path=\"url(#clip2502)\" style=\"fill:#009af9; stroke:none; fill-opacity:1\" cx=\"565.119\" cy=\"289.511\" r=\"1\"/>\n",
       "<polyline clip-path=\"url(#clip2502)\" style=\"stroke:#000000; stroke-width:1; stroke-opacity:1; fill:none\" points=\"\n",
       "  58.5869,362.579 58.5869,362.579 \n",
       "  \"/>\n",
       "<polyline clip-path=\"url(#clip2502)\" style=\"stroke:#000000; stroke-width:1; stroke-opacity:1; fill:none\" points=\"\n",
       "  63.7034,362.579 63.7034,362.579 \n",
       "  \"/>\n",
       "<polyline clip-path=\"url(#clip2502)\" style=\"stroke:#000000; stroke-width:1; stroke-opacity:1; fill:none\" points=\"\n",
       "  68.8199,362.579 68.8199,362.579 \n",
       "  \"/>\n",
       "<polyline clip-path=\"url(#clip2502)\" style=\"stroke:#000000; stroke-width:1; stroke-opacity:1; fill:none\" points=\"\n",
       "  73.9364,362.579 73.9364,362.579 \n",
       "  \"/>\n",
       "<polyline clip-path=\"url(#clip2502)\" style=\"stroke:#000000; stroke-width:1; stroke-opacity:1; fill:none\" points=\"\n",
       "  79.0528,362.579 79.0528,362.579 \n",
       "  \"/>\n",
       "<polyline clip-path=\"url(#clip2502)\" style=\"stroke:#000000; stroke-width:1; stroke-opacity:1; fill:none\" points=\"\n",
       "  84.1693,362.579 84.1693,362.579 \n",
       "  \"/>\n",
       "<polyline clip-path=\"url(#clip2502)\" style=\"stroke:#000000; stroke-width:1; stroke-opacity:1; fill:none\" points=\"\n",
       "  89.2858,362.579 89.2858,362.579 \n",
       "  \"/>\n",
       "<polyline clip-path=\"url(#clip2502)\" style=\"stroke:#000000; stroke-width:1; stroke-opacity:1; fill:none\" points=\"\n",
       "  94.4023,362.579 94.4023,362.579 \n",
       "  \"/>\n",
       "<polyline clip-path=\"url(#clip2502)\" style=\"stroke:#000000; stroke-width:1; stroke-opacity:1; fill:none\" points=\"\n",
       "  99.5188,362.579 99.5188,362.579 \n",
       "  \"/>\n",
       "<polyline clip-path=\"url(#clip2502)\" style=\"stroke:#000000; stroke-width:1; stroke-opacity:1; fill:none\" points=\"\n",
       "  104.635,362.579 104.635,362.579 \n",
       "  \"/>\n",
       "<polyline clip-path=\"url(#clip2502)\" style=\"stroke:#000000; stroke-width:1; stroke-opacity:1; fill:none\" points=\"\n",
       "  109.752,362.579 109.752,362.579 \n",
       "  \"/>\n",
       "<polyline clip-path=\"url(#clip2502)\" style=\"stroke:#000000; stroke-width:1; stroke-opacity:1; fill:none\" points=\"\n",
       "  114.868,362.579 114.868,362.579 \n",
       "  \"/>\n",
       "<polyline clip-path=\"url(#clip2502)\" style=\"stroke:#000000; stroke-width:1; stroke-opacity:1; fill:none\" points=\"\n",
       "  119.985,362.579 119.985,362.579 \n",
       "  \"/>\n",
       "<polyline clip-path=\"url(#clip2502)\" style=\"stroke:#000000; stroke-width:1; stroke-opacity:1; fill:none\" points=\"\n",
       "  125.101,362.579 125.101,362.579 \n",
       "  \"/>\n",
       "<polyline clip-path=\"url(#clip2502)\" style=\"stroke:#000000; stroke-width:1; stroke-opacity:1; fill:none\" points=\"\n",
       "  130.218,362.579 130.218,362.579 \n",
       "  \"/>\n",
       "<polyline clip-path=\"url(#clip2502)\" style=\"stroke:#000000; stroke-width:1; stroke-opacity:1; fill:none\" points=\"\n",
       "  135.334,362.579 135.334,362.579 \n",
       "  \"/>\n",
       "<polyline clip-path=\"url(#clip2502)\" style=\"stroke:#000000; stroke-width:1; stroke-opacity:1; fill:none\" points=\"\n",
       "  140.451,362.579 140.451,362.579 \n",
       "  \"/>\n",
       "<polyline clip-path=\"url(#clip2502)\" style=\"stroke:#000000; stroke-width:1; stroke-opacity:1; fill:none\" points=\"\n",
       "  145.567,362.579 145.567,362.579 \n",
       "  \"/>\n",
       "<polyline clip-path=\"url(#clip2502)\" style=\"stroke:#000000; stroke-width:1; stroke-opacity:1; fill:none\" points=\"\n",
       "  150.684,362.579 150.684,362.579 \n",
       "  \"/>\n",
       "<polyline clip-path=\"url(#clip2502)\" style=\"stroke:#000000; stroke-width:1; stroke-opacity:1; fill:none\" points=\"\n",
       "  155.8,362.579 155.8,362.579 \n",
       "  \"/>\n",
       "<polyline clip-path=\"url(#clip2502)\" style=\"stroke:#000000; stroke-width:1; stroke-opacity:1; fill:none\" points=\"\n",
       "  160.917,362.579 160.917,362.579 \n",
       "  \"/>\n",
       "<polyline clip-path=\"url(#clip2502)\" style=\"stroke:#000000; stroke-width:1; stroke-opacity:1; fill:none\" points=\"\n",
       "  166.033,362.579 166.033,362.579 \n",
       "  \"/>\n",
       "<polyline clip-path=\"url(#clip2502)\" style=\"stroke:#000000; stroke-width:1; stroke-opacity:1; fill:none\" points=\"\n",
       "  171.15,362.579 171.15,362.579 \n",
       "  \"/>\n",
       "<polyline clip-path=\"url(#clip2502)\" style=\"stroke:#000000; stroke-width:1; stroke-opacity:1; fill:none\" points=\"\n",
       "  176.266,362.579 176.266,362.579 \n",
       "  \"/>\n",
       "<polyline clip-path=\"url(#clip2502)\" style=\"stroke:#000000; stroke-width:1; stroke-opacity:1; fill:none\" points=\"\n",
       "  181.383,362.579 181.383,362.579 \n",
       "  \"/>\n",
       "<polyline clip-path=\"url(#clip2502)\" style=\"stroke:#000000; stroke-width:1; stroke-opacity:1; fill:none\" points=\"\n",
       "  186.499,362.579 186.499,362.579 \n",
       "  \"/>\n",
       "<polyline clip-path=\"url(#clip2502)\" style=\"stroke:#000000; stroke-width:1; stroke-opacity:1; fill:none\" points=\"\n",
       "  191.616,362.579 191.616,362.579 \n",
       "  \"/>\n",
       "<polyline clip-path=\"url(#clip2502)\" style=\"stroke:#000000; stroke-width:1; stroke-opacity:1; fill:none\" points=\"\n",
       "  196.732,362.579 196.732,362.579 \n",
       "  \"/>\n",
       "<polyline clip-path=\"url(#clip2502)\" style=\"stroke:#000000; stroke-width:1; stroke-opacity:1; fill:none\" points=\"\n",
       "  201.849,362.579 201.849,362.579 \n",
       "  \"/>\n",
       "<polyline clip-path=\"url(#clip2502)\" style=\"stroke:#000000; stroke-width:1; stroke-opacity:1; fill:none\" points=\"\n",
       "  206.965,362.579 206.965,362.579 \n",
       "  \"/>\n",
       "<polyline clip-path=\"url(#clip2502)\" style=\"stroke:#000000; stroke-width:1; stroke-opacity:1; fill:none\" points=\"\n",
       "  212.081,362.579 212.081,362.579 \n",
       "  \"/>\n",
       "<polyline clip-path=\"url(#clip2502)\" style=\"stroke:#000000; stroke-width:1; stroke-opacity:1; fill:none\" points=\"\n",
       "  217.198,362.579 217.198,362.579 \n",
       "  \"/>\n",
       "<polyline clip-path=\"url(#clip2502)\" style=\"stroke:#000000; stroke-width:1; stroke-opacity:1; fill:none\" points=\"\n",
       "  222.314,362.579 222.314,362.579 \n",
       "  \"/>\n",
       "<polyline clip-path=\"url(#clip2502)\" style=\"stroke:#000000; stroke-width:1; stroke-opacity:1; fill:none\" points=\"\n",
       "  227.431,362.579 227.431,362.579 \n",
       "  \"/>\n",
       "<polyline clip-path=\"url(#clip2502)\" style=\"stroke:#000000; stroke-width:1; stroke-opacity:1; fill:none\" points=\"\n",
       "  232.547,362.579 232.547,362.579 \n",
       "  \"/>\n",
       "<polyline clip-path=\"url(#clip2502)\" style=\"stroke:#000000; stroke-width:1; stroke-opacity:1; fill:none\" points=\"\n",
       "  237.664,362.579 237.664,362.579 \n",
       "  \"/>\n",
       "<polyline clip-path=\"url(#clip2502)\" style=\"stroke:#000000; stroke-width:1; stroke-opacity:1; fill:none\" points=\"\n",
       "  242.78,362.579 242.78,362.579 \n",
       "  \"/>\n",
       "<polyline clip-path=\"url(#clip2502)\" style=\"stroke:#000000; stroke-width:1; stroke-opacity:1; fill:none\" points=\"\n",
       "  247.897,362.579 247.897,362.579 \n",
       "  \"/>\n",
       "<polyline clip-path=\"url(#clip2502)\" style=\"stroke:#000000; stroke-width:1; stroke-opacity:1; fill:none\" points=\"\n",
       "  253.013,362.579 253.013,362.579 \n",
       "  \"/>\n",
       "<polyline clip-path=\"url(#clip2502)\" style=\"stroke:#000000; stroke-width:1; stroke-opacity:1; fill:none\" points=\"\n",
       "  258.13,362.579 258.13,362.579 \n",
       "  \"/>\n",
       "<polyline clip-path=\"url(#clip2502)\" style=\"stroke:#000000; stroke-width:1; stroke-opacity:1; fill:none\" points=\"\n",
       "  263.246,362.579 263.246,362.579 \n",
       "  \"/>\n",
       "<polyline clip-path=\"url(#clip2502)\" style=\"stroke:#000000; stroke-width:1; stroke-opacity:1; fill:none\" points=\"\n",
       "  268.363,362.579 268.363,362.579 \n",
       "  \"/>\n",
       "<polyline clip-path=\"url(#clip2502)\" style=\"stroke:#000000; stroke-width:1; stroke-opacity:1; fill:none\" points=\"\n",
       "  273.479,364.84 273.479,346.362 \n",
       "  \"/>\n",
       "<polyline clip-path=\"url(#clip2502)\" style=\"stroke:#000000; stroke-width:1; stroke-opacity:1; fill:none\" points=\"\n",
       "  278.596,365.001 278.596,347.486 \n",
       "  \"/>\n",
       "<polyline clip-path=\"url(#clip2502)\" style=\"stroke:#000000; stroke-width:1; stroke-opacity:1; fill:none\" points=\"\n",
       "  283.712,363.046 283.712,341.292 \n",
       "  \"/>\n",
       "<polyline clip-path=\"url(#clip2502)\" style=\"stroke:#000000; stroke-width:1; stroke-opacity:1; fill:none\" points=\"\n",
       "  288.829,354.592 288.829,317.434 \n",
       "  \"/>\n",
       "<polyline clip-path=\"url(#clip2502)\" style=\"stroke:#000000; stroke-width:1; stroke-opacity:1; fill:none\" points=\"\n",
       "  293.945,333.339 293.945,278.868 \n",
       "  \"/>\n",
       "<polyline clip-path=\"url(#clip2502)\" style=\"stroke:#000000; stroke-width:1; stroke-opacity:1; fill:none\" points=\"\n",
       "  299.062,341.285 299.062,294.83 \n",
       "  \"/>\n",
       "<polyline clip-path=\"url(#clip2502)\" style=\"stroke:#000000; stroke-width:1; stroke-opacity:1; fill:none\" points=\"\n",
       "  304.178,350.293 304.178,307.455 \n",
       "  \"/>\n",
       "<polyline clip-path=\"url(#clip2502)\" style=\"stroke:#000000; stroke-width:1; stroke-opacity:1; fill:none\" points=\"\n",
       "  309.295,360.231 309.295,327.955 \n",
       "  \"/>\n",
       "<polyline clip-path=\"url(#clip2502)\" style=\"stroke:#000000; stroke-width:1; stroke-opacity:1; fill:none\" points=\"\n",
       "  314.411,355.449 314.411,324.847 \n",
       "  \"/>\n",
       "<polyline clip-path=\"url(#clip2502)\" style=\"stroke:#000000; stroke-width:1; stroke-opacity:1; fill:none\" points=\"\n",
       "  319.528,363.401 319.528,343.518 \n",
       "  \"/>\n",
       "<polyline clip-path=\"url(#clip2502)\" style=\"stroke:#000000; stroke-width:1; stroke-opacity:1; fill:none\" points=\"\n",
       "  324.644,347.827 324.644,308.948 \n",
       "  \"/>\n",
       "<polyline clip-path=\"url(#clip2502)\" style=\"stroke:#000000; stroke-width:1; stroke-opacity:1; fill:none\" points=\"\n",
       "  329.761,365.421 329.761,357.034 \n",
       "  \"/>\n",
       "<polyline clip-path=\"url(#clip2502)\" style=\"stroke:#000000; stroke-width:1; stroke-opacity:1; fill:none\" points=\"\n",
       "  334.877,356.927 334.877,327.433 \n",
       "  \"/>\n",
       "<polyline clip-path=\"url(#clip2502)\" style=\"stroke:#000000; stroke-width:1; stroke-opacity:1; fill:none\" points=\"\n",
       "  339.994,358.01 339.994,322.738 \n",
       "  \"/>\n",
       "<polyline clip-path=\"url(#clip2502)\" style=\"stroke:#000000; stroke-width:1; stroke-opacity:1; fill:none\" points=\"\n",
       "  345.11,331.26 345.11,273.553 \n",
       "  \"/>\n",
       "<polyline clip-path=\"url(#clip2502)\" style=\"stroke:#000000; stroke-width:1; stroke-opacity:1; fill:none\" points=\"\n",
       "  350.227,307.618 350.227,236.318 \n",
       "  \"/>\n",
       "<polyline clip-path=\"url(#clip2502)\" style=\"stroke:#000000; stroke-width:1; stroke-opacity:1; fill:none\" points=\"\n",
       "  355.343,305.558 355.343,237.349 \n",
       "  \"/>\n",
       "<polyline clip-path=\"url(#clip2502)\" style=\"stroke:#000000; stroke-width:1; stroke-opacity:1; fill:none\" points=\"\n",
       "  360.46,231.364 360.46,134.51 \n",
       "  \"/>\n",
       "<polyline clip-path=\"url(#clip2502)\" style=\"stroke:#000000; stroke-width:1; stroke-opacity:1; fill:none\" points=\"\n",
       "  365.576,294.558 365.576,222.892 \n",
       "  \"/>\n",
       "<polyline clip-path=\"url(#clip2502)\" style=\"stroke:#000000; stroke-width:1; stroke-opacity:1; fill:none\" points=\"\n",
       "  370.693,136.06 370.693,22.113 \n",
       "  \"/>\n",
       "<polyline clip-path=\"url(#clip2502)\" style=\"stroke:#000000; stroke-width:1; stroke-opacity:1; fill:none\" points=\"\n",
       "  375.809,211.506 375.809,120.45 \n",
       "  \"/>\n",
       "<polyline clip-path=\"url(#clip2502)\" style=\"stroke:#000000; stroke-width:1; stroke-opacity:1; fill:none\" points=\"\n",
       "  380.926,212.71 380.926,124.721 \n",
       "  \"/>\n",
       "<polyline clip-path=\"url(#clip2502)\" style=\"stroke:#000000; stroke-width:1; stroke-opacity:1; fill:none\" points=\"\n",
       "  386.042,201.282 386.042,109.147 \n",
       "  \"/>\n",
       "<polyline clip-path=\"url(#clip2502)\" style=\"stroke:#000000; stroke-width:1; stroke-opacity:1; fill:none\" points=\"\n",
       "  391.158,151.704 391.158,49.4715 \n",
       "  \"/>\n",
       "<polyline clip-path=\"url(#clip2502)\" style=\"stroke:#000000; stroke-width:1; stroke-opacity:1; fill:none\" points=\"\n",
       "  396.275,200.558 396.275,109.484 \n",
       "  \"/>\n",
       "<polyline clip-path=\"url(#clip2502)\" style=\"stroke:#000000; stroke-width:1; stroke-opacity:1; fill:none\" points=\"\n",
       "  401.391,160.053 401.391,59.685 \n",
       "  \"/>\n",
       "<polyline clip-path=\"url(#clip2502)\" style=\"stroke:#000000; stroke-width:1; stroke-opacity:1; fill:none\" points=\"\n",
       "  406.508,179.984 406.508,82.8209 \n",
       "  \"/>\n",
       "<polyline clip-path=\"url(#clip2502)\" style=\"stroke:#000000; stroke-width:1; stroke-opacity:1; fill:none\" points=\"\n",
       "  411.624,270.203 411.624,199.053 \n",
       "  \"/>\n",
       "<polyline clip-path=\"url(#clip2502)\" style=\"stroke:#000000; stroke-width:1; stroke-opacity:1; fill:none\" points=\"\n",
       "  416.741,249.467 416.741,171.044 \n",
       "  \"/>\n",
       "<polyline clip-path=\"url(#clip2502)\" style=\"stroke:#000000; stroke-width:1; stroke-opacity:1; fill:none\" points=\"\n",
       "  421.857,262.55 421.857,187.919 \n",
       "  \"/>\n",
       "<polyline clip-path=\"url(#clip2502)\" style=\"stroke:#000000; stroke-width:1; stroke-opacity:1; fill:none\" points=\"\n",
       "  426.974,287.16 426.974,219.232 \n",
       "  \"/>\n",
       "<polyline clip-path=\"url(#clip2502)\" style=\"stroke:#000000; stroke-width:1; stroke-opacity:1; fill:none\" points=\"\n",
       "  432.09,329.313 432.09,278.041 \n",
       "  \"/>\n",
       "<polyline clip-path=\"url(#clip2502)\" style=\"stroke:#000000; stroke-width:1; stroke-opacity:1; fill:none\" points=\"\n",
       "  437.207,257.537 437.207,179.958 \n",
       "  \"/>\n",
       "<polyline clip-path=\"url(#clip2502)\" style=\"stroke:#000000; stroke-width:1; stroke-opacity:1; fill:none\" points=\"\n",
       "  442.323,166.71 442.323,63.4463 \n",
       "  \"/>\n",
       "<polyline clip-path=\"url(#clip2502)\" style=\"stroke:#000000; stroke-width:1; stroke-opacity:1; fill:none\" points=\"\n",
       "  447.44,212.695 447.44,117.639 \n",
       "  \"/>\n",
       "<polyline clip-path=\"url(#clip2502)\" style=\"stroke:#000000; stroke-width:1; stroke-opacity:1; fill:none\" points=\"\n",
       "  452.556,290.846 452.556,224.608 \n",
       "  \"/>\n",
       "<polyline clip-path=\"url(#clip2502)\" style=\"stroke:#000000; stroke-width:1; stroke-opacity:1; fill:none\" points=\"\n",
       "  457.673,274.918 457.673,203.994 \n",
       "  \"/>\n",
       "<polyline clip-path=\"url(#clip2502)\" style=\"stroke:#000000; stroke-width:1; stroke-opacity:1; fill:none\" points=\"\n",
       "  462.789,316.74 462.789,256.779 \n",
       "  \"/>\n",
       "<polyline clip-path=\"url(#clip2502)\" style=\"stroke:#000000; stroke-width:1; stroke-opacity:1; fill:none\" points=\"\n",
       "  467.906,293.205 467.906,223.85 \n",
       "  \"/>\n",
       "<polyline clip-path=\"url(#clip2502)\" style=\"stroke:#000000; stroke-width:1; stroke-opacity:1; fill:none\" points=\"\n",
       "  473.022,279.645 473.022,204.783 \n",
       "  \"/>\n",
       "<polyline clip-path=\"url(#clip2502)\" style=\"stroke:#000000; stroke-width:1; stroke-opacity:1; fill:none\" points=\"\n",
       "  478.139,348.054 478.139,310.999 \n",
       "  \"/>\n",
       "<polyline clip-path=\"url(#clip2502)\" style=\"stroke:#000000; stroke-width:1; stroke-opacity:1; fill:none\" points=\"\n",
       "  483.255,300.94 483.255,236.988 \n",
       "  \"/>\n",
       "<polyline clip-path=\"url(#clip2502)\" style=\"stroke:#000000; stroke-width:1; stroke-opacity:1; fill:none\" points=\"\n",
       "  488.372,348.938 488.372,313.487 \n",
       "  \"/>\n",
       "<polyline clip-path=\"url(#clip2502)\" style=\"stroke:#000000; stroke-width:1; stroke-opacity:1; fill:none\" points=\"\n",
       "  493.488,350.143 493.488,313.995 \n",
       "  \"/>\n",
       "<polyline clip-path=\"url(#clip2502)\" style=\"stroke:#000000; stroke-width:1; stroke-opacity:1; fill:none\" points=\"\n",
       "  498.605,349.692 498.605,312.165 \n",
       "  \"/>\n",
       "<polyline clip-path=\"url(#clip2502)\" style=\"stroke:#000000; stroke-width:1; stroke-opacity:1; fill:none\" points=\"\n",
       "  503.721,307.29 503.721,241.446 \n",
       "  \"/>\n",
       "<polyline clip-path=\"url(#clip2502)\" style=\"stroke:#000000; stroke-width:1; stroke-opacity:1; fill:none\" points=\"\n",
       "  508.838,360.545 508.838,328.276 \n",
       "  \"/>\n",
       "<polyline clip-path=\"url(#clip2502)\" style=\"stroke:#000000; stroke-width:1; stroke-opacity:1; fill:none\" points=\"\n",
       "  513.954,352.921 513.954,312.588 \n",
       "  \"/>\n",
       "<polyline clip-path=\"url(#clip2502)\" style=\"stroke:#000000; stroke-width:1; stroke-opacity:1; fill:none\" points=\"\n",
       "  519.071,361.038 519.071,333.364 \n",
       "  \"/>\n",
       "<polyline clip-path=\"url(#clip2502)\" style=\"stroke:#000000; stroke-width:1; stroke-opacity:1; fill:none\" points=\"\n",
       "  524.187,359.421 524.187,330.591 \n",
       "  \"/>\n",
       "<polyline clip-path=\"url(#clip2502)\" style=\"stroke:#000000; stroke-width:1; stroke-opacity:1; fill:none\" points=\"\n",
       "  529.304,351.561 529.304,312.524 \n",
       "  \"/>\n",
       "<polyline clip-path=\"url(#clip2502)\" style=\"stroke:#000000; stroke-width:1; stroke-opacity:1; fill:none\" points=\"\n",
       "  534.42,351.476 534.42,313.74 \n",
       "  \"/>\n",
       "<polyline clip-path=\"url(#clip2502)\" style=\"stroke:#000000; stroke-width:1; stroke-opacity:1; fill:none\" points=\"\n",
       "  539.537,365.005 539.537,347.228 \n",
       "  \"/>\n",
       "<polyline clip-path=\"url(#clip2502)\" style=\"stroke:#000000; stroke-width:1; stroke-opacity:1; fill:none\" points=\"\n",
       "  544.653,359.022 544.653,328.49 \n",
       "  \"/>\n",
       "<polyline clip-path=\"url(#clip2502)\" style=\"stroke:#000000; stroke-width:1; stroke-opacity:1; fill:none\" points=\"\n",
       "  549.77,364.907 549.77,359.077 \n",
       "  \"/>\n",
       "<polyline clip-path=\"url(#clip2502)\" style=\"stroke:#000000; stroke-width:1; stroke-opacity:1; fill:none\" points=\"\n",
       "  554.886,365.511 554.886,354.634 \n",
       "  \"/>\n",
       "<polyline clip-path=\"url(#clip2502)\" style=\"stroke:#000000; stroke-width:1; stroke-opacity:1; fill:none\" points=\"\n",
       "  560.003,364.343 560.003,360.067 \n",
       "  \"/>\n",
       "<polyline clip-path=\"url(#clip2502)\" style=\"stroke:#000000; stroke-width:1; stroke-opacity:1; fill:none\" points=\"\n",
       "  565.119,318.719 565.119,260.303 \n",
       "  \"/>\n",
       "<line clip-path=\"url(#clip2502)\" x1=\"61.5869\" y1=\"362.579\" x2=\"55.5869\" y2=\"362.579\" style=\"stroke:#000000; stroke-opacity:1\"/>\n",
       "<line clip-path=\"url(#clip2502)\" x1=\"61.5869\" y1=\"362.579\" x2=\"55.5869\" y2=\"362.579\" style=\"stroke:#000000; stroke-opacity:1\"/>\n",
       "<line clip-path=\"url(#clip2502)\" x1=\"66.7034\" y1=\"362.579\" x2=\"60.7034\" y2=\"362.579\" style=\"stroke:#000000; stroke-opacity:1\"/>\n",
       "<line clip-path=\"url(#clip2502)\" x1=\"66.7034\" y1=\"362.579\" x2=\"60.7034\" y2=\"362.579\" style=\"stroke:#000000; stroke-opacity:1\"/>\n",
       "<line clip-path=\"url(#clip2502)\" x1=\"71.8199\" y1=\"362.579\" x2=\"65.8199\" y2=\"362.579\" style=\"stroke:#000000; stroke-opacity:1\"/>\n",
       "<line clip-path=\"url(#clip2502)\" x1=\"71.8199\" y1=\"362.579\" x2=\"65.8199\" y2=\"362.579\" style=\"stroke:#000000; stroke-opacity:1\"/>\n",
       "<line clip-path=\"url(#clip2502)\" x1=\"76.9364\" y1=\"362.579\" x2=\"70.9364\" y2=\"362.579\" style=\"stroke:#000000; stroke-opacity:1\"/>\n",
       "<line clip-path=\"url(#clip2502)\" x1=\"76.9364\" y1=\"362.579\" x2=\"70.9364\" y2=\"362.579\" style=\"stroke:#000000; stroke-opacity:1\"/>\n",
       "<line clip-path=\"url(#clip2502)\" x1=\"82.0528\" y1=\"362.579\" x2=\"76.0528\" y2=\"362.579\" style=\"stroke:#000000; stroke-opacity:1\"/>\n",
       "<line clip-path=\"url(#clip2502)\" x1=\"82.0528\" y1=\"362.579\" x2=\"76.0528\" y2=\"362.579\" style=\"stroke:#000000; stroke-opacity:1\"/>\n",
       "<line clip-path=\"url(#clip2502)\" x1=\"87.1693\" y1=\"362.579\" x2=\"81.1693\" y2=\"362.579\" style=\"stroke:#000000; stroke-opacity:1\"/>\n",
       "<line clip-path=\"url(#clip2502)\" x1=\"87.1693\" y1=\"362.579\" x2=\"81.1693\" y2=\"362.579\" style=\"stroke:#000000; stroke-opacity:1\"/>\n",
       "<line clip-path=\"url(#clip2502)\" x1=\"92.2858\" y1=\"362.579\" x2=\"86.2858\" y2=\"362.579\" style=\"stroke:#000000; stroke-opacity:1\"/>\n",
       "<line clip-path=\"url(#clip2502)\" x1=\"92.2858\" y1=\"362.579\" x2=\"86.2858\" y2=\"362.579\" style=\"stroke:#000000; stroke-opacity:1\"/>\n",
       "<line clip-path=\"url(#clip2502)\" x1=\"97.4023\" y1=\"362.579\" x2=\"91.4023\" y2=\"362.579\" style=\"stroke:#000000; stroke-opacity:1\"/>\n",
       "<line clip-path=\"url(#clip2502)\" x1=\"97.4023\" y1=\"362.579\" x2=\"91.4023\" y2=\"362.579\" style=\"stroke:#000000; stroke-opacity:1\"/>\n",
       "<line clip-path=\"url(#clip2502)\" x1=\"102.519\" y1=\"362.579\" x2=\"96.5188\" y2=\"362.579\" style=\"stroke:#000000; stroke-opacity:1\"/>\n",
       "<line clip-path=\"url(#clip2502)\" x1=\"102.519\" y1=\"362.579\" x2=\"96.5188\" y2=\"362.579\" style=\"stroke:#000000; stroke-opacity:1\"/>\n",
       "<line clip-path=\"url(#clip2502)\" x1=\"107.635\" y1=\"362.579\" x2=\"101.635\" y2=\"362.579\" style=\"stroke:#000000; stroke-opacity:1\"/>\n",
       "<line clip-path=\"url(#clip2502)\" x1=\"107.635\" y1=\"362.579\" x2=\"101.635\" y2=\"362.579\" style=\"stroke:#000000; stroke-opacity:1\"/>\n",
       "<line clip-path=\"url(#clip2502)\" x1=\"112.752\" y1=\"362.579\" x2=\"106.752\" y2=\"362.579\" style=\"stroke:#000000; stroke-opacity:1\"/>\n",
       "<line clip-path=\"url(#clip2502)\" x1=\"112.752\" y1=\"362.579\" x2=\"106.752\" y2=\"362.579\" style=\"stroke:#000000; stroke-opacity:1\"/>\n",
       "<line clip-path=\"url(#clip2502)\" x1=\"117.868\" y1=\"362.579\" x2=\"111.868\" y2=\"362.579\" style=\"stroke:#000000; stroke-opacity:1\"/>\n",
       "<line clip-path=\"url(#clip2502)\" x1=\"117.868\" y1=\"362.579\" x2=\"111.868\" y2=\"362.579\" style=\"stroke:#000000; stroke-opacity:1\"/>\n",
       "<line clip-path=\"url(#clip2502)\" x1=\"122.985\" y1=\"362.579\" x2=\"116.985\" y2=\"362.579\" style=\"stroke:#000000; stroke-opacity:1\"/>\n",
       "<line clip-path=\"url(#clip2502)\" x1=\"122.985\" y1=\"362.579\" x2=\"116.985\" y2=\"362.579\" style=\"stroke:#000000; stroke-opacity:1\"/>\n",
       "<line clip-path=\"url(#clip2502)\" x1=\"128.101\" y1=\"362.579\" x2=\"122.101\" y2=\"362.579\" style=\"stroke:#000000; stroke-opacity:1\"/>\n",
       "<line clip-path=\"url(#clip2502)\" x1=\"128.101\" y1=\"362.579\" x2=\"122.101\" y2=\"362.579\" style=\"stroke:#000000; stroke-opacity:1\"/>\n",
       "<line clip-path=\"url(#clip2502)\" x1=\"133.218\" y1=\"362.579\" x2=\"127.218\" y2=\"362.579\" style=\"stroke:#000000; stroke-opacity:1\"/>\n",
       "<line clip-path=\"url(#clip2502)\" x1=\"133.218\" y1=\"362.579\" x2=\"127.218\" y2=\"362.579\" style=\"stroke:#000000; stroke-opacity:1\"/>\n",
       "<line clip-path=\"url(#clip2502)\" x1=\"138.334\" y1=\"362.579\" x2=\"132.334\" y2=\"362.579\" style=\"stroke:#000000; stroke-opacity:1\"/>\n",
       "<line clip-path=\"url(#clip2502)\" x1=\"138.334\" y1=\"362.579\" x2=\"132.334\" y2=\"362.579\" style=\"stroke:#000000; stroke-opacity:1\"/>\n",
       "<line clip-path=\"url(#clip2502)\" x1=\"143.451\" y1=\"362.579\" x2=\"137.451\" y2=\"362.579\" style=\"stroke:#000000; stroke-opacity:1\"/>\n",
       "<line clip-path=\"url(#clip2502)\" x1=\"143.451\" y1=\"362.579\" x2=\"137.451\" y2=\"362.579\" style=\"stroke:#000000; stroke-opacity:1\"/>\n",
       "<line clip-path=\"url(#clip2502)\" x1=\"148.567\" y1=\"362.579\" x2=\"142.567\" y2=\"362.579\" style=\"stroke:#000000; stroke-opacity:1\"/>\n",
       "<line clip-path=\"url(#clip2502)\" x1=\"148.567\" y1=\"362.579\" x2=\"142.567\" y2=\"362.579\" style=\"stroke:#000000; stroke-opacity:1\"/>\n",
       "<line clip-path=\"url(#clip2502)\" x1=\"153.684\" y1=\"362.579\" x2=\"147.684\" y2=\"362.579\" style=\"stroke:#000000; stroke-opacity:1\"/>\n",
       "<line clip-path=\"url(#clip2502)\" x1=\"153.684\" y1=\"362.579\" x2=\"147.684\" y2=\"362.579\" style=\"stroke:#000000; stroke-opacity:1\"/>\n",
       "<line clip-path=\"url(#clip2502)\" x1=\"158.8\" y1=\"362.579\" x2=\"152.8\" y2=\"362.579\" style=\"stroke:#000000; stroke-opacity:1\"/>\n",
       "<line clip-path=\"url(#clip2502)\" x1=\"158.8\" y1=\"362.579\" x2=\"152.8\" y2=\"362.579\" style=\"stroke:#000000; stroke-opacity:1\"/>\n",
       "<line clip-path=\"url(#clip2502)\" x1=\"163.917\" y1=\"362.579\" x2=\"157.917\" y2=\"362.579\" style=\"stroke:#000000; stroke-opacity:1\"/>\n",
       "<line clip-path=\"url(#clip2502)\" x1=\"163.917\" y1=\"362.579\" x2=\"157.917\" y2=\"362.579\" style=\"stroke:#000000; stroke-opacity:1\"/>\n",
       "<line clip-path=\"url(#clip2502)\" x1=\"169.033\" y1=\"362.579\" x2=\"163.033\" y2=\"362.579\" style=\"stroke:#000000; stroke-opacity:1\"/>\n",
       "<line clip-path=\"url(#clip2502)\" x1=\"169.033\" y1=\"362.579\" x2=\"163.033\" y2=\"362.579\" style=\"stroke:#000000; stroke-opacity:1\"/>\n",
       "<line clip-path=\"url(#clip2502)\" x1=\"174.15\" y1=\"362.579\" x2=\"168.15\" y2=\"362.579\" style=\"stroke:#000000; stroke-opacity:1\"/>\n",
       "<line clip-path=\"url(#clip2502)\" x1=\"174.15\" y1=\"362.579\" x2=\"168.15\" y2=\"362.579\" style=\"stroke:#000000; stroke-opacity:1\"/>\n",
       "<line clip-path=\"url(#clip2502)\" x1=\"179.266\" y1=\"362.579\" x2=\"173.266\" y2=\"362.579\" style=\"stroke:#000000; stroke-opacity:1\"/>\n",
       "<line clip-path=\"url(#clip2502)\" x1=\"179.266\" y1=\"362.579\" x2=\"173.266\" y2=\"362.579\" style=\"stroke:#000000; stroke-opacity:1\"/>\n",
       "<line clip-path=\"url(#clip2502)\" x1=\"184.383\" y1=\"362.579\" x2=\"178.383\" y2=\"362.579\" style=\"stroke:#000000; stroke-opacity:1\"/>\n",
       "<line clip-path=\"url(#clip2502)\" x1=\"184.383\" y1=\"362.579\" x2=\"178.383\" y2=\"362.579\" style=\"stroke:#000000; stroke-opacity:1\"/>\n",
       "<line clip-path=\"url(#clip2502)\" x1=\"189.499\" y1=\"362.579\" x2=\"183.499\" y2=\"362.579\" style=\"stroke:#000000; stroke-opacity:1\"/>\n",
       "<line clip-path=\"url(#clip2502)\" x1=\"189.499\" y1=\"362.579\" x2=\"183.499\" y2=\"362.579\" style=\"stroke:#000000; stroke-opacity:1\"/>\n",
       "<line clip-path=\"url(#clip2502)\" x1=\"194.616\" y1=\"362.579\" x2=\"188.616\" y2=\"362.579\" style=\"stroke:#000000; stroke-opacity:1\"/>\n",
       "<line clip-path=\"url(#clip2502)\" x1=\"194.616\" y1=\"362.579\" x2=\"188.616\" y2=\"362.579\" style=\"stroke:#000000; stroke-opacity:1\"/>\n",
       "<line clip-path=\"url(#clip2502)\" x1=\"199.732\" y1=\"362.579\" x2=\"193.732\" y2=\"362.579\" style=\"stroke:#000000; stroke-opacity:1\"/>\n",
       "<line clip-path=\"url(#clip2502)\" x1=\"199.732\" y1=\"362.579\" x2=\"193.732\" y2=\"362.579\" style=\"stroke:#000000; stroke-opacity:1\"/>\n",
       "<line clip-path=\"url(#clip2502)\" x1=\"204.849\" y1=\"362.579\" x2=\"198.849\" y2=\"362.579\" style=\"stroke:#000000; stroke-opacity:1\"/>\n",
       "<line clip-path=\"url(#clip2502)\" x1=\"204.849\" y1=\"362.579\" x2=\"198.849\" y2=\"362.579\" style=\"stroke:#000000; stroke-opacity:1\"/>\n",
       "<line clip-path=\"url(#clip2502)\" x1=\"209.965\" y1=\"362.579\" x2=\"203.965\" y2=\"362.579\" style=\"stroke:#000000; stroke-opacity:1\"/>\n",
       "<line clip-path=\"url(#clip2502)\" x1=\"209.965\" y1=\"362.579\" x2=\"203.965\" y2=\"362.579\" style=\"stroke:#000000; stroke-opacity:1\"/>\n",
       "<line clip-path=\"url(#clip2502)\" x1=\"215.081\" y1=\"362.579\" x2=\"209.081\" y2=\"362.579\" style=\"stroke:#000000; stroke-opacity:1\"/>\n",
       "<line clip-path=\"url(#clip2502)\" x1=\"215.081\" y1=\"362.579\" x2=\"209.081\" y2=\"362.579\" style=\"stroke:#000000; stroke-opacity:1\"/>\n",
       "<line clip-path=\"url(#clip2502)\" x1=\"220.198\" y1=\"362.579\" x2=\"214.198\" y2=\"362.579\" style=\"stroke:#000000; stroke-opacity:1\"/>\n",
       "<line clip-path=\"url(#clip2502)\" x1=\"220.198\" y1=\"362.579\" x2=\"214.198\" y2=\"362.579\" style=\"stroke:#000000; stroke-opacity:1\"/>\n",
       "<line clip-path=\"url(#clip2502)\" x1=\"225.314\" y1=\"362.579\" x2=\"219.314\" y2=\"362.579\" style=\"stroke:#000000; stroke-opacity:1\"/>\n",
       "<line clip-path=\"url(#clip2502)\" x1=\"225.314\" y1=\"362.579\" x2=\"219.314\" y2=\"362.579\" style=\"stroke:#000000; stroke-opacity:1\"/>\n",
       "<line clip-path=\"url(#clip2502)\" x1=\"230.431\" y1=\"362.579\" x2=\"224.431\" y2=\"362.579\" style=\"stroke:#000000; stroke-opacity:1\"/>\n",
       "<line clip-path=\"url(#clip2502)\" x1=\"230.431\" y1=\"362.579\" x2=\"224.431\" y2=\"362.579\" style=\"stroke:#000000; stroke-opacity:1\"/>\n",
       "<line clip-path=\"url(#clip2502)\" x1=\"235.547\" y1=\"362.579\" x2=\"229.547\" y2=\"362.579\" style=\"stroke:#000000; stroke-opacity:1\"/>\n",
       "<line clip-path=\"url(#clip2502)\" x1=\"235.547\" y1=\"362.579\" x2=\"229.547\" y2=\"362.579\" style=\"stroke:#000000; stroke-opacity:1\"/>\n",
       "<line clip-path=\"url(#clip2502)\" x1=\"240.664\" y1=\"362.579\" x2=\"234.664\" y2=\"362.579\" style=\"stroke:#000000; stroke-opacity:1\"/>\n",
       "<line clip-path=\"url(#clip2502)\" x1=\"240.664\" y1=\"362.579\" x2=\"234.664\" y2=\"362.579\" style=\"stroke:#000000; stroke-opacity:1\"/>\n",
       "<line clip-path=\"url(#clip2502)\" x1=\"245.78\" y1=\"362.579\" x2=\"239.78\" y2=\"362.579\" style=\"stroke:#000000; stroke-opacity:1\"/>\n",
       "<line clip-path=\"url(#clip2502)\" x1=\"245.78\" y1=\"362.579\" x2=\"239.78\" y2=\"362.579\" style=\"stroke:#000000; stroke-opacity:1\"/>\n",
       "<line clip-path=\"url(#clip2502)\" x1=\"250.897\" y1=\"362.579\" x2=\"244.897\" y2=\"362.579\" style=\"stroke:#000000; stroke-opacity:1\"/>\n",
       "<line clip-path=\"url(#clip2502)\" x1=\"250.897\" y1=\"362.579\" x2=\"244.897\" y2=\"362.579\" style=\"stroke:#000000; stroke-opacity:1\"/>\n",
       "<line clip-path=\"url(#clip2502)\" x1=\"256.013\" y1=\"362.579\" x2=\"250.013\" y2=\"362.579\" style=\"stroke:#000000; stroke-opacity:1\"/>\n",
       "<line clip-path=\"url(#clip2502)\" x1=\"256.013\" y1=\"362.579\" x2=\"250.013\" y2=\"362.579\" style=\"stroke:#000000; stroke-opacity:1\"/>\n",
       "<line clip-path=\"url(#clip2502)\" x1=\"261.13\" y1=\"362.579\" x2=\"255.13\" y2=\"362.579\" style=\"stroke:#000000; stroke-opacity:1\"/>\n",
       "<line clip-path=\"url(#clip2502)\" x1=\"261.13\" y1=\"362.579\" x2=\"255.13\" y2=\"362.579\" style=\"stroke:#000000; stroke-opacity:1\"/>\n",
       "<line clip-path=\"url(#clip2502)\" x1=\"266.246\" y1=\"362.579\" x2=\"260.246\" y2=\"362.579\" style=\"stroke:#000000; stroke-opacity:1\"/>\n",
       "<line clip-path=\"url(#clip2502)\" x1=\"266.246\" y1=\"362.579\" x2=\"260.246\" y2=\"362.579\" style=\"stroke:#000000; stroke-opacity:1\"/>\n",
       "<line clip-path=\"url(#clip2502)\" x1=\"271.363\" y1=\"362.579\" x2=\"265.363\" y2=\"362.579\" style=\"stroke:#000000; stroke-opacity:1\"/>\n",
       "<line clip-path=\"url(#clip2502)\" x1=\"271.363\" y1=\"362.579\" x2=\"265.363\" y2=\"362.579\" style=\"stroke:#000000; stroke-opacity:1\"/>\n",
       "<line clip-path=\"url(#clip2502)\" x1=\"276.479\" y1=\"364.84\" x2=\"270.479\" y2=\"364.84\" style=\"stroke:#000000; stroke-opacity:1\"/>\n",
       "<line clip-path=\"url(#clip2502)\" x1=\"276.479\" y1=\"346.362\" x2=\"270.479\" y2=\"346.362\" style=\"stroke:#000000; stroke-opacity:1\"/>\n",
       "<line clip-path=\"url(#clip2502)\" x1=\"281.596\" y1=\"365.001\" x2=\"275.596\" y2=\"365.001\" style=\"stroke:#000000; stroke-opacity:1\"/>\n",
       "<line clip-path=\"url(#clip2502)\" x1=\"281.596\" y1=\"347.486\" x2=\"275.596\" y2=\"347.486\" style=\"stroke:#000000; stroke-opacity:1\"/>\n",
       "<line clip-path=\"url(#clip2502)\" x1=\"286.712\" y1=\"363.046\" x2=\"280.712\" y2=\"363.046\" style=\"stroke:#000000; stroke-opacity:1\"/>\n",
       "<line clip-path=\"url(#clip2502)\" x1=\"286.712\" y1=\"341.292\" x2=\"280.712\" y2=\"341.292\" style=\"stroke:#000000; stroke-opacity:1\"/>\n",
       "<line clip-path=\"url(#clip2502)\" x1=\"291.829\" y1=\"354.592\" x2=\"285.829\" y2=\"354.592\" style=\"stroke:#000000; stroke-opacity:1\"/>\n",
       "<line clip-path=\"url(#clip2502)\" x1=\"291.829\" y1=\"317.434\" x2=\"285.829\" y2=\"317.434\" style=\"stroke:#000000; stroke-opacity:1\"/>\n",
       "<line clip-path=\"url(#clip2502)\" x1=\"296.945\" y1=\"333.339\" x2=\"290.945\" y2=\"333.339\" style=\"stroke:#000000; stroke-opacity:1\"/>\n",
       "<line clip-path=\"url(#clip2502)\" x1=\"296.945\" y1=\"278.868\" x2=\"290.945\" y2=\"278.868\" style=\"stroke:#000000; stroke-opacity:1\"/>\n",
       "<line clip-path=\"url(#clip2502)\" x1=\"302.062\" y1=\"341.285\" x2=\"296.062\" y2=\"341.285\" style=\"stroke:#000000; stroke-opacity:1\"/>\n",
       "<line clip-path=\"url(#clip2502)\" x1=\"302.062\" y1=\"294.83\" x2=\"296.062\" y2=\"294.83\" style=\"stroke:#000000; stroke-opacity:1\"/>\n",
       "<line clip-path=\"url(#clip2502)\" x1=\"307.178\" y1=\"350.293\" x2=\"301.178\" y2=\"350.293\" style=\"stroke:#000000; stroke-opacity:1\"/>\n",
       "<line clip-path=\"url(#clip2502)\" x1=\"307.178\" y1=\"307.455\" x2=\"301.178\" y2=\"307.455\" style=\"stroke:#000000; stroke-opacity:1\"/>\n",
       "<line clip-path=\"url(#clip2502)\" x1=\"312.295\" y1=\"360.231\" x2=\"306.295\" y2=\"360.231\" style=\"stroke:#000000; stroke-opacity:1\"/>\n",
       "<line clip-path=\"url(#clip2502)\" x1=\"312.295\" y1=\"327.955\" x2=\"306.295\" y2=\"327.955\" style=\"stroke:#000000; stroke-opacity:1\"/>\n",
       "<line clip-path=\"url(#clip2502)\" x1=\"317.411\" y1=\"355.449\" x2=\"311.411\" y2=\"355.449\" style=\"stroke:#000000; stroke-opacity:1\"/>\n",
       "<line clip-path=\"url(#clip2502)\" x1=\"317.411\" y1=\"324.847\" x2=\"311.411\" y2=\"324.847\" style=\"stroke:#000000; stroke-opacity:1\"/>\n",
       "<line clip-path=\"url(#clip2502)\" x1=\"322.528\" y1=\"363.401\" x2=\"316.528\" y2=\"363.401\" style=\"stroke:#000000; stroke-opacity:1\"/>\n",
       "<line clip-path=\"url(#clip2502)\" x1=\"322.528\" y1=\"343.518\" x2=\"316.528\" y2=\"343.518\" style=\"stroke:#000000; stroke-opacity:1\"/>\n",
       "<line clip-path=\"url(#clip2502)\" x1=\"327.644\" y1=\"347.827\" x2=\"321.644\" y2=\"347.827\" style=\"stroke:#000000; stroke-opacity:1\"/>\n",
       "<line clip-path=\"url(#clip2502)\" x1=\"327.644\" y1=\"308.948\" x2=\"321.644\" y2=\"308.948\" style=\"stroke:#000000; stroke-opacity:1\"/>\n",
       "<line clip-path=\"url(#clip2502)\" x1=\"332.761\" y1=\"365.421\" x2=\"326.761\" y2=\"365.421\" style=\"stroke:#000000; stroke-opacity:1\"/>\n",
       "<line clip-path=\"url(#clip2502)\" x1=\"332.761\" y1=\"357.034\" x2=\"326.761\" y2=\"357.034\" style=\"stroke:#000000; stroke-opacity:1\"/>\n",
       "<line clip-path=\"url(#clip2502)\" x1=\"337.877\" y1=\"356.927\" x2=\"331.877\" y2=\"356.927\" style=\"stroke:#000000; stroke-opacity:1\"/>\n",
       "<line clip-path=\"url(#clip2502)\" x1=\"337.877\" y1=\"327.433\" x2=\"331.877\" y2=\"327.433\" style=\"stroke:#000000; stroke-opacity:1\"/>\n",
       "<line clip-path=\"url(#clip2502)\" x1=\"342.994\" y1=\"358.01\" x2=\"336.994\" y2=\"358.01\" style=\"stroke:#000000; stroke-opacity:1\"/>\n",
       "<line clip-path=\"url(#clip2502)\" x1=\"342.994\" y1=\"322.738\" x2=\"336.994\" y2=\"322.738\" style=\"stroke:#000000; stroke-opacity:1\"/>\n",
       "<line clip-path=\"url(#clip2502)\" x1=\"348.11\" y1=\"331.26\" x2=\"342.11\" y2=\"331.26\" style=\"stroke:#000000; stroke-opacity:1\"/>\n",
       "<line clip-path=\"url(#clip2502)\" x1=\"348.11\" y1=\"273.553\" x2=\"342.11\" y2=\"273.553\" style=\"stroke:#000000; stroke-opacity:1\"/>\n",
       "<line clip-path=\"url(#clip2502)\" x1=\"353.227\" y1=\"307.618\" x2=\"347.227\" y2=\"307.618\" style=\"stroke:#000000; stroke-opacity:1\"/>\n",
       "<line clip-path=\"url(#clip2502)\" x1=\"353.227\" y1=\"236.318\" x2=\"347.227\" y2=\"236.318\" style=\"stroke:#000000; stroke-opacity:1\"/>\n",
       "<line clip-path=\"url(#clip2502)\" x1=\"358.343\" y1=\"305.558\" x2=\"352.343\" y2=\"305.558\" style=\"stroke:#000000; stroke-opacity:1\"/>\n",
       "<line clip-path=\"url(#clip2502)\" x1=\"358.343\" y1=\"237.349\" x2=\"352.343\" y2=\"237.349\" style=\"stroke:#000000; stroke-opacity:1\"/>\n",
       "<line clip-path=\"url(#clip2502)\" x1=\"363.46\" y1=\"231.364\" x2=\"357.46\" y2=\"231.364\" style=\"stroke:#000000; stroke-opacity:1\"/>\n",
       "<line clip-path=\"url(#clip2502)\" x1=\"363.46\" y1=\"134.51\" x2=\"357.46\" y2=\"134.51\" style=\"stroke:#000000; stroke-opacity:1\"/>\n",
       "<line clip-path=\"url(#clip2502)\" x1=\"368.576\" y1=\"294.558\" x2=\"362.576\" y2=\"294.558\" style=\"stroke:#000000; stroke-opacity:1\"/>\n",
       "<line clip-path=\"url(#clip2502)\" x1=\"368.576\" y1=\"222.892\" x2=\"362.576\" y2=\"222.892\" style=\"stroke:#000000; stroke-opacity:1\"/>\n",
       "<line clip-path=\"url(#clip2502)\" x1=\"373.693\" y1=\"136.06\" x2=\"367.693\" y2=\"136.06\" style=\"stroke:#000000; stroke-opacity:1\"/>\n",
       "<line clip-path=\"url(#clip2502)\" x1=\"373.693\" y1=\"22.113\" x2=\"367.693\" y2=\"22.113\" style=\"stroke:#000000; stroke-opacity:1\"/>\n",
       "<line clip-path=\"url(#clip2502)\" x1=\"378.809\" y1=\"211.506\" x2=\"372.809\" y2=\"211.506\" style=\"stroke:#000000; stroke-opacity:1\"/>\n",
       "<line clip-path=\"url(#clip2502)\" x1=\"378.809\" y1=\"120.45\" x2=\"372.809\" y2=\"120.45\" style=\"stroke:#000000; stroke-opacity:1\"/>\n",
       "<line clip-path=\"url(#clip2502)\" x1=\"383.926\" y1=\"212.71\" x2=\"377.926\" y2=\"212.71\" style=\"stroke:#000000; stroke-opacity:1\"/>\n",
       "<line clip-path=\"url(#clip2502)\" x1=\"383.926\" y1=\"124.721\" x2=\"377.926\" y2=\"124.721\" style=\"stroke:#000000; stroke-opacity:1\"/>\n",
       "<line clip-path=\"url(#clip2502)\" x1=\"389.042\" y1=\"201.282\" x2=\"383.042\" y2=\"201.282\" style=\"stroke:#000000; stroke-opacity:1\"/>\n",
       "<line clip-path=\"url(#clip2502)\" x1=\"389.042\" y1=\"109.147\" x2=\"383.042\" y2=\"109.147\" style=\"stroke:#000000; stroke-opacity:1\"/>\n",
       "<line clip-path=\"url(#clip2502)\" x1=\"394.158\" y1=\"151.704\" x2=\"388.158\" y2=\"151.704\" style=\"stroke:#000000; stroke-opacity:1\"/>\n",
       "<line clip-path=\"url(#clip2502)\" x1=\"394.158\" y1=\"49.4715\" x2=\"388.158\" y2=\"49.4715\" style=\"stroke:#000000; stroke-opacity:1\"/>\n",
       "<line clip-path=\"url(#clip2502)\" x1=\"399.275\" y1=\"200.558\" x2=\"393.275\" y2=\"200.558\" style=\"stroke:#000000; stroke-opacity:1\"/>\n",
       "<line clip-path=\"url(#clip2502)\" x1=\"399.275\" y1=\"109.484\" x2=\"393.275\" y2=\"109.484\" style=\"stroke:#000000; stroke-opacity:1\"/>\n",
       "<line clip-path=\"url(#clip2502)\" x1=\"404.391\" y1=\"160.053\" x2=\"398.391\" y2=\"160.053\" style=\"stroke:#000000; stroke-opacity:1\"/>\n",
       "<line clip-path=\"url(#clip2502)\" x1=\"404.391\" y1=\"59.685\" x2=\"398.391\" y2=\"59.685\" style=\"stroke:#000000; stroke-opacity:1\"/>\n",
       "<line clip-path=\"url(#clip2502)\" x1=\"409.508\" y1=\"179.984\" x2=\"403.508\" y2=\"179.984\" style=\"stroke:#000000; stroke-opacity:1\"/>\n",
       "<line clip-path=\"url(#clip2502)\" x1=\"409.508\" y1=\"82.8209\" x2=\"403.508\" y2=\"82.8209\" style=\"stroke:#000000; stroke-opacity:1\"/>\n",
       "<line clip-path=\"url(#clip2502)\" x1=\"414.624\" y1=\"270.203\" x2=\"408.624\" y2=\"270.203\" style=\"stroke:#000000; stroke-opacity:1\"/>\n",
       "<line clip-path=\"url(#clip2502)\" x1=\"414.624\" y1=\"199.053\" x2=\"408.624\" y2=\"199.053\" style=\"stroke:#000000; stroke-opacity:1\"/>\n",
       "<line clip-path=\"url(#clip2502)\" x1=\"419.741\" y1=\"249.467\" x2=\"413.741\" y2=\"249.467\" style=\"stroke:#000000; stroke-opacity:1\"/>\n",
       "<line clip-path=\"url(#clip2502)\" x1=\"419.741\" y1=\"171.044\" x2=\"413.741\" y2=\"171.044\" style=\"stroke:#000000; stroke-opacity:1\"/>\n",
       "<line clip-path=\"url(#clip2502)\" x1=\"424.857\" y1=\"262.55\" x2=\"418.857\" y2=\"262.55\" style=\"stroke:#000000; stroke-opacity:1\"/>\n",
       "<line clip-path=\"url(#clip2502)\" x1=\"424.857\" y1=\"187.919\" x2=\"418.857\" y2=\"187.919\" style=\"stroke:#000000; stroke-opacity:1\"/>\n",
       "<line clip-path=\"url(#clip2502)\" x1=\"429.974\" y1=\"287.16\" x2=\"423.974\" y2=\"287.16\" style=\"stroke:#000000; stroke-opacity:1\"/>\n",
       "<line clip-path=\"url(#clip2502)\" x1=\"429.974\" y1=\"219.232\" x2=\"423.974\" y2=\"219.232\" style=\"stroke:#000000; stroke-opacity:1\"/>\n",
       "<line clip-path=\"url(#clip2502)\" x1=\"435.09\" y1=\"329.313\" x2=\"429.09\" y2=\"329.313\" style=\"stroke:#000000; stroke-opacity:1\"/>\n",
       "<line clip-path=\"url(#clip2502)\" x1=\"435.09\" y1=\"278.041\" x2=\"429.09\" y2=\"278.041\" style=\"stroke:#000000; stroke-opacity:1\"/>\n",
       "<line clip-path=\"url(#clip2502)\" x1=\"440.207\" y1=\"257.537\" x2=\"434.207\" y2=\"257.537\" style=\"stroke:#000000; stroke-opacity:1\"/>\n",
       "<line clip-path=\"url(#clip2502)\" x1=\"440.207\" y1=\"179.958\" x2=\"434.207\" y2=\"179.958\" style=\"stroke:#000000; stroke-opacity:1\"/>\n",
       "<line clip-path=\"url(#clip2502)\" x1=\"445.323\" y1=\"166.71\" x2=\"439.323\" y2=\"166.71\" style=\"stroke:#000000; stroke-opacity:1\"/>\n",
       "<line clip-path=\"url(#clip2502)\" x1=\"445.323\" y1=\"63.4463\" x2=\"439.323\" y2=\"63.4463\" style=\"stroke:#000000; stroke-opacity:1\"/>\n",
       "<line clip-path=\"url(#clip2502)\" x1=\"450.44\" y1=\"212.695\" x2=\"444.44\" y2=\"212.695\" style=\"stroke:#000000; stroke-opacity:1\"/>\n",
       "<line clip-path=\"url(#clip2502)\" x1=\"450.44\" y1=\"117.639\" x2=\"444.44\" y2=\"117.639\" style=\"stroke:#000000; stroke-opacity:1\"/>\n",
       "<line clip-path=\"url(#clip2502)\" x1=\"455.556\" y1=\"290.846\" x2=\"449.556\" y2=\"290.846\" style=\"stroke:#000000; stroke-opacity:1\"/>\n",
       "<line clip-path=\"url(#clip2502)\" x1=\"455.556\" y1=\"224.608\" x2=\"449.556\" y2=\"224.608\" style=\"stroke:#000000; stroke-opacity:1\"/>\n",
       "<line clip-path=\"url(#clip2502)\" x1=\"460.673\" y1=\"274.918\" x2=\"454.673\" y2=\"274.918\" style=\"stroke:#000000; stroke-opacity:1\"/>\n",
       "<line clip-path=\"url(#clip2502)\" x1=\"460.673\" y1=\"203.994\" x2=\"454.673\" y2=\"203.994\" style=\"stroke:#000000; stroke-opacity:1\"/>\n",
       "<line clip-path=\"url(#clip2502)\" x1=\"465.789\" y1=\"316.74\" x2=\"459.789\" y2=\"316.74\" style=\"stroke:#000000; stroke-opacity:1\"/>\n",
       "<line clip-path=\"url(#clip2502)\" x1=\"465.789\" y1=\"256.779\" x2=\"459.789\" y2=\"256.779\" style=\"stroke:#000000; stroke-opacity:1\"/>\n",
       "<line clip-path=\"url(#clip2502)\" x1=\"470.906\" y1=\"293.205\" x2=\"464.906\" y2=\"293.205\" style=\"stroke:#000000; stroke-opacity:1\"/>\n",
       "<line clip-path=\"url(#clip2502)\" x1=\"470.906\" y1=\"223.85\" x2=\"464.906\" y2=\"223.85\" style=\"stroke:#000000; stroke-opacity:1\"/>\n",
       "<line clip-path=\"url(#clip2502)\" x1=\"476.022\" y1=\"279.645\" x2=\"470.022\" y2=\"279.645\" style=\"stroke:#000000; stroke-opacity:1\"/>\n",
       "<line clip-path=\"url(#clip2502)\" x1=\"476.022\" y1=\"204.783\" x2=\"470.022\" y2=\"204.783\" style=\"stroke:#000000; stroke-opacity:1\"/>\n",
       "<line clip-path=\"url(#clip2502)\" x1=\"481.139\" y1=\"348.054\" x2=\"475.139\" y2=\"348.054\" style=\"stroke:#000000; stroke-opacity:1\"/>\n",
       "<line clip-path=\"url(#clip2502)\" x1=\"481.139\" y1=\"310.999\" x2=\"475.139\" y2=\"310.999\" style=\"stroke:#000000; stroke-opacity:1\"/>\n",
       "<line clip-path=\"url(#clip2502)\" x1=\"486.255\" y1=\"300.94\" x2=\"480.255\" y2=\"300.94\" style=\"stroke:#000000; stroke-opacity:1\"/>\n",
       "<line clip-path=\"url(#clip2502)\" x1=\"486.255\" y1=\"236.988\" x2=\"480.255\" y2=\"236.988\" style=\"stroke:#000000; stroke-opacity:1\"/>\n",
       "<line clip-path=\"url(#clip2502)\" x1=\"491.372\" y1=\"348.938\" x2=\"485.372\" y2=\"348.938\" style=\"stroke:#000000; stroke-opacity:1\"/>\n",
       "<line clip-path=\"url(#clip2502)\" x1=\"491.372\" y1=\"313.487\" x2=\"485.372\" y2=\"313.487\" style=\"stroke:#000000; stroke-opacity:1\"/>\n",
       "<line clip-path=\"url(#clip2502)\" x1=\"496.488\" y1=\"350.143\" x2=\"490.488\" y2=\"350.143\" style=\"stroke:#000000; stroke-opacity:1\"/>\n",
       "<line clip-path=\"url(#clip2502)\" x1=\"496.488\" y1=\"313.995\" x2=\"490.488\" y2=\"313.995\" style=\"stroke:#000000; stroke-opacity:1\"/>\n",
       "<line clip-path=\"url(#clip2502)\" x1=\"501.605\" y1=\"349.692\" x2=\"495.605\" y2=\"349.692\" style=\"stroke:#000000; stroke-opacity:1\"/>\n",
       "<line clip-path=\"url(#clip2502)\" x1=\"501.605\" y1=\"312.165\" x2=\"495.605\" y2=\"312.165\" style=\"stroke:#000000; stroke-opacity:1\"/>\n",
       "<line clip-path=\"url(#clip2502)\" x1=\"506.721\" y1=\"307.29\" x2=\"500.721\" y2=\"307.29\" style=\"stroke:#000000; stroke-opacity:1\"/>\n",
       "<line clip-path=\"url(#clip2502)\" x1=\"506.721\" y1=\"241.446\" x2=\"500.721\" y2=\"241.446\" style=\"stroke:#000000; stroke-opacity:1\"/>\n",
       "<line clip-path=\"url(#clip2502)\" x1=\"511.838\" y1=\"360.545\" x2=\"505.838\" y2=\"360.545\" style=\"stroke:#000000; stroke-opacity:1\"/>\n",
       "<line clip-path=\"url(#clip2502)\" x1=\"511.838\" y1=\"328.276\" x2=\"505.838\" y2=\"328.276\" style=\"stroke:#000000; stroke-opacity:1\"/>\n",
       "<line clip-path=\"url(#clip2502)\" x1=\"516.954\" y1=\"352.921\" x2=\"510.954\" y2=\"352.921\" style=\"stroke:#000000; stroke-opacity:1\"/>\n",
       "<line clip-path=\"url(#clip2502)\" x1=\"516.954\" y1=\"312.588\" x2=\"510.954\" y2=\"312.588\" style=\"stroke:#000000; stroke-opacity:1\"/>\n",
       "<line clip-path=\"url(#clip2502)\" x1=\"522.071\" y1=\"361.038\" x2=\"516.071\" y2=\"361.038\" style=\"stroke:#000000; stroke-opacity:1\"/>\n",
       "<line clip-path=\"url(#clip2502)\" x1=\"522.071\" y1=\"333.364\" x2=\"516.071\" y2=\"333.364\" style=\"stroke:#000000; stroke-opacity:1\"/>\n",
       "<line clip-path=\"url(#clip2502)\" x1=\"527.187\" y1=\"359.421\" x2=\"521.187\" y2=\"359.421\" style=\"stroke:#000000; stroke-opacity:1\"/>\n",
       "<line clip-path=\"url(#clip2502)\" x1=\"527.187\" y1=\"330.591\" x2=\"521.187\" y2=\"330.591\" style=\"stroke:#000000; stroke-opacity:1\"/>\n",
       "<line clip-path=\"url(#clip2502)\" x1=\"532.304\" y1=\"351.561\" x2=\"526.304\" y2=\"351.561\" style=\"stroke:#000000; stroke-opacity:1\"/>\n",
       "<line clip-path=\"url(#clip2502)\" x1=\"532.304\" y1=\"312.524\" x2=\"526.304\" y2=\"312.524\" style=\"stroke:#000000; stroke-opacity:1\"/>\n",
       "<line clip-path=\"url(#clip2502)\" x1=\"537.42\" y1=\"351.476\" x2=\"531.42\" y2=\"351.476\" style=\"stroke:#000000; stroke-opacity:1\"/>\n",
       "<line clip-path=\"url(#clip2502)\" x1=\"537.42\" y1=\"313.74\" x2=\"531.42\" y2=\"313.74\" style=\"stroke:#000000; stroke-opacity:1\"/>\n",
       "<line clip-path=\"url(#clip2502)\" x1=\"542.537\" y1=\"365.005\" x2=\"536.537\" y2=\"365.005\" style=\"stroke:#000000; stroke-opacity:1\"/>\n",
       "<line clip-path=\"url(#clip2502)\" x1=\"542.537\" y1=\"347.228\" x2=\"536.537\" y2=\"347.228\" style=\"stroke:#000000; stroke-opacity:1\"/>\n",
       "<line clip-path=\"url(#clip2502)\" x1=\"547.653\" y1=\"359.022\" x2=\"541.653\" y2=\"359.022\" style=\"stroke:#000000; stroke-opacity:1\"/>\n",
       "<line clip-path=\"url(#clip2502)\" x1=\"547.653\" y1=\"328.49\" x2=\"541.653\" y2=\"328.49\" style=\"stroke:#000000; stroke-opacity:1\"/>\n",
       "<line clip-path=\"url(#clip2502)\" x1=\"552.77\" y1=\"364.907\" x2=\"546.77\" y2=\"364.907\" style=\"stroke:#000000; stroke-opacity:1\"/>\n",
       "<line clip-path=\"url(#clip2502)\" x1=\"552.77\" y1=\"359.077\" x2=\"546.77\" y2=\"359.077\" style=\"stroke:#000000; stroke-opacity:1\"/>\n",
       "<line clip-path=\"url(#clip2502)\" x1=\"557.886\" y1=\"365.511\" x2=\"551.886\" y2=\"365.511\" style=\"stroke:#000000; stroke-opacity:1\"/>\n",
       "<line clip-path=\"url(#clip2502)\" x1=\"557.886\" y1=\"354.634\" x2=\"551.886\" y2=\"354.634\" style=\"stroke:#000000; stroke-opacity:1\"/>\n",
       "<line clip-path=\"url(#clip2502)\" x1=\"563.003\" y1=\"364.343\" x2=\"557.003\" y2=\"364.343\" style=\"stroke:#000000; stroke-opacity:1\"/>\n",
       "<line clip-path=\"url(#clip2502)\" x1=\"563.003\" y1=\"360.067\" x2=\"557.003\" y2=\"360.067\" style=\"stroke:#000000; stroke-opacity:1\"/>\n",
       "<line clip-path=\"url(#clip2502)\" x1=\"568.119\" y1=\"318.719\" x2=\"562.119\" y2=\"318.719\" style=\"stroke:#000000; stroke-opacity:1\"/>\n",
       "<line clip-path=\"url(#clip2502)\" x1=\"568.119\" y1=\"260.303\" x2=\"562.119\" y2=\"260.303\" style=\"stroke:#000000; stroke-opacity:1\"/>\n",
       "<polygon clip-path=\"url(#clip2500)\" points=\"\n",
       "419.305,62.931 562.315,62.931 562.315,32.691 419.305,32.691 \n",
       "  \" fill=\"#ffffff\" fill-opacity=\"1\"/>\n",
       "<polyline clip-path=\"url(#clip2500)\" style=\"stroke:#000000; stroke-width:1; stroke-opacity:1; fill:none\" points=\"\n",
       "  419.305,62.931 562.315,62.931 562.315,32.691 419.305,32.691 419.305,62.931 \n",
       "  \"/>\n",
       "<polyline clip-path=\"url(#clip2500)\" style=\"stroke:#000000; stroke-width:1; stroke-opacity:0; fill:none\" points=\"\n",
       "  425.305,47.811 461.305,47.811 \n",
       "  \"/>\n",
       "<circle clip-path=\"url(#clip2500)\" style=\"fill:#000000; stroke:none; fill-opacity:1\" cx=\"446.305\" cy=\"47.811\" r=\"6\"/>\n",
       "<circle clip-path=\"url(#clip2500)\" style=\"fill:#009af9; stroke:none; fill-opacity:1\" cx=\"446.305\" cy=\"47.811\" r=\"5\"/>\n",
       "<g clip-path=\"url(#clip2500)\">\n",
       "<text style=\"fill:#000000; fill-opacity:1; font-family:Arial,Helvetica Neue,Helvetica,sans-serif; font-size:12; text-anchor:start;\" transform=\"rotate(0, 467.305, 52.311)\" x=\"467.305\" y=\"52.311\">1-(3-+)1+f2piD</text>\n",
       "</g>\n",
       "</svg>\n"
      ]
     },
     "execution_count": 77,
     "metadata": {
      "comm_id": "76d499f0-0004-408a-aae1-79055de1d913",
      "reactive": true
     },
     "output_type": "execute_result"
    }
   ],
   "source": [
    "@manipulate for wavei = 1:88, trimei = 1:11,scale=Dict(\"auto\"=>:auto, \"fixed\"=>(0,240000))\n",
    "    plot(mnXb,real.(all_SDMs[trimei,:,wavei,wavei]), yerr = real.(all_SDMes[trimei,:,wavei,wavei]),\n",
    "        l=nothing, ylim=scale, m=(2, stroke(1,:black)),\n",
    "        lab=wavenames[wavei])\n",
    "end"
   ]
  },
  {
   "cell_type": "code",
   "execution_count": null,
   "metadata": {},
   "outputs": [],
   "source": [
    "shorten_wavenames = [replace(replace(replace(w,\"1-(\",\"(\"),\"pi\",\" \"),\"(  )_S\",\"(pipi)_S\") for w in wavenames]"
   ]
  },
  {
   "cell_type": "code",
   "execution_count": 154,
   "metadata": {},
   "outputs": [
    {
     "data": {
      "text/plain": [
       "Plots.GRBackend()"
      ]
     },
     "execution_count": 154,
     "metadata": {},
     "output_type": "execute_result"
    }
   ],
   "source": [
    "gr() # or plotly"
   ]
  },
  {
   "cell_type": "code",
   "execution_count": 174,
   "metadata": {},
   "outputs": [
    {
     "data": {
      "text/plain": [
       "create_interactive_plot_vs_mass (generic function with 3 methods)"
      ]
     },
     "execution_count": 174,
     "metadata": {},
     "output_type": "execute_result"
    }
   ],
   "source": [
    "function create_interactive_plot_vs_mass(what_to_plot, what_to_error, title=\"\";\n",
    "        fixed_range::Tuple{Float64,Float64}=(0.0,1.0))\n",
    "    @manipulate for wavei = OrderedDict(shorten_wavenames[i] => i for i = 1:88),\n",
    "        tprimei = 1:11, scale=Dict(\"auto\"=>:auto, \"fixed\"=>fixed_range)\n",
    "        plot(mnXb,what_to_plot(tprimei, wavei), yerr = what_to_error(tprimei, wavei),\n",
    "            l=nothing, ylim=scale, m=(2, stroke(1,:black)),\n",
    "            lab=\"\", size=(900,500), title=title, xlab=\"M3pi (GeV)\")\n",
    "    end\n",
    "end"
   ]
  },
  {
   "cell_type": "code",
   "execution_count": 179,
   "metadata": {},
   "outputs": [
    {
     "data": {
      "text/html": [],
      "text/plain": [
       "Interact.Options{:ToggleButtons,Any}(407: \"input-157\" = 1 Any , \"wavei\", 1, \"flat\", 1, Interact.OptionDict(DataStructures.OrderedDict{String,Any}(\"flat\"=>1,\"(1++)0+rho S\"=>2,\"(0-+)0+(pipi)_S S\"=>3,\"(0-+)0+f0(980) S\"=>4,\"(0-+)0+rho P\"=>5,\"(0-+)0+f0(1500) S\"=>6,\"(0-+)0+f2 D\"=>7,\"(1++)1+rho S\"=>8,\"(1++)0+rho D\"=>9,\"(1++)1+rho D\"=>10…), Dict{Any,String}(Pair{Any,String}(68, \"(5++)0+rho3 D\"),Pair{Any,String}(2, \"(1++)0+rho S\"),Pair{Any,String}(11, \"(1++)0+(pipi)_S P\"),Pair{Any,String}(39, \"(2-+)1+rho3 P\"),Pair{Any,String}(46, \"(3++)1+rho D\"),Pair{Any,String}(85, \"(2++)0-rho D\"),Pair{Any,String}(25, \"(2++)1+rho3 D\"),Pair{Any,String}(55, \"(3++)1+(pipi)_S F\"),Pair{Any,String}(42, \"(2-+)0+f0(980) D\"),Pair{Any,String}(29, \"(2-+)0+f2 D\")…)), Any[], Any[], true, \"horizontal\", true)"
      ]
     },
     "metadata": {},
     "output_type": "display_data"
    },
    {
     "data": {
      "text/html": [],
      "text/plain": [
       "Interact.Options{:SelectionSlider,Int64}(409: \"input-158\" = 6 Int64 , \"tprimei\", 6, \"6\", 6, Interact.OptionDict(DataStructures.OrderedDict(\"1\"=>1,\"2\"=>2,\"3\"=>3,\"4\"=>4,\"5\"=>5,\"6\"=>6,\"7\"=>7,\"8\"=>8,\"9\"=>9,\"10\"=>10…), Dict(2=>\"2\",11=>\"11\",7=>\"7\",9=>\"9\",10=>\"10\",8=>\"8\",6=>\"6\",4=>\"4\",3=>\"3\",5=>\"5\"…)), Any[], Any[], true, \"horizontal\", true)"
      ]
     },
     "metadata": {},
     "output_type": "display_data"
    },
    {
     "data": {
      "text/html": [],
      "text/plain": [
       "Interact.Options{:ToggleButtons,Any}(411: \"input-159\" = auto Any , \"scale\", :auto, \"auto\", 1, Interact.OptionDict(DataStructures.OrderedDict{String,Any}(\"auto\"=>:auto,\"fixed\"=>(0.0, 200000.0)), Dict{Any,String}(Pair{Any,String}((0.0, 200000.0), \"fixed\"),Pair{Any,String}(:auto, \"auto\"))), Any[], Any[], true, \"horizontal\", true)"
      ]
     },
     "metadata": {},
     "output_type": "display_data"
    },
    {
     "data": {
      "image/svg+xml": [
       "<?xml version=\"1.0\" encoding=\"utf-8\"?>\n",
       "<svg xmlns=\"http://www.w3.org/2000/svg\" xmlns:xlink=\"http://www.w3.org/1999/xlink\" width=\"900\" height=\"500\" viewBox=\"0 0 900 500\">\n",
       "<defs>\n",
       "  <clipPath id=\"clip00\">\n",
       "    <rect x=\"0\" y=\"0\" width=\"900\" height=\"500\"/>\n",
       "  </clipPath>\n",
       "</defs>\n",
       "<polygon clip-path=\"url(#clip3900)\" points=\"\n",
       "0,500 900,500 900,0 0,0 \n",
       "  \" fill=\"#ffffff\" fill-opacity=\"1\"/>\n",
       "<defs>\n",
       "  <clipPath id=\"clip01\">\n",
       "    <rect x=\"180\" y=\"0\" width=\"631\" height=\"500\"/>\n",
       "  </clipPath>\n",
       "</defs>\n",
       "<polygon clip-path=\"url(#clip3900)\" points=\"\n",
       "49.9806,461.472 880.315,461.472 880.315,31.4961 49.9806,31.4961 \n",
       "  \" fill=\"#ffffff\" fill-opacity=\"1\"/>\n",
       "<defs>\n",
       "  <clipPath id=\"clip02\">\n",
       "    <rect x=\"49\" y=\"31\" width=\"831\" height=\"431\"/>\n",
       "  </clipPath>\n",
       "</defs>\n",
       "<polyline clip-path=\"url(#clip3902)\" style=\"stroke:#000000; stroke-width:0.5; stroke-opacity:0.1; fill:none\" points=\"\n",
       "  69.5244,461.472 69.5244,31.4961 \n",
       "  \"/>\n",
       "<polyline clip-path=\"url(#clip3902)\" style=\"stroke:#000000; stroke-width:0.5; stroke-opacity:0.1; fill:none\" points=\"\n",
       "  267.336,461.472 267.336,31.4961 \n",
       "  \"/>\n",
       "<polyline clip-path=\"url(#clip3902)\" style=\"stroke:#000000; stroke-width:0.5; stroke-opacity:0.1; fill:none\" points=\"\n",
       "  465.148,461.472 465.148,31.4961 \n",
       "  \"/>\n",
       "<polyline clip-path=\"url(#clip3902)\" style=\"stroke:#000000; stroke-width:0.5; stroke-opacity:0.1; fill:none\" points=\"\n",
       "  662.959,461.472 662.959,31.4961 \n",
       "  \"/>\n",
       "<polyline clip-path=\"url(#clip3902)\" style=\"stroke:#000000; stroke-width:0.5; stroke-opacity:0.1; fill:none\" points=\"\n",
       "  860.771,461.472 860.771,31.4961 \n",
       "  \"/>\n",
       "<polyline clip-path=\"url(#clip3902)\" style=\"stroke:#000000; stroke-width:0.5; stroke-opacity:0.1; fill:none\" points=\"\n",
       "  49.9806,444.017 880.315,444.017 \n",
       "  \"/>\n",
       "<polyline clip-path=\"url(#clip3902)\" style=\"stroke:#000000; stroke-width:0.5; stroke-opacity:0.1; fill:none\" points=\"\n",
       "  49.9806,328.992 880.315,328.992 \n",
       "  \"/>\n",
       "<polyline clip-path=\"url(#clip3902)\" style=\"stroke:#000000; stroke-width:0.5; stroke-opacity:0.1; fill:none\" points=\"\n",
       "  49.9806,213.967 880.315,213.967 \n",
       "  \"/>\n",
       "<polyline clip-path=\"url(#clip3902)\" style=\"stroke:#000000; stroke-width:0.5; stroke-opacity:0.1; fill:none\" points=\"\n",
       "  49.9806,98.9414 880.315,98.9414 \n",
       "  \"/>\n",
       "<polyline clip-path=\"url(#clip3900)\" style=\"stroke:#000000; stroke-width:1; stroke-opacity:1; fill:none\" points=\"\n",
       "  49.9806,461.472 880.315,461.472 \n",
       "  \"/>\n",
       "<polyline clip-path=\"url(#clip3900)\" style=\"stroke:#000000; stroke-width:1; stroke-opacity:1; fill:none\" points=\"\n",
       "  49.9806,461.472 49.9806,31.4961 \n",
       "  \"/>\n",
       "<polyline clip-path=\"url(#clip3900)\" style=\"stroke:#000000; stroke-width:1; stroke-opacity:1; fill:none\" points=\"\n",
       "  69.5244,461.472 69.5244,455.022 \n",
       "  \"/>\n",
       "<polyline clip-path=\"url(#clip3900)\" style=\"stroke:#000000; stroke-width:1; stroke-opacity:1; fill:none\" points=\"\n",
       "  267.336,461.472 267.336,455.022 \n",
       "  \"/>\n",
       "<polyline clip-path=\"url(#clip3900)\" style=\"stroke:#000000; stroke-width:1; stroke-opacity:1; fill:none\" points=\"\n",
       "  465.148,461.472 465.148,455.022 \n",
       "  \"/>\n",
       "<polyline clip-path=\"url(#clip3900)\" style=\"stroke:#000000; stroke-width:1; stroke-opacity:1; fill:none\" points=\"\n",
       "  662.959,461.472 662.959,455.022 \n",
       "  \"/>\n",
       "<polyline clip-path=\"url(#clip3900)\" style=\"stroke:#000000; stroke-width:1; stroke-opacity:1; fill:none\" points=\"\n",
       "  860.771,461.472 860.771,455.022 \n",
       "  \"/>\n",
       "<polyline clip-path=\"url(#clip3900)\" style=\"stroke:#000000; stroke-width:1; stroke-opacity:1; fill:none\" points=\"\n",
       "  49.9806,444.017 62.4356,444.017 \n",
       "  \"/>\n",
       "<polyline clip-path=\"url(#clip3900)\" style=\"stroke:#000000; stroke-width:1; stroke-opacity:1; fill:none\" points=\"\n",
       "  49.9806,328.992 62.4356,328.992 \n",
       "  \"/>\n",
       "<polyline clip-path=\"url(#clip3900)\" style=\"stroke:#000000; stroke-width:1; stroke-opacity:1; fill:none\" points=\"\n",
       "  49.9806,213.967 62.4356,213.967 \n",
       "  \"/>\n",
       "<polyline clip-path=\"url(#clip3900)\" style=\"stroke:#000000; stroke-width:1; stroke-opacity:1; fill:none\" points=\"\n",
       "  49.9806,98.9414 62.4356,98.9414 \n",
       "  \"/>\n",
       "<g clip-path=\"url(#clip3900)\">\n",
       "<text style=\"fill:#000000; fill-opacity:1; font-family:Arial,Helvetica Neue,Helvetica,sans-serif; font-size:12; text-anchor:middle;\" transform=\"rotate(0, 69.5244, 476.772)\" x=\"69.5244\" y=\"476.772\">0.5</text>\n",
       "</g>\n",
       "<g clip-path=\"url(#clip3900)\">\n",
       "<text style=\"fill:#000000; fill-opacity:1; font-family:Arial,Helvetica Neue,Helvetica,sans-serif; font-size:12; text-anchor:middle;\" transform=\"rotate(0, 267.336, 476.772)\" x=\"267.336\" y=\"476.772\">1.0</text>\n",
       "</g>\n",
       "<g clip-path=\"url(#clip3900)\">\n",
       "<text style=\"fill:#000000; fill-opacity:1; font-family:Arial,Helvetica Neue,Helvetica,sans-serif; font-size:12; text-anchor:middle;\" transform=\"rotate(0, 465.148, 476.772)\" x=\"465.148\" y=\"476.772\">1.5</text>\n",
       "</g>\n",
       "<g clip-path=\"url(#clip3900)\">\n",
       "<text style=\"fill:#000000; fill-opacity:1; font-family:Arial,Helvetica Neue,Helvetica,sans-serif; font-size:12; text-anchor:middle;\" transform=\"rotate(0, 662.959, 476.772)\" x=\"662.959\" y=\"476.772\">2.0</text>\n",
       "</g>\n",
       "<g clip-path=\"url(#clip3900)\">\n",
       "<text style=\"fill:#000000; fill-opacity:1; font-family:Arial,Helvetica Neue,Helvetica,sans-serif; font-size:12; text-anchor:middle;\" transform=\"rotate(0, 860.771, 476.772)\" x=\"860.771\" y=\"476.772\">2.5</text>\n",
       "</g>\n",
       "<g clip-path=\"url(#clip3900)\">\n",
       "<text style=\"fill:#000000; fill-opacity:1; font-family:Arial,Helvetica Neue,Helvetica,sans-serif; font-size:12; text-anchor:end;\" transform=\"rotate(0, 40.9806, 448.517)\" x=\"40.9806\" y=\"448.517\">0</text>\n",
       "</g>\n",
       "<g clip-path=\"url(#clip3900)\">\n",
       "<text style=\"fill:#000000; fill-opacity:1; font-family:Arial,Helvetica Neue,Helvetica,sans-serif; font-size:12; text-anchor:end;\" transform=\"rotate(0, 40.9806, 333.492)\" x=\"40.9806\" y=\"333.492\">2000</text>\n",
       "</g>\n",
       "<g clip-path=\"url(#clip3900)\">\n",
       "<text style=\"fill:#000000; fill-opacity:1; font-family:Arial,Helvetica Neue,Helvetica,sans-serif; font-size:12; text-anchor:end;\" transform=\"rotate(0, 40.9806, 218.467)\" x=\"40.9806\" y=\"218.467\">4000</text>\n",
       "</g>\n",
       "<g clip-path=\"url(#clip3900)\">\n",
       "<text style=\"fill:#000000; fill-opacity:1; font-family:Arial,Helvetica Neue,Helvetica,sans-serif; font-size:12; text-anchor:end;\" transform=\"rotate(0, 40.9806, 103.441)\" x=\"40.9806\" y=\"103.441\">6000</text>\n",
       "</g>\n",
       "<g clip-path=\"url(#clip3900)\">\n",
       "<text style=\"fill:#000000; fill-opacity:1; font-family:Arial,Helvetica Neue,Helvetica,sans-serif; font-size:21; text-anchor:middle;\" transform=\"rotate(0, 465.148, 18)\" x=\"465.148\" y=\"18\">Diagonal Spin-Density Matrix elements</text>\n",
       "</g>\n",
       "<g clip-path=\"url(#clip3900)\">\n",
       "<text style=\"fill:#000000; fill-opacity:1; font-family:Arial,Helvetica Neue,Helvetica,sans-serif; font-size:16; text-anchor:middle;\" transform=\"rotate(0, 465.148, 497.6)\" x=\"465.148\" y=\"497.6\">M3pi (GeV)</text>\n",
       "</g>\n",
       "<polyline clip-path=\"url(#clip3902)\" style=\"stroke:#000000; stroke-width:1; stroke-opacity:0; fill:none\" points=\"\n",
       "  73.4806,444.017 81.3931,444.017 89.3055,444.017 97.218,444.017 105.13,444.017 113.043,444.017 120.955,444.017 128.868,444.017 136.78,444.017 144.693,444.017 \n",
       "  152.605,444.017 160.518,444.017 168.43,444.017 176.343,444.017 184.255,429.115 192.168,438.766 200.08,404.809 207.993,395.224 215.905,410.656 223.817,362.502 \n",
       "  231.73,398.683 239.642,357.189 247.555,332.609 255.467,347.119 263.38,379.445 271.292,297.236 279.205,358.042 287.117,360.17 295.03,400.266 302.942,408.03 \n",
       "  310.855,398.531 318.767,403.655 326.68,394.768 334.592,361.547 342.505,399.05 350.417,354.464 358.329,292.409 366.242,293.88 374.154,226.169 382.067,237.132 \n",
       "  389.979,187.528 397.892,177.461 405.804,114.82 413.717,148.822 421.629,131.396 429.542,116.07 437.454,114.802 445.367,123.737 453.279,72.5118 461.192,113.456 \n",
       "  469.104,140.839 477.016,165.238 484.929,208.894 492.841,117.757 500.754,199.254 508.666,217.745 516.579,224.158 524.491,234.091 532.404,248.415 540.316,198.244 \n",
       "  548.229,213.924 556.141,257.573 564.054,189.901 571.966,206.272 579.879,210.214 587.791,213.709 595.703,201.732 603.616,233.159 611.528,256.353 619.441,263.174 \n",
       "  627.353,199.402 635.266,249.023 643.178,265.304 651.091,233.87 659.003,264.682 666.916,299.699 674.828,245.602 682.741,265.298 690.653,271.31 698.566,276.027 \n",
       "  706.478,291.889 714.391,299.641 722.303,295.934 730.215,305.738 738.128,295.375 746.04,294.265 753.953,317.205 761.865,329.892 769.778,302.794 777.69,304.786 \n",
       "  785.603,310.958 793.515,347.996 801.428,321.673 809.34,351.822 817.253,353.114 825.165,357.268 833.078,350.748 840.99,351.248 848.902,375.879 856.815,384.966 \n",
       "  \n",
       "  \"/>\n",
       "<circle clip-path=\"url(#clip3902)\" style=\"fill:#000000; stroke:none; fill-opacity:1\" cx=\"73.4806\" cy=\"444.017\" r=\"2\"/>\n",
       "<circle clip-path=\"url(#clip3902)\" style=\"fill:#009af9; stroke:none; fill-opacity:1\" cx=\"73.4806\" cy=\"444.017\" r=\"1\"/>\n",
       "<circle clip-path=\"url(#clip3902)\" style=\"fill:#000000; stroke:none; fill-opacity:1\" cx=\"81.3931\" cy=\"444.017\" r=\"2\"/>\n",
       "<circle clip-path=\"url(#clip3902)\" style=\"fill:#009af9; stroke:none; fill-opacity:1\" cx=\"81.3931\" cy=\"444.017\" r=\"1\"/>\n",
       "<circle clip-path=\"url(#clip3902)\" style=\"fill:#000000; stroke:none; fill-opacity:1\" cx=\"89.3055\" cy=\"444.017\" r=\"2\"/>\n",
       "<circle clip-path=\"url(#clip3902)\" style=\"fill:#009af9; stroke:none; fill-opacity:1\" cx=\"89.3055\" cy=\"444.017\" r=\"1\"/>\n",
       "<circle clip-path=\"url(#clip3902)\" style=\"fill:#000000; stroke:none; fill-opacity:1\" cx=\"97.218\" cy=\"444.017\" r=\"2\"/>\n",
       "<circle clip-path=\"url(#clip3902)\" style=\"fill:#009af9; stroke:none; fill-opacity:1\" cx=\"97.218\" cy=\"444.017\" r=\"1\"/>\n",
       "<circle clip-path=\"url(#clip3902)\" style=\"fill:#000000; stroke:none; fill-opacity:1\" cx=\"105.13\" cy=\"444.017\" r=\"2\"/>\n",
       "<circle clip-path=\"url(#clip3902)\" style=\"fill:#009af9; stroke:none; fill-opacity:1\" cx=\"105.13\" cy=\"444.017\" r=\"1\"/>\n",
       "<circle clip-path=\"url(#clip3902)\" style=\"fill:#000000; stroke:none; fill-opacity:1\" cx=\"113.043\" cy=\"444.017\" r=\"2\"/>\n",
       "<circle clip-path=\"url(#clip3902)\" style=\"fill:#009af9; stroke:none; fill-opacity:1\" cx=\"113.043\" cy=\"444.017\" r=\"1\"/>\n",
       "<circle clip-path=\"url(#clip3902)\" style=\"fill:#000000; stroke:none; fill-opacity:1\" cx=\"120.955\" cy=\"444.017\" r=\"2\"/>\n",
       "<circle clip-path=\"url(#clip3902)\" style=\"fill:#009af9; stroke:none; fill-opacity:1\" cx=\"120.955\" cy=\"444.017\" r=\"1\"/>\n",
       "<circle clip-path=\"url(#clip3902)\" style=\"fill:#000000; stroke:none; fill-opacity:1\" cx=\"128.868\" cy=\"444.017\" r=\"2\"/>\n",
       "<circle clip-path=\"url(#clip3902)\" style=\"fill:#009af9; stroke:none; fill-opacity:1\" cx=\"128.868\" cy=\"444.017\" r=\"1\"/>\n",
       "<circle clip-path=\"url(#clip3902)\" style=\"fill:#000000; stroke:none; fill-opacity:1\" cx=\"136.78\" cy=\"444.017\" r=\"2\"/>\n",
       "<circle clip-path=\"url(#clip3902)\" style=\"fill:#009af9; stroke:none; fill-opacity:1\" cx=\"136.78\" cy=\"444.017\" r=\"1\"/>\n",
       "<circle clip-path=\"url(#clip3902)\" style=\"fill:#000000; stroke:none; fill-opacity:1\" cx=\"144.693\" cy=\"444.017\" r=\"2\"/>\n",
       "<circle clip-path=\"url(#clip3902)\" style=\"fill:#009af9; stroke:none; fill-opacity:1\" cx=\"144.693\" cy=\"444.017\" r=\"1\"/>\n",
       "<circle clip-path=\"url(#clip3902)\" style=\"fill:#000000; stroke:none; fill-opacity:1\" cx=\"152.605\" cy=\"444.017\" r=\"2\"/>\n",
       "<circle clip-path=\"url(#clip3902)\" style=\"fill:#009af9; stroke:none; fill-opacity:1\" cx=\"152.605\" cy=\"444.017\" r=\"1\"/>\n",
       "<circle clip-path=\"url(#clip3902)\" style=\"fill:#000000; stroke:none; fill-opacity:1\" cx=\"160.518\" cy=\"444.017\" r=\"2\"/>\n",
       "<circle clip-path=\"url(#clip3902)\" style=\"fill:#009af9; stroke:none; fill-opacity:1\" cx=\"160.518\" cy=\"444.017\" r=\"1\"/>\n",
       "<circle clip-path=\"url(#clip3902)\" style=\"fill:#000000; stroke:none; fill-opacity:1\" cx=\"168.43\" cy=\"444.017\" r=\"2\"/>\n",
       "<circle clip-path=\"url(#clip3902)\" style=\"fill:#009af9; stroke:none; fill-opacity:1\" cx=\"168.43\" cy=\"444.017\" r=\"1\"/>\n",
       "<circle clip-path=\"url(#clip3902)\" style=\"fill:#000000; stroke:none; fill-opacity:1\" cx=\"176.343\" cy=\"444.017\" r=\"2\"/>\n",
       "<circle clip-path=\"url(#clip3902)\" style=\"fill:#009af9; stroke:none; fill-opacity:1\" cx=\"176.343\" cy=\"444.017\" r=\"1\"/>\n",
       "<circle clip-path=\"url(#clip3902)\" style=\"fill:#000000; stroke:none; fill-opacity:1\" cx=\"184.255\" cy=\"429.115\" r=\"2\"/>\n",
       "<circle clip-path=\"url(#clip3902)\" style=\"fill:#009af9; stroke:none; fill-opacity:1\" cx=\"184.255\" cy=\"429.115\" r=\"1\"/>\n",
       "<circle clip-path=\"url(#clip3902)\" style=\"fill:#000000; stroke:none; fill-opacity:1\" cx=\"192.168\" cy=\"438.766\" r=\"2\"/>\n",
       "<circle clip-path=\"url(#clip3902)\" style=\"fill:#009af9; stroke:none; fill-opacity:1\" cx=\"192.168\" cy=\"438.766\" r=\"1\"/>\n",
       "<circle clip-path=\"url(#clip3902)\" style=\"fill:#000000; stroke:none; fill-opacity:1\" cx=\"200.08\" cy=\"404.809\" r=\"2\"/>\n",
       "<circle clip-path=\"url(#clip3902)\" style=\"fill:#009af9; stroke:none; fill-opacity:1\" cx=\"200.08\" cy=\"404.809\" r=\"1\"/>\n",
       "<circle clip-path=\"url(#clip3902)\" style=\"fill:#000000; stroke:none; fill-opacity:1\" cx=\"207.993\" cy=\"395.224\" r=\"2\"/>\n",
       "<circle clip-path=\"url(#clip3902)\" style=\"fill:#009af9; stroke:none; fill-opacity:1\" cx=\"207.993\" cy=\"395.224\" r=\"1\"/>\n",
       "<circle clip-path=\"url(#clip3902)\" style=\"fill:#000000; stroke:none; fill-opacity:1\" cx=\"215.905\" cy=\"410.656\" r=\"2\"/>\n",
       "<circle clip-path=\"url(#clip3902)\" style=\"fill:#009af9; stroke:none; fill-opacity:1\" cx=\"215.905\" cy=\"410.656\" r=\"1\"/>\n",
       "<circle clip-path=\"url(#clip3902)\" style=\"fill:#000000; stroke:none; fill-opacity:1\" cx=\"223.817\" cy=\"362.502\" r=\"2\"/>\n",
       "<circle clip-path=\"url(#clip3902)\" style=\"fill:#009af9; stroke:none; fill-opacity:1\" cx=\"223.817\" cy=\"362.502\" r=\"1\"/>\n",
       "<circle clip-path=\"url(#clip3902)\" style=\"fill:#000000; stroke:none; fill-opacity:1\" cx=\"231.73\" cy=\"398.683\" r=\"2\"/>\n",
       "<circle clip-path=\"url(#clip3902)\" style=\"fill:#009af9; stroke:none; fill-opacity:1\" cx=\"231.73\" cy=\"398.683\" r=\"1\"/>\n",
       "<circle clip-path=\"url(#clip3902)\" style=\"fill:#000000; stroke:none; fill-opacity:1\" cx=\"239.642\" cy=\"357.189\" r=\"2\"/>\n",
       "<circle clip-path=\"url(#clip3902)\" style=\"fill:#009af9; stroke:none; fill-opacity:1\" cx=\"239.642\" cy=\"357.189\" r=\"1\"/>\n",
       "<circle clip-path=\"url(#clip3902)\" style=\"fill:#000000; stroke:none; fill-opacity:1\" cx=\"247.555\" cy=\"332.609\" r=\"2\"/>\n",
       "<circle clip-path=\"url(#clip3902)\" style=\"fill:#009af9; stroke:none; fill-opacity:1\" cx=\"247.555\" cy=\"332.609\" r=\"1\"/>\n",
       "<circle clip-path=\"url(#clip3902)\" style=\"fill:#000000; stroke:none; fill-opacity:1\" cx=\"255.467\" cy=\"347.119\" r=\"2\"/>\n",
       "<circle clip-path=\"url(#clip3902)\" style=\"fill:#009af9; stroke:none; fill-opacity:1\" cx=\"255.467\" cy=\"347.119\" r=\"1\"/>\n",
       "<circle clip-path=\"url(#clip3902)\" style=\"fill:#000000; stroke:none; fill-opacity:1\" cx=\"263.38\" cy=\"379.445\" r=\"2\"/>\n",
       "<circle clip-path=\"url(#clip3902)\" style=\"fill:#009af9; stroke:none; fill-opacity:1\" cx=\"263.38\" cy=\"379.445\" r=\"1\"/>\n",
       "<circle clip-path=\"url(#clip3902)\" style=\"fill:#000000; stroke:none; fill-opacity:1\" cx=\"271.292\" cy=\"297.236\" r=\"2\"/>\n",
       "<circle clip-path=\"url(#clip3902)\" style=\"fill:#009af9; stroke:none; fill-opacity:1\" cx=\"271.292\" cy=\"297.236\" r=\"1\"/>\n",
       "<circle clip-path=\"url(#clip3902)\" style=\"fill:#000000; stroke:none; fill-opacity:1\" cx=\"279.205\" cy=\"358.042\" r=\"2\"/>\n",
       "<circle clip-path=\"url(#clip3902)\" style=\"fill:#009af9; stroke:none; fill-opacity:1\" cx=\"279.205\" cy=\"358.042\" r=\"1\"/>\n",
       "<circle clip-path=\"url(#clip3902)\" style=\"fill:#000000; stroke:none; fill-opacity:1\" cx=\"287.117\" cy=\"360.17\" r=\"2\"/>\n",
       "<circle clip-path=\"url(#clip3902)\" style=\"fill:#009af9; stroke:none; fill-opacity:1\" cx=\"287.117\" cy=\"360.17\" r=\"1\"/>\n",
       "<circle clip-path=\"url(#clip3902)\" style=\"fill:#000000; stroke:none; fill-opacity:1\" cx=\"295.03\" cy=\"400.266\" r=\"2\"/>\n",
       "<circle clip-path=\"url(#clip3902)\" style=\"fill:#009af9; stroke:none; fill-opacity:1\" cx=\"295.03\" cy=\"400.266\" r=\"1\"/>\n",
       "<circle clip-path=\"url(#clip3902)\" style=\"fill:#000000; stroke:none; fill-opacity:1\" cx=\"302.942\" cy=\"408.03\" r=\"2\"/>\n",
       "<circle clip-path=\"url(#clip3902)\" style=\"fill:#009af9; stroke:none; fill-opacity:1\" cx=\"302.942\" cy=\"408.03\" r=\"1\"/>\n",
       "<circle clip-path=\"url(#clip3902)\" style=\"fill:#000000; stroke:none; fill-opacity:1\" cx=\"310.855\" cy=\"398.531\" r=\"2\"/>\n",
       "<circle clip-path=\"url(#clip3902)\" style=\"fill:#009af9; stroke:none; fill-opacity:1\" cx=\"310.855\" cy=\"398.531\" r=\"1\"/>\n",
       "<circle clip-path=\"url(#clip3902)\" style=\"fill:#000000; stroke:none; fill-opacity:1\" cx=\"318.767\" cy=\"403.655\" r=\"2\"/>\n",
       "<circle clip-path=\"url(#clip3902)\" style=\"fill:#009af9; stroke:none; fill-opacity:1\" cx=\"318.767\" cy=\"403.655\" r=\"1\"/>\n",
       "<circle clip-path=\"url(#clip3902)\" style=\"fill:#000000; stroke:none; fill-opacity:1\" cx=\"326.68\" cy=\"394.768\" r=\"2\"/>\n",
       "<circle clip-path=\"url(#clip3902)\" style=\"fill:#009af9; stroke:none; fill-opacity:1\" cx=\"326.68\" cy=\"394.768\" r=\"1\"/>\n",
       "<circle clip-path=\"url(#clip3902)\" style=\"fill:#000000; stroke:none; fill-opacity:1\" cx=\"334.592\" cy=\"361.547\" r=\"2\"/>\n",
       "<circle clip-path=\"url(#clip3902)\" style=\"fill:#009af9; stroke:none; fill-opacity:1\" cx=\"334.592\" cy=\"361.547\" r=\"1\"/>\n",
       "<circle clip-path=\"url(#clip3902)\" style=\"fill:#000000; stroke:none; fill-opacity:1\" cx=\"342.505\" cy=\"399.05\" r=\"2\"/>\n",
       "<circle clip-path=\"url(#clip3902)\" style=\"fill:#009af9; stroke:none; fill-opacity:1\" cx=\"342.505\" cy=\"399.05\" r=\"1\"/>\n",
       "<circle clip-path=\"url(#clip3902)\" style=\"fill:#000000; stroke:none; fill-opacity:1\" cx=\"350.417\" cy=\"354.464\" r=\"2\"/>\n",
       "<circle clip-path=\"url(#clip3902)\" style=\"fill:#009af9; stroke:none; fill-opacity:1\" cx=\"350.417\" cy=\"354.464\" r=\"1\"/>\n",
       "<circle clip-path=\"url(#clip3902)\" style=\"fill:#000000; stroke:none; fill-opacity:1\" cx=\"358.329\" cy=\"292.409\" r=\"2\"/>\n",
       "<circle clip-path=\"url(#clip3902)\" style=\"fill:#009af9; stroke:none; fill-opacity:1\" cx=\"358.329\" cy=\"292.409\" r=\"1\"/>\n",
       "<circle clip-path=\"url(#clip3902)\" style=\"fill:#000000; stroke:none; fill-opacity:1\" cx=\"366.242\" cy=\"293.88\" r=\"2\"/>\n",
       "<circle clip-path=\"url(#clip3902)\" style=\"fill:#009af9; stroke:none; fill-opacity:1\" cx=\"366.242\" cy=\"293.88\" r=\"1\"/>\n",
       "<circle clip-path=\"url(#clip3902)\" style=\"fill:#000000; stroke:none; fill-opacity:1\" cx=\"374.154\" cy=\"226.169\" r=\"2\"/>\n",
       "<circle clip-path=\"url(#clip3902)\" style=\"fill:#009af9; stroke:none; fill-opacity:1\" cx=\"374.154\" cy=\"226.169\" r=\"1\"/>\n",
       "<circle clip-path=\"url(#clip3902)\" style=\"fill:#000000; stroke:none; fill-opacity:1\" cx=\"382.067\" cy=\"237.132\" r=\"2\"/>\n",
       "<circle clip-path=\"url(#clip3902)\" style=\"fill:#009af9; stroke:none; fill-opacity:1\" cx=\"382.067\" cy=\"237.132\" r=\"1\"/>\n",
       "<circle clip-path=\"url(#clip3902)\" style=\"fill:#000000; stroke:none; fill-opacity:1\" cx=\"389.979\" cy=\"187.528\" r=\"2\"/>\n",
       "<circle clip-path=\"url(#clip3902)\" style=\"fill:#009af9; stroke:none; fill-opacity:1\" cx=\"389.979\" cy=\"187.528\" r=\"1\"/>\n",
       "<circle clip-path=\"url(#clip3902)\" style=\"fill:#000000; stroke:none; fill-opacity:1\" cx=\"397.892\" cy=\"177.461\" r=\"2\"/>\n",
       "<circle clip-path=\"url(#clip3902)\" style=\"fill:#009af9; stroke:none; fill-opacity:1\" cx=\"397.892\" cy=\"177.461\" r=\"1\"/>\n",
       "<circle clip-path=\"url(#clip3902)\" style=\"fill:#000000; stroke:none; fill-opacity:1\" cx=\"405.804\" cy=\"114.82\" r=\"2\"/>\n",
       "<circle clip-path=\"url(#clip3902)\" style=\"fill:#009af9; stroke:none; fill-opacity:1\" cx=\"405.804\" cy=\"114.82\" r=\"1\"/>\n",
       "<circle clip-path=\"url(#clip3902)\" style=\"fill:#000000; stroke:none; fill-opacity:1\" cx=\"413.717\" cy=\"148.822\" r=\"2\"/>\n",
       "<circle clip-path=\"url(#clip3902)\" style=\"fill:#009af9; stroke:none; fill-opacity:1\" cx=\"413.717\" cy=\"148.822\" r=\"1\"/>\n",
       "<circle clip-path=\"url(#clip3902)\" style=\"fill:#000000; stroke:none; fill-opacity:1\" cx=\"421.629\" cy=\"131.396\" r=\"2\"/>\n",
       "<circle clip-path=\"url(#clip3902)\" style=\"fill:#009af9; stroke:none; fill-opacity:1\" cx=\"421.629\" cy=\"131.396\" r=\"1\"/>\n",
       "<circle clip-path=\"url(#clip3902)\" style=\"fill:#000000; stroke:none; fill-opacity:1\" cx=\"429.542\" cy=\"116.07\" r=\"2\"/>\n",
       "<circle clip-path=\"url(#clip3902)\" style=\"fill:#009af9; stroke:none; fill-opacity:1\" cx=\"429.542\" cy=\"116.07\" r=\"1\"/>\n",
       "<circle clip-path=\"url(#clip3902)\" style=\"fill:#000000; stroke:none; fill-opacity:1\" cx=\"437.454\" cy=\"114.802\" r=\"2\"/>\n",
       "<circle clip-path=\"url(#clip3902)\" style=\"fill:#009af9; stroke:none; fill-opacity:1\" cx=\"437.454\" cy=\"114.802\" r=\"1\"/>\n",
       "<circle clip-path=\"url(#clip3902)\" style=\"fill:#000000; stroke:none; fill-opacity:1\" cx=\"445.367\" cy=\"123.737\" r=\"2\"/>\n",
       "<circle clip-path=\"url(#clip3902)\" style=\"fill:#009af9; stroke:none; fill-opacity:1\" cx=\"445.367\" cy=\"123.737\" r=\"1\"/>\n",
       "<circle clip-path=\"url(#clip3902)\" style=\"fill:#000000; stroke:none; fill-opacity:1\" cx=\"453.279\" cy=\"72.5118\" r=\"2\"/>\n",
       "<circle clip-path=\"url(#clip3902)\" style=\"fill:#009af9; stroke:none; fill-opacity:1\" cx=\"453.279\" cy=\"72.5118\" r=\"1\"/>\n",
       "<circle clip-path=\"url(#clip3902)\" style=\"fill:#000000; stroke:none; fill-opacity:1\" cx=\"461.192\" cy=\"113.456\" r=\"2\"/>\n",
       "<circle clip-path=\"url(#clip3902)\" style=\"fill:#009af9; stroke:none; fill-opacity:1\" cx=\"461.192\" cy=\"113.456\" r=\"1\"/>\n",
       "<circle clip-path=\"url(#clip3902)\" style=\"fill:#000000; stroke:none; fill-opacity:1\" cx=\"469.104\" cy=\"140.839\" r=\"2\"/>\n",
       "<circle clip-path=\"url(#clip3902)\" style=\"fill:#009af9; stroke:none; fill-opacity:1\" cx=\"469.104\" cy=\"140.839\" r=\"1\"/>\n",
       "<circle clip-path=\"url(#clip3902)\" style=\"fill:#000000; stroke:none; fill-opacity:1\" cx=\"477.016\" cy=\"165.238\" r=\"2\"/>\n",
       "<circle clip-path=\"url(#clip3902)\" style=\"fill:#009af9; stroke:none; fill-opacity:1\" cx=\"477.016\" cy=\"165.238\" r=\"1\"/>\n",
       "<circle clip-path=\"url(#clip3902)\" style=\"fill:#000000; stroke:none; fill-opacity:1\" cx=\"484.929\" cy=\"208.894\" r=\"2\"/>\n",
       "<circle clip-path=\"url(#clip3902)\" style=\"fill:#009af9; stroke:none; fill-opacity:1\" cx=\"484.929\" cy=\"208.894\" r=\"1\"/>\n",
       "<circle clip-path=\"url(#clip3902)\" style=\"fill:#000000; stroke:none; fill-opacity:1\" cx=\"492.841\" cy=\"117.757\" r=\"2\"/>\n",
       "<circle clip-path=\"url(#clip3902)\" style=\"fill:#009af9; stroke:none; fill-opacity:1\" cx=\"492.841\" cy=\"117.757\" r=\"1\"/>\n",
       "<circle clip-path=\"url(#clip3902)\" style=\"fill:#000000; stroke:none; fill-opacity:1\" cx=\"500.754\" cy=\"199.254\" r=\"2\"/>\n",
       "<circle clip-path=\"url(#clip3902)\" style=\"fill:#009af9; stroke:none; fill-opacity:1\" cx=\"500.754\" cy=\"199.254\" r=\"1\"/>\n",
       "<circle clip-path=\"url(#clip3902)\" style=\"fill:#000000; stroke:none; fill-opacity:1\" cx=\"508.666\" cy=\"217.745\" r=\"2\"/>\n",
       "<circle clip-path=\"url(#clip3902)\" style=\"fill:#009af9; stroke:none; fill-opacity:1\" cx=\"508.666\" cy=\"217.745\" r=\"1\"/>\n",
       "<circle clip-path=\"url(#clip3902)\" style=\"fill:#000000; stroke:none; fill-opacity:1\" cx=\"516.579\" cy=\"224.158\" r=\"2\"/>\n",
       "<circle clip-path=\"url(#clip3902)\" style=\"fill:#009af9; stroke:none; fill-opacity:1\" cx=\"516.579\" cy=\"224.158\" r=\"1\"/>\n",
       "<circle clip-path=\"url(#clip3902)\" style=\"fill:#000000; stroke:none; fill-opacity:1\" cx=\"524.491\" cy=\"234.091\" r=\"2\"/>\n",
       "<circle clip-path=\"url(#clip3902)\" style=\"fill:#009af9; stroke:none; fill-opacity:1\" cx=\"524.491\" cy=\"234.091\" r=\"1\"/>\n",
       "<circle clip-path=\"url(#clip3902)\" style=\"fill:#000000; stroke:none; fill-opacity:1\" cx=\"532.404\" cy=\"248.415\" r=\"2\"/>\n",
       "<circle clip-path=\"url(#clip3902)\" style=\"fill:#009af9; stroke:none; fill-opacity:1\" cx=\"532.404\" cy=\"248.415\" r=\"1\"/>\n",
       "<circle clip-path=\"url(#clip3902)\" style=\"fill:#000000; stroke:none; fill-opacity:1\" cx=\"540.316\" cy=\"198.244\" r=\"2\"/>\n",
       "<circle clip-path=\"url(#clip3902)\" style=\"fill:#009af9; stroke:none; fill-opacity:1\" cx=\"540.316\" cy=\"198.244\" r=\"1\"/>\n",
       "<circle clip-path=\"url(#clip3902)\" style=\"fill:#000000; stroke:none; fill-opacity:1\" cx=\"548.229\" cy=\"213.924\" r=\"2\"/>\n",
       "<circle clip-path=\"url(#clip3902)\" style=\"fill:#009af9; stroke:none; fill-opacity:1\" cx=\"548.229\" cy=\"213.924\" r=\"1\"/>\n",
       "<circle clip-path=\"url(#clip3902)\" style=\"fill:#000000; stroke:none; fill-opacity:1\" cx=\"556.141\" cy=\"257.573\" r=\"2\"/>\n",
       "<circle clip-path=\"url(#clip3902)\" style=\"fill:#009af9; stroke:none; fill-opacity:1\" cx=\"556.141\" cy=\"257.573\" r=\"1\"/>\n",
       "<circle clip-path=\"url(#clip3902)\" style=\"fill:#000000; stroke:none; fill-opacity:1\" cx=\"564.054\" cy=\"189.901\" r=\"2\"/>\n",
       "<circle clip-path=\"url(#clip3902)\" style=\"fill:#009af9; stroke:none; fill-opacity:1\" cx=\"564.054\" cy=\"189.901\" r=\"1\"/>\n",
       "<circle clip-path=\"url(#clip3902)\" style=\"fill:#000000; stroke:none; fill-opacity:1\" cx=\"571.966\" cy=\"206.272\" r=\"2\"/>\n",
       "<circle clip-path=\"url(#clip3902)\" style=\"fill:#009af9; stroke:none; fill-opacity:1\" cx=\"571.966\" cy=\"206.272\" r=\"1\"/>\n",
       "<circle clip-path=\"url(#clip3902)\" style=\"fill:#000000; stroke:none; fill-opacity:1\" cx=\"579.879\" cy=\"210.214\" r=\"2\"/>\n",
       "<circle clip-path=\"url(#clip3902)\" style=\"fill:#009af9; stroke:none; fill-opacity:1\" cx=\"579.879\" cy=\"210.214\" r=\"1\"/>\n",
       "<circle clip-path=\"url(#clip3902)\" style=\"fill:#000000; stroke:none; fill-opacity:1\" cx=\"587.791\" cy=\"213.709\" r=\"2\"/>\n",
       "<circle clip-path=\"url(#clip3902)\" style=\"fill:#009af9; stroke:none; fill-opacity:1\" cx=\"587.791\" cy=\"213.709\" r=\"1\"/>\n",
       "<circle clip-path=\"url(#clip3902)\" style=\"fill:#000000; stroke:none; fill-opacity:1\" cx=\"595.703\" cy=\"201.732\" r=\"2\"/>\n",
       "<circle clip-path=\"url(#clip3902)\" style=\"fill:#009af9; stroke:none; fill-opacity:1\" cx=\"595.703\" cy=\"201.732\" r=\"1\"/>\n",
       "<circle clip-path=\"url(#clip3902)\" style=\"fill:#000000; stroke:none; fill-opacity:1\" cx=\"603.616\" cy=\"233.159\" r=\"2\"/>\n",
       "<circle clip-path=\"url(#clip3902)\" style=\"fill:#009af9; stroke:none; fill-opacity:1\" cx=\"603.616\" cy=\"233.159\" r=\"1\"/>\n",
       "<circle clip-path=\"url(#clip3902)\" style=\"fill:#000000; stroke:none; fill-opacity:1\" cx=\"611.528\" cy=\"256.353\" r=\"2\"/>\n",
       "<circle clip-path=\"url(#clip3902)\" style=\"fill:#009af9; stroke:none; fill-opacity:1\" cx=\"611.528\" cy=\"256.353\" r=\"1\"/>\n",
       "<circle clip-path=\"url(#clip3902)\" style=\"fill:#000000; stroke:none; fill-opacity:1\" cx=\"619.441\" cy=\"263.174\" r=\"2\"/>\n",
       "<circle clip-path=\"url(#clip3902)\" style=\"fill:#009af9; stroke:none; fill-opacity:1\" cx=\"619.441\" cy=\"263.174\" r=\"1\"/>\n",
       "<circle clip-path=\"url(#clip3902)\" style=\"fill:#000000; stroke:none; fill-opacity:1\" cx=\"627.353\" cy=\"199.402\" r=\"2\"/>\n",
       "<circle clip-path=\"url(#clip3902)\" style=\"fill:#009af9; stroke:none; fill-opacity:1\" cx=\"627.353\" cy=\"199.402\" r=\"1\"/>\n",
       "<circle clip-path=\"url(#clip3902)\" style=\"fill:#000000; stroke:none; fill-opacity:1\" cx=\"635.266\" cy=\"249.023\" r=\"2\"/>\n",
       "<circle clip-path=\"url(#clip3902)\" style=\"fill:#009af9; stroke:none; fill-opacity:1\" cx=\"635.266\" cy=\"249.023\" r=\"1\"/>\n",
       "<circle clip-path=\"url(#clip3902)\" style=\"fill:#000000; stroke:none; fill-opacity:1\" cx=\"643.178\" cy=\"265.304\" r=\"2\"/>\n",
       "<circle clip-path=\"url(#clip3902)\" style=\"fill:#009af9; stroke:none; fill-opacity:1\" cx=\"643.178\" cy=\"265.304\" r=\"1\"/>\n",
       "<circle clip-path=\"url(#clip3902)\" style=\"fill:#000000; stroke:none; fill-opacity:1\" cx=\"651.091\" cy=\"233.87\" r=\"2\"/>\n",
       "<circle clip-path=\"url(#clip3902)\" style=\"fill:#009af9; stroke:none; fill-opacity:1\" cx=\"651.091\" cy=\"233.87\" r=\"1\"/>\n",
       "<circle clip-path=\"url(#clip3902)\" style=\"fill:#000000; stroke:none; fill-opacity:1\" cx=\"659.003\" cy=\"264.682\" r=\"2\"/>\n",
       "<circle clip-path=\"url(#clip3902)\" style=\"fill:#009af9; stroke:none; fill-opacity:1\" cx=\"659.003\" cy=\"264.682\" r=\"1\"/>\n",
       "<circle clip-path=\"url(#clip3902)\" style=\"fill:#000000; stroke:none; fill-opacity:1\" cx=\"666.916\" cy=\"299.699\" r=\"2\"/>\n",
       "<circle clip-path=\"url(#clip3902)\" style=\"fill:#009af9; stroke:none; fill-opacity:1\" cx=\"666.916\" cy=\"299.699\" r=\"1\"/>\n",
       "<circle clip-path=\"url(#clip3902)\" style=\"fill:#000000; stroke:none; fill-opacity:1\" cx=\"674.828\" cy=\"245.602\" r=\"2\"/>\n",
       "<circle clip-path=\"url(#clip3902)\" style=\"fill:#009af9; stroke:none; fill-opacity:1\" cx=\"674.828\" cy=\"245.602\" r=\"1\"/>\n",
       "<circle clip-path=\"url(#clip3902)\" style=\"fill:#000000; stroke:none; fill-opacity:1\" cx=\"682.741\" cy=\"265.298\" r=\"2\"/>\n",
       "<circle clip-path=\"url(#clip3902)\" style=\"fill:#009af9; stroke:none; fill-opacity:1\" cx=\"682.741\" cy=\"265.298\" r=\"1\"/>\n",
       "<circle clip-path=\"url(#clip3902)\" style=\"fill:#000000; stroke:none; fill-opacity:1\" cx=\"690.653\" cy=\"271.31\" r=\"2\"/>\n",
       "<circle clip-path=\"url(#clip3902)\" style=\"fill:#009af9; stroke:none; fill-opacity:1\" cx=\"690.653\" cy=\"271.31\" r=\"1\"/>\n",
       "<circle clip-path=\"url(#clip3902)\" style=\"fill:#000000; stroke:none; fill-opacity:1\" cx=\"698.566\" cy=\"276.027\" r=\"2\"/>\n",
       "<circle clip-path=\"url(#clip3902)\" style=\"fill:#009af9; stroke:none; fill-opacity:1\" cx=\"698.566\" cy=\"276.027\" r=\"1\"/>\n",
       "<circle clip-path=\"url(#clip3902)\" style=\"fill:#000000; stroke:none; fill-opacity:1\" cx=\"706.478\" cy=\"291.889\" r=\"2\"/>\n",
       "<circle clip-path=\"url(#clip3902)\" style=\"fill:#009af9; stroke:none; fill-opacity:1\" cx=\"706.478\" cy=\"291.889\" r=\"1\"/>\n",
       "<circle clip-path=\"url(#clip3902)\" style=\"fill:#000000; stroke:none; fill-opacity:1\" cx=\"714.391\" cy=\"299.641\" r=\"2\"/>\n",
       "<circle clip-path=\"url(#clip3902)\" style=\"fill:#009af9; stroke:none; fill-opacity:1\" cx=\"714.391\" cy=\"299.641\" r=\"1\"/>\n",
       "<circle clip-path=\"url(#clip3902)\" style=\"fill:#000000; stroke:none; fill-opacity:1\" cx=\"722.303\" cy=\"295.934\" r=\"2\"/>\n",
       "<circle clip-path=\"url(#clip3902)\" style=\"fill:#009af9; stroke:none; fill-opacity:1\" cx=\"722.303\" cy=\"295.934\" r=\"1\"/>\n",
       "<circle clip-path=\"url(#clip3902)\" style=\"fill:#000000; stroke:none; fill-opacity:1\" cx=\"730.215\" cy=\"305.738\" r=\"2\"/>\n",
       "<circle clip-path=\"url(#clip3902)\" style=\"fill:#009af9; stroke:none; fill-opacity:1\" cx=\"730.215\" cy=\"305.738\" r=\"1\"/>\n",
       "<circle clip-path=\"url(#clip3902)\" style=\"fill:#000000; stroke:none; fill-opacity:1\" cx=\"738.128\" cy=\"295.375\" r=\"2\"/>\n",
       "<circle clip-path=\"url(#clip3902)\" style=\"fill:#009af9; stroke:none; fill-opacity:1\" cx=\"738.128\" cy=\"295.375\" r=\"1\"/>\n",
       "<circle clip-path=\"url(#clip3902)\" style=\"fill:#000000; stroke:none; fill-opacity:1\" cx=\"746.04\" cy=\"294.265\" r=\"2\"/>\n",
       "<circle clip-path=\"url(#clip3902)\" style=\"fill:#009af9; stroke:none; fill-opacity:1\" cx=\"746.04\" cy=\"294.265\" r=\"1\"/>\n",
       "<circle clip-path=\"url(#clip3902)\" style=\"fill:#000000; stroke:none; fill-opacity:1\" cx=\"753.953\" cy=\"317.205\" r=\"2\"/>\n",
       "<circle clip-path=\"url(#clip3902)\" style=\"fill:#009af9; stroke:none; fill-opacity:1\" cx=\"753.953\" cy=\"317.205\" r=\"1\"/>\n",
       "<circle clip-path=\"url(#clip3902)\" style=\"fill:#000000; stroke:none; fill-opacity:1\" cx=\"761.865\" cy=\"329.892\" r=\"2\"/>\n",
       "<circle clip-path=\"url(#clip3902)\" style=\"fill:#009af9; stroke:none; fill-opacity:1\" cx=\"761.865\" cy=\"329.892\" r=\"1\"/>\n",
       "<circle clip-path=\"url(#clip3902)\" style=\"fill:#000000; stroke:none; fill-opacity:1\" cx=\"769.778\" cy=\"302.794\" r=\"2\"/>\n",
       "<circle clip-path=\"url(#clip3902)\" style=\"fill:#009af9; stroke:none; fill-opacity:1\" cx=\"769.778\" cy=\"302.794\" r=\"1\"/>\n",
       "<circle clip-path=\"url(#clip3902)\" style=\"fill:#000000; stroke:none; fill-opacity:1\" cx=\"777.69\" cy=\"304.786\" r=\"2\"/>\n",
       "<circle clip-path=\"url(#clip3902)\" style=\"fill:#009af9; stroke:none; fill-opacity:1\" cx=\"777.69\" cy=\"304.786\" r=\"1\"/>\n",
       "<circle clip-path=\"url(#clip3902)\" style=\"fill:#000000; stroke:none; fill-opacity:1\" cx=\"785.603\" cy=\"310.958\" r=\"2\"/>\n",
       "<circle clip-path=\"url(#clip3902)\" style=\"fill:#009af9; stroke:none; fill-opacity:1\" cx=\"785.603\" cy=\"310.958\" r=\"1\"/>\n",
       "<circle clip-path=\"url(#clip3902)\" style=\"fill:#000000; stroke:none; fill-opacity:1\" cx=\"793.515\" cy=\"347.996\" r=\"2\"/>\n",
       "<circle clip-path=\"url(#clip3902)\" style=\"fill:#009af9; stroke:none; fill-opacity:1\" cx=\"793.515\" cy=\"347.996\" r=\"1\"/>\n",
       "<circle clip-path=\"url(#clip3902)\" style=\"fill:#000000; stroke:none; fill-opacity:1\" cx=\"801.428\" cy=\"321.673\" r=\"2\"/>\n",
       "<circle clip-path=\"url(#clip3902)\" style=\"fill:#009af9; stroke:none; fill-opacity:1\" cx=\"801.428\" cy=\"321.673\" r=\"1\"/>\n",
       "<circle clip-path=\"url(#clip3902)\" style=\"fill:#000000; stroke:none; fill-opacity:1\" cx=\"809.34\" cy=\"351.822\" r=\"2\"/>\n",
       "<circle clip-path=\"url(#clip3902)\" style=\"fill:#009af9; stroke:none; fill-opacity:1\" cx=\"809.34\" cy=\"351.822\" r=\"1\"/>\n",
       "<circle clip-path=\"url(#clip3902)\" style=\"fill:#000000; stroke:none; fill-opacity:1\" cx=\"817.253\" cy=\"353.114\" r=\"2\"/>\n",
       "<circle clip-path=\"url(#clip3902)\" style=\"fill:#009af9; stroke:none; fill-opacity:1\" cx=\"817.253\" cy=\"353.114\" r=\"1\"/>\n",
       "<circle clip-path=\"url(#clip3902)\" style=\"fill:#000000; stroke:none; fill-opacity:1\" cx=\"825.165\" cy=\"357.268\" r=\"2\"/>\n",
       "<circle clip-path=\"url(#clip3902)\" style=\"fill:#009af9; stroke:none; fill-opacity:1\" cx=\"825.165\" cy=\"357.268\" r=\"1\"/>\n",
       "<circle clip-path=\"url(#clip3902)\" style=\"fill:#000000; stroke:none; fill-opacity:1\" cx=\"833.078\" cy=\"350.748\" r=\"2\"/>\n",
       "<circle clip-path=\"url(#clip3902)\" style=\"fill:#009af9; stroke:none; fill-opacity:1\" cx=\"833.078\" cy=\"350.748\" r=\"1\"/>\n",
       "<circle clip-path=\"url(#clip3902)\" style=\"fill:#000000; stroke:none; fill-opacity:1\" cx=\"840.99\" cy=\"351.248\" r=\"2\"/>\n",
       "<circle clip-path=\"url(#clip3902)\" style=\"fill:#009af9; stroke:none; fill-opacity:1\" cx=\"840.99\" cy=\"351.248\" r=\"1\"/>\n",
       "<circle clip-path=\"url(#clip3902)\" style=\"fill:#000000; stroke:none; fill-opacity:1\" cx=\"848.902\" cy=\"375.879\" r=\"2\"/>\n",
       "<circle clip-path=\"url(#clip3902)\" style=\"fill:#009af9; stroke:none; fill-opacity:1\" cx=\"848.902\" cy=\"375.879\" r=\"1\"/>\n",
       "<circle clip-path=\"url(#clip3902)\" style=\"fill:#000000; stroke:none; fill-opacity:1\" cx=\"856.815\" cy=\"384.966\" r=\"2\"/>\n",
       "<circle clip-path=\"url(#clip3902)\" style=\"fill:#009af9; stroke:none; fill-opacity:1\" cx=\"856.815\" cy=\"384.966\" r=\"1\"/>\n",
       "<polyline clip-path=\"url(#clip3902)\" style=\"stroke:#000000; stroke-width:1; stroke-opacity:1; fill:none\" points=\"\n",
       "  73.4806,444.017 73.4806,444.017 \n",
       "  \"/>\n",
       "<polyline clip-path=\"url(#clip3902)\" style=\"stroke:#000000; stroke-width:1; stroke-opacity:1; fill:none\" points=\"\n",
       "  81.3931,444.017 81.3931,444.017 \n",
       "  \"/>\n",
       "<polyline clip-path=\"url(#clip3902)\" style=\"stroke:#000000; stroke-width:1; stroke-opacity:1; fill:none\" points=\"\n",
       "  89.3055,444.017 89.3055,444.017 \n",
       "  \"/>\n",
       "<polyline clip-path=\"url(#clip3902)\" style=\"stroke:#000000; stroke-width:1; stroke-opacity:1; fill:none\" points=\"\n",
       "  97.218,444.017 97.218,444.017 \n",
       "  \"/>\n",
       "<polyline clip-path=\"url(#clip3902)\" style=\"stroke:#000000; stroke-width:1; stroke-opacity:1; fill:none\" points=\"\n",
       "  105.13,444.017 105.13,444.017 \n",
       "  \"/>\n",
       "<polyline clip-path=\"url(#clip3902)\" style=\"stroke:#000000; stroke-width:1; stroke-opacity:1; fill:none\" points=\"\n",
       "  113.043,444.017 113.043,444.017 \n",
       "  \"/>\n",
       "<polyline clip-path=\"url(#clip3902)\" style=\"stroke:#000000; stroke-width:1; stroke-opacity:1; fill:none\" points=\"\n",
       "  120.955,444.017 120.955,444.017 \n",
       "  \"/>\n",
       "<polyline clip-path=\"url(#clip3902)\" style=\"stroke:#000000; stroke-width:1; stroke-opacity:1; fill:none\" points=\"\n",
       "  128.868,444.017 128.868,444.017 \n",
       "  \"/>\n",
       "<polyline clip-path=\"url(#clip3902)\" style=\"stroke:#000000; stroke-width:1; stroke-opacity:1; fill:none\" points=\"\n",
       "  136.78,444.017 136.78,444.017 \n",
       "  \"/>\n",
       "<polyline clip-path=\"url(#clip3902)\" style=\"stroke:#000000; stroke-width:1; stroke-opacity:1; fill:none\" points=\"\n",
       "  144.693,444.017 144.693,444.017 \n",
       "  \"/>\n",
       "<polyline clip-path=\"url(#clip3902)\" style=\"stroke:#000000; stroke-width:1; stroke-opacity:1; fill:none\" points=\"\n",
       "  152.605,444.017 152.605,444.017 \n",
       "  \"/>\n",
       "<polyline clip-path=\"url(#clip3902)\" style=\"stroke:#000000; stroke-width:1; stroke-opacity:1; fill:none\" points=\"\n",
       "  160.518,444.017 160.518,444.017 \n",
       "  \"/>\n",
       "<polyline clip-path=\"url(#clip3902)\" style=\"stroke:#000000; stroke-width:1; stroke-opacity:1; fill:none\" points=\"\n",
       "  168.43,444.017 168.43,444.017 \n",
       "  \"/>\n",
       "<polyline clip-path=\"url(#clip3902)\" style=\"stroke:#000000; stroke-width:1; stroke-opacity:1; fill:none\" points=\"\n",
       "  176.343,444.017 176.343,444.017 \n",
       "  \"/>\n",
       "<polyline clip-path=\"url(#clip3902)\" style=\"stroke:#000000; stroke-width:1; stroke-opacity:1; fill:none\" points=\"\n",
       "  184.255,438.972 184.255,419.259 \n",
       "  \"/>\n",
       "<polyline clip-path=\"url(#clip3902)\" style=\"stroke:#000000; stroke-width:1; stroke-opacity:1; fill:none\" points=\"\n",
       "  192.168,449.303 192.168,428.23 \n",
       "  \"/>\n",
       "<polyline clip-path=\"url(#clip3902)\" style=\"stroke:#000000; stroke-width:1; stroke-opacity:1; fill:none\" points=\"\n",
       "  200.08,417.49 200.08,392.129 \n",
       "  \"/>\n",
       "<polyline clip-path=\"url(#clip3902)\" style=\"stroke:#000000; stroke-width:1; stroke-opacity:1; fill:none\" points=\"\n",
       "  207.993,407.934 207.993,382.514 \n",
       "  \"/>\n",
       "<polyline clip-path=\"url(#clip3902)\" style=\"stroke:#000000; stroke-width:1; stroke-opacity:1; fill:none\" points=\"\n",
       "  215.905,426.446 215.905,394.866 \n",
       "  \"/>\n",
       "<polyline clip-path=\"url(#clip3902)\" style=\"stroke:#000000; stroke-width:1; stroke-opacity:1; fill:none\" points=\"\n",
       "  223.817,380.379 223.817,344.625 \n",
       "  \"/>\n",
       "<polyline clip-path=\"url(#clip3902)\" style=\"stroke:#000000; stroke-width:1; stroke-opacity:1; fill:none\" points=\"\n",
       "  231.73,413.67 231.73,383.696 \n",
       "  \"/>\n",
       "<polyline clip-path=\"url(#clip3902)\" style=\"stroke:#000000; stroke-width:1; stroke-opacity:1; fill:none\" points=\"\n",
       "  239.642,376.195 239.642,338.183 \n",
       "  \"/>\n",
       "<polyline clip-path=\"url(#clip3902)\" style=\"stroke:#000000; stroke-width:1; stroke-opacity:1; fill:none\" points=\"\n",
       "  247.555,350.672 247.555,314.547 \n",
       "  \"/>\n",
       "<polyline clip-path=\"url(#clip3902)\" style=\"stroke:#000000; stroke-width:1; stroke-opacity:1; fill:none\" points=\"\n",
       "  255.467,366.638 255.467,327.599 \n",
       "  \"/>\n",
       "<polyline clip-path=\"url(#clip3902)\" style=\"stroke:#000000; stroke-width:1; stroke-opacity:1; fill:none\" points=\"\n",
       "  263.38,398.449 263.38,360.442 \n",
       "  \"/>\n",
       "<polyline clip-path=\"url(#clip3902)\" style=\"stroke:#000000; stroke-width:1; stroke-opacity:1; fill:none\" points=\"\n",
       "  271.292,317.148 271.292,277.325 \n",
       "  \"/>\n",
       "<polyline clip-path=\"url(#clip3902)\" style=\"stroke:#000000; stroke-width:1; stroke-opacity:1; fill:none\" points=\"\n",
       "  279.205,376.549 279.205,339.535 \n",
       "  \"/>\n",
       "<polyline clip-path=\"url(#clip3902)\" style=\"stroke:#000000; stroke-width:1; stroke-opacity:1; fill:none\" points=\"\n",
       "  287.117,380.203 287.117,340.137 \n",
       "  \"/>\n",
       "<polyline clip-path=\"url(#clip3902)\" style=\"stroke:#000000; stroke-width:1; stroke-opacity:1; fill:none\" points=\"\n",
       "  295.03,417.842 295.03,382.689 \n",
       "  \"/>\n",
       "<polyline clip-path=\"url(#clip3902)\" style=\"stroke:#000000; stroke-width:1; stroke-opacity:1; fill:none\" points=\"\n",
       "  302.942,425.019 302.942,391.04 \n",
       "  \"/>\n",
       "<polyline clip-path=\"url(#clip3902)\" style=\"stroke:#000000; stroke-width:1; stroke-opacity:1; fill:none\" points=\"\n",
       "  310.855,416.199 310.855,380.862 \n",
       "  \"/>\n",
       "<polyline clip-path=\"url(#clip3902)\" style=\"stroke:#000000; stroke-width:1; stroke-opacity:1; fill:none\" points=\"\n",
       "  318.767,422.568 318.767,384.743 \n",
       "  \"/>\n",
       "<polyline clip-path=\"url(#clip3902)\" style=\"stroke:#000000; stroke-width:1; stroke-opacity:1; fill:none\" points=\"\n",
       "  326.68,416.515 326.68,373.021 \n",
       "  \"/>\n",
       "<polyline clip-path=\"url(#clip3902)\" style=\"stroke:#000000; stroke-width:1; stroke-opacity:1; fill:none\" points=\"\n",
       "  334.592,381.808 334.592,341.286 \n",
       "  \"/>\n",
       "<polyline clip-path=\"url(#clip3902)\" style=\"stroke:#000000; stroke-width:1; stroke-opacity:1; fill:none\" points=\"\n",
       "  342.505,423.14 342.505,374.959 \n",
       "  \"/>\n",
       "<polyline clip-path=\"url(#clip3902)\" style=\"stroke:#000000; stroke-width:1; stroke-opacity:1; fill:none\" points=\"\n",
       "  350.417,377.604 350.417,331.324 \n",
       "  \"/>\n",
       "<polyline clip-path=\"url(#clip3902)\" style=\"stroke:#000000; stroke-width:1; stroke-opacity:1; fill:none\" points=\"\n",
       "  358.329,316.447 358.329,268.371 \n",
       "  \"/>\n",
       "<polyline clip-path=\"url(#clip3902)\" style=\"stroke:#000000; stroke-width:1; stroke-opacity:1; fill:none\" points=\"\n",
       "  366.242,319.043 366.242,268.716 \n",
       "  \"/>\n",
       "<polyline clip-path=\"url(#clip3902)\" style=\"stroke:#000000; stroke-width:1; stroke-opacity:1; fill:none\" points=\"\n",
       "  374.154,251.482 374.154,200.855 \n",
       "  \"/>\n",
       "<polyline clip-path=\"url(#clip3902)\" style=\"stroke:#000000; stroke-width:1; stroke-opacity:1; fill:none\" points=\"\n",
       "  382.067,263.425 382.067,210.84 \n",
       "  \"/>\n",
       "<polyline clip-path=\"url(#clip3902)\" style=\"stroke:#000000; stroke-width:1; stroke-opacity:1; fill:none\" points=\"\n",
       "  389.979,218.897 389.979,156.16 \n",
       "  \"/>\n",
       "<polyline clip-path=\"url(#clip3902)\" style=\"stroke:#000000; stroke-width:1; stroke-opacity:1; fill:none\" points=\"\n",
       "  397.892,208.516 397.892,146.407 \n",
       "  \"/>\n",
       "<polyline clip-path=\"url(#clip3902)\" style=\"stroke:#000000; stroke-width:1; stroke-opacity:1; fill:none\" points=\"\n",
       "  405.804,145.244 405.804,84.397 \n",
       "  \"/>\n",
       "<polyline clip-path=\"url(#clip3902)\" style=\"stroke:#000000; stroke-width:1; stroke-opacity:1; fill:none\" points=\"\n",
       "  413.717,178.794 413.717,118.85 \n",
       "  \"/>\n",
       "<polyline clip-path=\"url(#clip3902)\" style=\"stroke:#000000; stroke-width:1; stroke-opacity:1; fill:none\" points=\"\n",
       "  421.629,160.571 421.629,102.22 \n",
       "  \"/>\n",
       "<polyline clip-path=\"url(#clip3902)\" style=\"stroke:#000000; stroke-width:1; stroke-opacity:1; fill:none\" points=\"\n",
       "  429.542,145.3 429.542,86.8394 \n",
       "  \"/>\n",
       "<polyline clip-path=\"url(#clip3902)\" style=\"stroke:#000000; stroke-width:1; stroke-opacity:1; fill:none\" points=\"\n",
       "  437.454,143.297 437.454,86.3067 \n",
       "  \"/>\n",
       "<polyline clip-path=\"url(#clip3902)\" style=\"stroke:#000000; stroke-width:1; stroke-opacity:1; fill:none\" points=\"\n",
       "  445.367,151.616 445.367,95.8588 \n",
       "  \"/>\n",
       "<polyline clip-path=\"url(#clip3902)\" style=\"stroke:#000000; stroke-width:1; stroke-opacity:1; fill:none\" points=\"\n",
       "  453.279,101.358 453.279,43.6652 \n",
       "  \"/>\n",
       "<polyline clip-path=\"url(#clip3902)\" style=\"stroke:#000000; stroke-width:1; stroke-opacity:1; fill:none\" points=\"\n",
       "  461.192,141.284 461.192,85.6271 \n",
       "  \"/>\n",
       "<polyline clip-path=\"url(#clip3902)\" style=\"stroke:#000000; stroke-width:1; stroke-opacity:1; fill:none\" points=\"\n",
       "  469.104,167.829 469.104,113.848 \n",
       "  \"/>\n",
       "<polyline clip-path=\"url(#clip3902)\" style=\"stroke:#000000; stroke-width:1; stroke-opacity:1; fill:none\" points=\"\n",
       "  477.016,192.081 477.016,138.395 \n",
       "  \"/>\n",
       "<polyline clip-path=\"url(#clip3902)\" style=\"stroke:#000000; stroke-width:1; stroke-opacity:1; fill:none\" points=\"\n",
       "  484.929,234.927 484.929,182.86 \n",
       "  \"/>\n",
       "<polyline clip-path=\"url(#clip3902)\" style=\"stroke:#000000; stroke-width:1; stroke-opacity:1; fill:none\" points=\"\n",
       "  492.841,142.876 492.841,92.6385 \n",
       "  \"/>\n",
       "<polyline clip-path=\"url(#clip3902)\" style=\"stroke:#000000; stroke-width:1; stroke-opacity:1; fill:none\" points=\"\n",
       "  500.754,222.118 500.754,176.389 \n",
       "  \"/>\n",
       "<polyline clip-path=\"url(#clip3902)\" style=\"stroke:#000000; stroke-width:1; stroke-opacity:1; fill:none\" points=\"\n",
       "  508.666,241.187 508.666,194.303 \n",
       "  \"/>\n",
       "<polyline clip-path=\"url(#clip3902)\" style=\"stroke:#000000; stroke-width:1; stroke-opacity:1; fill:none\" points=\"\n",
       "  516.579,246.992 516.579,201.324 \n",
       "  \"/>\n",
       "<polyline clip-path=\"url(#clip3902)\" style=\"stroke:#000000; stroke-width:1; stroke-opacity:1; fill:none\" points=\"\n",
       "  524.491,256.264 524.491,211.918 \n",
       "  \"/>\n",
       "<polyline clip-path=\"url(#clip3902)\" style=\"stroke:#000000; stroke-width:1; stroke-opacity:1; fill:none\" points=\"\n",
       "  532.404,269.067 532.404,227.763 \n",
       "  \"/>\n",
       "<polyline clip-path=\"url(#clip3902)\" style=\"stroke:#000000; stroke-width:1; stroke-opacity:1; fill:none\" points=\"\n",
       "  540.316,220.233 540.316,176.254 \n",
       "  \"/>\n",
       "<polyline clip-path=\"url(#clip3902)\" style=\"stroke:#000000; stroke-width:1; stroke-opacity:1; fill:none\" points=\"\n",
       "  548.229,235.843 548.229,192.004 \n",
       "  \"/>\n",
       "<polyline clip-path=\"url(#clip3902)\" style=\"stroke:#000000; stroke-width:1; stroke-opacity:1; fill:none\" points=\"\n",
       "  556.141,279.153 556.141,235.993 \n",
       "  \"/>\n",
       "<polyline clip-path=\"url(#clip3902)\" style=\"stroke:#000000; stroke-width:1; stroke-opacity:1; fill:none\" points=\"\n",
       "  564.054,210.847 564.054,168.955 \n",
       "  \"/>\n",
       "<polyline clip-path=\"url(#clip3902)\" style=\"stroke:#000000; stroke-width:1; stroke-opacity:1; fill:none\" points=\"\n",
       "  571.966,226.943 571.966,185.602 \n",
       "  \"/>\n",
       "<polyline clip-path=\"url(#clip3902)\" style=\"stroke:#000000; stroke-width:1; stroke-opacity:1; fill:none\" points=\"\n",
       "  579.879,230.034 579.879,190.394 \n",
       "  \"/>\n",
       "<polyline clip-path=\"url(#clip3902)\" style=\"stroke:#000000; stroke-width:1; stroke-opacity:1; fill:none\" points=\"\n",
       "  587.791,233.174 587.791,194.243 \n",
       "  \"/>\n",
       "<polyline clip-path=\"url(#clip3902)\" style=\"stroke:#000000; stroke-width:1; stroke-opacity:1; fill:none\" points=\"\n",
       "  595.703,219.402 595.703,184.063 \n",
       "  \"/>\n",
       "<polyline clip-path=\"url(#clip3902)\" style=\"stroke:#000000; stroke-width:1; stroke-opacity:1; fill:none\" points=\"\n",
       "  603.616,250.924 603.616,215.393 \n",
       "  \"/>\n",
       "<polyline clip-path=\"url(#clip3902)\" style=\"stroke:#000000; stroke-width:1; stroke-opacity:1; fill:none\" points=\"\n",
       "  611.528,273.323 611.528,239.382 \n",
       "  \"/>\n",
       "<polyline clip-path=\"url(#clip3902)\" style=\"stroke:#000000; stroke-width:1; stroke-opacity:1; fill:none\" points=\"\n",
       "  619.441,279.825 619.441,246.523 \n",
       "  \"/>\n",
       "<polyline clip-path=\"url(#clip3902)\" style=\"stroke:#000000; stroke-width:1; stroke-opacity:1; fill:none\" points=\"\n",
       "  627.353,215.998 627.353,182.807 \n",
       "  \"/>\n",
       "<polyline clip-path=\"url(#clip3902)\" style=\"stroke:#000000; stroke-width:1; stroke-opacity:1; fill:none\" points=\"\n",
       "  635.266,264.874 635.266,233.172 \n",
       "  \"/>\n",
       "<polyline clip-path=\"url(#clip3902)\" style=\"stroke:#000000; stroke-width:1; stroke-opacity:1; fill:none\" points=\"\n",
       "  643.178,280.987 643.178,249.621 \n",
       "  \"/>\n",
       "<polyline clip-path=\"url(#clip3902)\" style=\"stroke:#000000; stroke-width:1; stroke-opacity:1; fill:none\" points=\"\n",
       "  651.091,250.09 651.091,217.65 \n",
       "  \"/>\n",
       "<polyline clip-path=\"url(#clip3902)\" style=\"stroke:#000000; stroke-width:1; stroke-opacity:1; fill:none\" points=\"\n",
       "  659.003,279.108 659.003,250.256 \n",
       "  \"/>\n",
       "<polyline clip-path=\"url(#clip3902)\" style=\"stroke:#000000; stroke-width:1; stroke-opacity:1; fill:none\" points=\"\n",
       "  666.916,314.267 666.916,285.131 \n",
       "  \"/>\n",
       "<polyline clip-path=\"url(#clip3902)\" style=\"stroke:#000000; stroke-width:1; stroke-opacity:1; fill:none\" points=\"\n",
       "  674.828,260.477 674.828,230.726 \n",
       "  \"/>\n",
       "<polyline clip-path=\"url(#clip3902)\" style=\"stroke:#000000; stroke-width:1; stroke-opacity:1; fill:none\" points=\"\n",
       "  682.741,279.707 682.741,250.89 \n",
       "  \"/>\n",
       "<polyline clip-path=\"url(#clip3902)\" style=\"stroke:#000000; stroke-width:1; stroke-opacity:1; fill:none\" points=\"\n",
       "  690.653,285.554 690.653,257.065 \n",
       "  \"/>\n",
       "<polyline clip-path=\"url(#clip3902)\" style=\"stroke:#000000; stroke-width:1; stroke-opacity:1; fill:none\" points=\"\n",
       "  698.566,289.926 698.566,262.127 \n",
       "  \"/>\n",
       "<polyline clip-path=\"url(#clip3902)\" style=\"stroke:#000000; stroke-width:1; stroke-opacity:1; fill:none\" points=\"\n",
       "  706.478,304.156 706.478,279.623 \n",
       "  \"/>\n",
       "<polyline clip-path=\"url(#clip3902)\" style=\"stroke:#000000; stroke-width:1; stroke-opacity:1; fill:none\" points=\"\n",
       "  714.391,312.118 714.391,287.164 \n",
       "  \"/>\n",
       "<polyline clip-path=\"url(#clip3902)\" style=\"stroke:#000000; stroke-width:1; stroke-opacity:1; fill:none\" points=\"\n",
       "  722.303,307.775 722.303,284.093 \n",
       "  \"/>\n",
       "<polyline clip-path=\"url(#clip3902)\" style=\"stroke:#000000; stroke-width:1; stroke-opacity:1; fill:none\" points=\"\n",
       "  730.215,317.647 730.215,293.83 \n",
       "  \"/>\n",
       "<polyline clip-path=\"url(#clip3902)\" style=\"stroke:#000000; stroke-width:1; stroke-opacity:1; fill:none\" points=\"\n",
       "  738.128,307.726 738.128,283.024 \n",
       "  \"/>\n",
       "<polyline clip-path=\"url(#clip3902)\" style=\"stroke:#000000; stroke-width:1; stroke-opacity:1; fill:none\" points=\"\n",
       "  746.04,305.879 746.04,282.651 \n",
       "  \"/>\n",
       "<polyline clip-path=\"url(#clip3902)\" style=\"stroke:#000000; stroke-width:1; stroke-opacity:1; fill:none\" points=\"\n",
       "  753.953,328.355 753.953,306.055 \n",
       "  \"/>\n",
       "<polyline clip-path=\"url(#clip3902)\" style=\"stroke:#000000; stroke-width:1; stroke-opacity:1; fill:none\" points=\"\n",
       "  761.865,341.388 761.865,318.395 \n",
       "  \"/>\n",
       "<polyline clip-path=\"url(#clip3902)\" style=\"stroke:#000000; stroke-width:1; stroke-opacity:1; fill:none\" points=\"\n",
       "  769.778,314.237 769.778,291.35 \n",
       "  \"/>\n",
       "<polyline clip-path=\"url(#clip3902)\" style=\"stroke:#000000; stroke-width:1; stroke-opacity:1; fill:none\" points=\"\n",
       "  777.69,315.704 777.69,293.868 \n",
       "  \"/>\n",
       "<polyline clip-path=\"url(#clip3902)\" style=\"stroke:#000000; stroke-width:1; stroke-opacity:1; fill:none\" points=\"\n",
       "  785.603,321.608 785.603,300.308 \n",
       "  \"/>\n",
       "<polyline clip-path=\"url(#clip3902)\" style=\"stroke:#000000; stroke-width:1; stroke-opacity:1; fill:none\" points=\"\n",
       "  793.515,357.973 793.515,338.02 \n",
       "  \"/>\n",
       "<polyline clip-path=\"url(#clip3902)\" style=\"stroke:#000000; stroke-width:1; stroke-opacity:1; fill:none\" points=\"\n",
       "  801.428,331.323 801.428,312.023 \n",
       "  \"/>\n",
       "<polyline clip-path=\"url(#clip3902)\" style=\"stroke:#000000; stroke-width:1; stroke-opacity:1; fill:none\" points=\"\n",
       "  809.34,361.363 809.34,342.282 \n",
       "  \"/>\n",
       "<polyline clip-path=\"url(#clip3902)\" style=\"stroke:#000000; stroke-width:1; stroke-opacity:1; fill:none\" points=\"\n",
       "  817.253,362.092 817.253,344.135 \n",
       "  \"/>\n",
       "<polyline clip-path=\"url(#clip3902)\" style=\"stroke:#000000; stroke-width:1; stroke-opacity:1; fill:none\" points=\"\n",
       "  825.165,366.278 825.165,348.257 \n",
       "  \"/>\n",
       "<polyline clip-path=\"url(#clip3902)\" style=\"stroke:#000000; stroke-width:1; stroke-opacity:1; fill:none\" points=\"\n",
       "  833.078,359.578 833.078,341.918 \n",
       "  \"/>\n",
       "<polyline clip-path=\"url(#clip3902)\" style=\"stroke:#000000; stroke-width:1; stroke-opacity:1; fill:none\" points=\"\n",
       "  840.99,359.692 840.99,342.804 \n",
       "  \"/>\n",
       "<polyline clip-path=\"url(#clip3902)\" style=\"stroke:#000000; stroke-width:1; stroke-opacity:1; fill:none\" points=\"\n",
       "  848.902,383.848 848.902,367.91 \n",
       "  \"/>\n",
       "<polyline clip-path=\"url(#clip3902)\" style=\"stroke:#000000; stroke-width:1; stroke-opacity:1; fill:none\" points=\"\n",
       "  856.815,392.763 856.815,377.169 \n",
       "  \"/>\n",
       "<line clip-path=\"url(#clip3902)\" x1=\"76.4806\" y1=\"444.017\" x2=\"70.4806\" y2=\"444.017\" style=\"stroke:#000000; stroke-opacity:1\"/>\n",
       "<line clip-path=\"url(#clip3902)\" x1=\"76.4806\" y1=\"444.017\" x2=\"70.4806\" y2=\"444.017\" style=\"stroke:#000000; stroke-opacity:1\"/>\n",
       "<line clip-path=\"url(#clip3902)\" x1=\"84.3931\" y1=\"444.017\" x2=\"78.3931\" y2=\"444.017\" style=\"stroke:#000000; stroke-opacity:1\"/>\n",
       "<line clip-path=\"url(#clip3902)\" x1=\"84.3931\" y1=\"444.017\" x2=\"78.3931\" y2=\"444.017\" style=\"stroke:#000000; stroke-opacity:1\"/>\n",
       "<line clip-path=\"url(#clip3902)\" x1=\"92.3055\" y1=\"444.017\" x2=\"86.3055\" y2=\"444.017\" style=\"stroke:#000000; stroke-opacity:1\"/>\n",
       "<line clip-path=\"url(#clip3902)\" x1=\"92.3055\" y1=\"444.017\" x2=\"86.3055\" y2=\"444.017\" style=\"stroke:#000000; stroke-opacity:1\"/>\n",
       "<line clip-path=\"url(#clip3902)\" x1=\"100.218\" y1=\"444.017\" x2=\"94.218\" y2=\"444.017\" style=\"stroke:#000000; stroke-opacity:1\"/>\n",
       "<line clip-path=\"url(#clip3902)\" x1=\"100.218\" y1=\"444.017\" x2=\"94.218\" y2=\"444.017\" style=\"stroke:#000000; stroke-opacity:1\"/>\n",
       "<line clip-path=\"url(#clip3902)\" x1=\"108.13\" y1=\"444.017\" x2=\"102.13\" y2=\"444.017\" style=\"stroke:#000000; stroke-opacity:1\"/>\n",
       "<line clip-path=\"url(#clip3902)\" x1=\"108.13\" y1=\"444.017\" x2=\"102.13\" y2=\"444.017\" style=\"stroke:#000000; stroke-opacity:1\"/>\n",
       "<line clip-path=\"url(#clip3902)\" x1=\"116.043\" y1=\"444.017\" x2=\"110.043\" y2=\"444.017\" style=\"stroke:#000000; stroke-opacity:1\"/>\n",
       "<line clip-path=\"url(#clip3902)\" x1=\"116.043\" y1=\"444.017\" x2=\"110.043\" y2=\"444.017\" style=\"stroke:#000000; stroke-opacity:1\"/>\n",
       "<line clip-path=\"url(#clip3902)\" x1=\"123.955\" y1=\"444.017\" x2=\"117.955\" y2=\"444.017\" style=\"stroke:#000000; stroke-opacity:1\"/>\n",
       "<line clip-path=\"url(#clip3902)\" x1=\"123.955\" y1=\"444.017\" x2=\"117.955\" y2=\"444.017\" style=\"stroke:#000000; stroke-opacity:1\"/>\n",
       "<line clip-path=\"url(#clip3902)\" x1=\"131.868\" y1=\"444.017\" x2=\"125.868\" y2=\"444.017\" style=\"stroke:#000000; stroke-opacity:1\"/>\n",
       "<line clip-path=\"url(#clip3902)\" x1=\"131.868\" y1=\"444.017\" x2=\"125.868\" y2=\"444.017\" style=\"stroke:#000000; stroke-opacity:1\"/>\n",
       "<line clip-path=\"url(#clip3902)\" x1=\"139.78\" y1=\"444.017\" x2=\"133.78\" y2=\"444.017\" style=\"stroke:#000000; stroke-opacity:1\"/>\n",
       "<line clip-path=\"url(#clip3902)\" x1=\"139.78\" y1=\"444.017\" x2=\"133.78\" y2=\"444.017\" style=\"stroke:#000000; stroke-opacity:1\"/>\n",
       "<line clip-path=\"url(#clip3902)\" x1=\"147.693\" y1=\"444.017\" x2=\"141.693\" y2=\"444.017\" style=\"stroke:#000000; stroke-opacity:1\"/>\n",
       "<line clip-path=\"url(#clip3902)\" x1=\"147.693\" y1=\"444.017\" x2=\"141.693\" y2=\"444.017\" style=\"stroke:#000000; stroke-opacity:1\"/>\n",
       "<line clip-path=\"url(#clip3902)\" x1=\"155.605\" y1=\"444.017\" x2=\"149.605\" y2=\"444.017\" style=\"stroke:#000000; stroke-opacity:1\"/>\n",
       "<line clip-path=\"url(#clip3902)\" x1=\"155.605\" y1=\"444.017\" x2=\"149.605\" y2=\"444.017\" style=\"stroke:#000000; stroke-opacity:1\"/>\n",
       "<line clip-path=\"url(#clip3902)\" x1=\"163.518\" y1=\"444.017\" x2=\"157.518\" y2=\"444.017\" style=\"stroke:#000000; stroke-opacity:1\"/>\n",
       "<line clip-path=\"url(#clip3902)\" x1=\"163.518\" y1=\"444.017\" x2=\"157.518\" y2=\"444.017\" style=\"stroke:#000000; stroke-opacity:1\"/>\n",
       "<line clip-path=\"url(#clip3902)\" x1=\"171.43\" y1=\"444.017\" x2=\"165.43\" y2=\"444.017\" style=\"stroke:#000000; stroke-opacity:1\"/>\n",
       "<line clip-path=\"url(#clip3902)\" x1=\"171.43\" y1=\"444.017\" x2=\"165.43\" y2=\"444.017\" style=\"stroke:#000000; stroke-opacity:1\"/>\n",
       "<line clip-path=\"url(#clip3902)\" x1=\"179.343\" y1=\"444.017\" x2=\"173.343\" y2=\"444.017\" style=\"stroke:#000000; stroke-opacity:1\"/>\n",
       "<line clip-path=\"url(#clip3902)\" x1=\"179.343\" y1=\"444.017\" x2=\"173.343\" y2=\"444.017\" style=\"stroke:#000000; stroke-opacity:1\"/>\n",
       "<line clip-path=\"url(#clip3902)\" x1=\"187.255\" y1=\"438.972\" x2=\"181.255\" y2=\"438.972\" style=\"stroke:#000000; stroke-opacity:1\"/>\n",
       "<line clip-path=\"url(#clip3902)\" x1=\"187.255\" y1=\"419.259\" x2=\"181.255\" y2=\"419.259\" style=\"stroke:#000000; stroke-opacity:1\"/>\n",
       "<line clip-path=\"url(#clip3902)\" x1=\"195.168\" y1=\"449.303\" x2=\"189.168\" y2=\"449.303\" style=\"stroke:#000000; stroke-opacity:1\"/>\n",
       "<line clip-path=\"url(#clip3902)\" x1=\"195.168\" y1=\"428.23\" x2=\"189.168\" y2=\"428.23\" style=\"stroke:#000000; stroke-opacity:1\"/>\n",
       "<line clip-path=\"url(#clip3902)\" x1=\"203.08\" y1=\"417.49\" x2=\"197.08\" y2=\"417.49\" style=\"stroke:#000000; stroke-opacity:1\"/>\n",
       "<line clip-path=\"url(#clip3902)\" x1=\"203.08\" y1=\"392.129\" x2=\"197.08\" y2=\"392.129\" style=\"stroke:#000000; stroke-opacity:1\"/>\n",
       "<line clip-path=\"url(#clip3902)\" x1=\"210.993\" y1=\"407.934\" x2=\"204.993\" y2=\"407.934\" style=\"stroke:#000000; stroke-opacity:1\"/>\n",
       "<line clip-path=\"url(#clip3902)\" x1=\"210.993\" y1=\"382.514\" x2=\"204.993\" y2=\"382.514\" style=\"stroke:#000000; stroke-opacity:1\"/>\n",
       "<line clip-path=\"url(#clip3902)\" x1=\"218.905\" y1=\"426.446\" x2=\"212.905\" y2=\"426.446\" style=\"stroke:#000000; stroke-opacity:1\"/>\n",
       "<line clip-path=\"url(#clip3902)\" x1=\"218.905\" y1=\"394.866\" x2=\"212.905\" y2=\"394.866\" style=\"stroke:#000000; stroke-opacity:1\"/>\n",
       "<line clip-path=\"url(#clip3902)\" x1=\"226.817\" y1=\"380.379\" x2=\"220.817\" y2=\"380.379\" style=\"stroke:#000000; stroke-opacity:1\"/>\n",
       "<line clip-path=\"url(#clip3902)\" x1=\"226.817\" y1=\"344.625\" x2=\"220.817\" y2=\"344.625\" style=\"stroke:#000000; stroke-opacity:1\"/>\n",
       "<line clip-path=\"url(#clip3902)\" x1=\"234.73\" y1=\"413.67\" x2=\"228.73\" y2=\"413.67\" style=\"stroke:#000000; stroke-opacity:1\"/>\n",
       "<line clip-path=\"url(#clip3902)\" x1=\"234.73\" y1=\"383.696\" x2=\"228.73\" y2=\"383.696\" style=\"stroke:#000000; stroke-opacity:1\"/>\n",
       "<line clip-path=\"url(#clip3902)\" x1=\"242.642\" y1=\"376.195\" x2=\"236.642\" y2=\"376.195\" style=\"stroke:#000000; stroke-opacity:1\"/>\n",
       "<line clip-path=\"url(#clip3902)\" x1=\"242.642\" y1=\"338.183\" x2=\"236.642\" y2=\"338.183\" style=\"stroke:#000000; stroke-opacity:1\"/>\n",
       "<line clip-path=\"url(#clip3902)\" x1=\"250.555\" y1=\"350.672\" x2=\"244.555\" y2=\"350.672\" style=\"stroke:#000000; stroke-opacity:1\"/>\n",
       "<line clip-path=\"url(#clip3902)\" x1=\"250.555\" y1=\"314.547\" x2=\"244.555\" y2=\"314.547\" style=\"stroke:#000000; stroke-opacity:1\"/>\n",
       "<line clip-path=\"url(#clip3902)\" x1=\"258.467\" y1=\"366.638\" x2=\"252.467\" y2=\"366.638\" style=\"stroke:#000000; stroke-opacity:1\"/>\n",
       "<line clip-path=\"url(#clip3902)\" x1=\"258.467\" y1=\"327.599\" x2=\"252.467\" y2=\"327.599\" style=\"stroke:#000000; stroke-opacity:1\"/>\n",
       "<line clip-path=\"url(#clip3902)\" x1=\"266.38\" y1=\"398.449\" x2=\"260.38\" y2=\"398.449\" style=\"stroke:#000000; stroke-opacity:1\"/>\n",
       "<line clip-path=\"url(#clip3902)\" x1=\"266.38\" y1=\"360.442\" x2=\"260.38\" y2=\"360.442\" style=\"stroke:#000000; stroke-opacity:1\"/>\n",
       "<line clip-path=\"url(#clip3902)\" x1=\"274.292\" y1=\"317.148\" x2=\"268.292\" y2=\"317.148\" style=\"stroke:#000000; stroke-opacity:1\"/>\n",
       "<line clip-path=\"url(#clip3902)\" x1=\"274.292\" y1=\"277.325\" x2=\"268.292\" y2=\"277.325\" style=\"stroke:#000000; stroke-opacity:1\"/>\n",
       "<line clip-path=\"url(#clip3902)\" x1=\"282.205\" y1=\"376.549\" x2=\"276.205\" y2=\"376.549\" style=\"stroke:#000000; stroke-opacity:1\"/>\n",
       "<line clip-path=\"url(#clip3902)\" x1=\"282.205\" y1=\"339.535\" x2=\"276.205\" y2=\"339.535\" style=\"stroke:#000000; stroke-opacity:1\"/>\n",
       "<line clip-path=\"url(#clip3902)\" x1=\"290.117\" y1=\"380.203\" x2=\"284.117\" y2=\"380.203\" style=\"stroke:#000000; stroke-opacity:1\"/>\n",
       "<line clip-path=\"url(#clip3902)\" x1=\"290.117\" y1=\"340.137\" x2=\"284.117\" y2=\"340.137\" style=\"stroke:#000000; stroke-opacity:1\"/>\n",
       "<line clip-path=\"url(#clip3902)\" x1=\"298.03\" y1=\"417.842\" x2=\"292.03\" y2=\"417.842\" style=\"stroke:#000000; stroke-opacity:1\"/>\n",
       "<line clip-path=\"url(#clip3902)\" x1=\"298.03\" y1=\"382.689\" x2=\"292.03\" y2=\"382.689\" style=\"stroke:#000000; stroke-opacity:1\"/>\n",
       "<line clip-path=\"url(#clip3902)\" x1=\"305.942\" y1=\"425.019\" x2=\"299.942\" y2=\"425.019\" style=\"stroke:#000000; stroke-opacity:1\"/>\n",
       "<line clip-path=\"url(#clip3902)\" x1=\"305.942\" y1=\"391.04\" x2=\"299.942\" y2=\"391.04\" style=\"stroke:#000000; stroke-opacity:1\"/>\n",
       "<line clip-path=\"url(#clip3902)\" x1=\"313.855\" y1=\"416.199\" x2=\"307.855\" y2=\"416.199\" style=\"stroke:#000000; stroke-opacity:1\"/>\n",
       "<line clip-path=\"url(#clip3902)\" x1=\"313.855\" y1=\"380.862\" x2=\"307.855\" y2=\"380.862\" style=\"stroke:#000000; stroke-opacity:1\"/>\n",
       "<line clip-path=\"url(#clip3902)\" x1=\"321.767\" y1=\"422.568\" x2=\"315.767\" y2=\"422.568\" style=\"stroke:#000000; stroke-opacity:1\"/>\n",
       "<line clip-path=\"url(#clip3902)\" x1=\"321.767\" y1=\"384.743\" x2=\"315.767\" y2=\"384.743\" style=\"stroke:#000000; stroke-opacity:1\"/>\n",
       "<line clip-path=\"url(#clip3902)\" x1=\"329.68\" y1=\"416.515\" x2=\"323.68\" y2=\"416.515\" style=\"stroke:#000000; stroke-opacity:1\"/>\n",
       "<line clip-path=\"url(#clip3902)\" x1=\"329.68\" y1=\"373.021\" x2=\"323.68\" y2=\"373.021\" style=\"stroke:#000000; stroke-opacity:1\"/>\n",
       "<line clip-path=\"url(#clip3902)\" x1=\"337.592\" y1=\"381.808\" x2=\"331.592\" y2=\"381.808\" style=\"stroke:#000000; stroke-opacity:1\"/>\n",
       "<line clip-path=\"url(#clip3902)\" x1=\"337.592\" y1=\"341.286\" x2=\"331.592\" y2=\"341.286\" style=\"stroke:#000000; stroke-opacity:1\"/>\n",
       "<line clip-path=\"url(#clip3902)\" x1=\"345.505\" y1=\"423.14\" x2=\"339.505\" y2=\"423.14\" style=\"stroke:#000000; stroke-opacity:1\"/>\n",
       "<line clip-path=\"url(#clip3902)\" x1=\"345.505\" y1=\"374.959\" x2=\"339.505\" y2=\"374.959\" style=\"stroke:#000000; stroke-opacity:1\"/>\n",
       "<line clip-path=\"url(#clip3902)\" x1=\"353.417\" y1=\"377.604\" x2=\"347.417\" y2=\"377.604\" style=\"stroke:#000000; stroke-opacity:1\"/>\n",
       "<line clip-path=\"url(#clip3902)\" x1=\"353.417\" y1=\"331.324\" x2=\"347.417\" y2=\"331.324\" style=\"stroke:#000000; stroke-opacity:1\"/>\n",
       "<line clip-path=\"url(#clip3902)\" x1=\"361.329\" y1=\"316.447\" x2=\"355.329\" y2=\"316.447\" style=\"stroke:#000000; stroke-opacity:1\"/>\n",
       "<line clip-path=\"url(#clip3902)\" x1=\"361.329\" y1=\"268.371\" x2=\"355.329\" y2=\"268.371\" style=\"stroke:#000000; stroke-opacity:1\"/>\n",
       "<line clip-path=\"url(#clip3902)\" x1=\"369.242\" y1=\"319.043\" x2=\"363.242\" y2=\"319.043\" style=\"stroke:#000000; stroke-opacity:1\"/>\n",
       "<line clip-path=\"url(#clip3902)\" x1=\"369.242\" y1=\"268.716\" x2=\"363.242\" y2=\"268.716\" style=\"stroke:#000000; stroke-opacity:1\"/>\n",
       "<line clip-path=\"url(#clip3902)\" x1=\"377.154\" y1=\"251.482\" x2=\"371.154\" y2=\"251.482\" style=\"stroke:#000000; stroke-opacity:1\"/>\n",
       "<line clip-path=\"url(#clip3902)\" x1=\"377.154\" y1=\"200.855\" x2=\"371.154\" y2=\"200.855\" style=\"stroke:#000000; stroke-opacity:1\"/>\n",
       "<line clip-path=\"url(#clip3902)\" x1=\"385.067\" y1=\"263.425\" x2=\"379.067\" y2=\"263.425\" style=\"stroke:#000000; stroke-opacity:1\"/>\n",
       "<line clip-path=\"url(#clip3902)\" x1=\"385.067\" y1=\"210.84\" x2=\"379.067\" y2=\"210.84\" style=\"stroke:#000000; stroke-opacity:1\"/>\n",
       "<line clip-path=\"url(#clip3902)\" x1=\"392.979\" y1=\"218.897\" x2=\"386.979\" y2=\"218.897\" style=\"stroke:#000000; stroke-opacity:1\"/>\n",
       "<line clip-path=\"url(#clip3902)\" x1=\"392.979\" y1=\"156.16\" x2=\"386.979\" y2=\"156.16\" style=\"stroke:#000000; stroke-opacity:1\"/>\n",
       "<line clip-path=\"url(#clip3902)\" x1=\"400.892\" y1=\"208.516\" x2=\"394.892\" y2=\"208.516\" style=\"stroke:#000000; stroke-opacity:1\"/>\n",
       "<line clip-path=\"url(#clip3902)\" x1=\"400.892\" y1=\"146.407\" x2=\"394.892\" y2=\"146.407\" style=\"stroke:#000000; stroke-opacity:1\"/>\n",
       "<line clip-path=\"url(#clip3902)\" x1=\"408.804\" y1=\"145.244\" x2=\"402.804\" y2=\"145.244\" style=\"stroke:#000000; stroke-opacity:1\"/>\n",
       "<line clip-path=\"url(#clip3902)\" x1=\"408.804\" y1=\"84.397\" x2=\"402.804\" y2=\"84.397\" style=\"stroke:#000000; stroke-opacity:1\"/>\n",
       "<line clip-path=\"url(#clip3902)\" x1=\"416.717\" y1=\"178.794\" x2=\"410.717\" y2=\"178.794\" style=\"stroke:#000000; stroke-opacity:1\"/>\n",
       "<line clip-path=\"url(#clip3902)\" x1=\"416.717\" y1=\"118.85\" x2=\"410.717\" y2=\"118.85\" style=\"stroke:#000000; stroke-opacity:1\"/>\n",
       "<line clip-path=\"url(#clip3902)\" x1=\"424.629\" y1=\"160.571\" x2=\"418.629\" y2=\"160.571\" style=\"stroke:#000000; stroke-opacity:1\"/>\n",
       "<line clip-path=\"url(#clip3902)\" x1=\"424.629\" y1=\"102.22\" x2=\"418.629\" y2=\"102.22\" style=\"stroke:#000000; stroke-opacity:1\"/>\n",
       "<line clip-path=\"url(#clip3902)\" x1=\"432.542\" y1=\"145.3\" x2=\"426.542\" y2=\"145.3\" style=\"stroke:#000000; stroke-opacity:1\"/>\n",
       "<line clip-path=\"url(#clip3902)\" x1=\"432.542\" y1=\"86.8394\" x2=\"426.542\" y2=\"86.8394\" style=\"stroke:#000000; stroke-opacity:1\"/>\n",
       "<line clip-path=\"url(#clip3902)\" x1=\"440.454\" y1=\"143.297\" x2=\"434.454\" y2=\"143.297\" style=\"stroke:#000000; stroke-opacity:1\"/>\n",
       "<line clip-path=\"url(#clip3902)\" x1=\"440.454\" y1=\"86.3067\" x2=\"434.454\" y2=\"86.3067\" style=\"stroke:#000000; stroke-opacity:1\"/>\n",
       "<line clip-path=\"url(#clip3902)\" x1=\"448.367\" y1=\"151.616\" x2=\"442.367\" y2=\"151.616\" style=\"stroke:#000000; stroke-opacity:1\"/>\n",
       "<line clip-path=\"url(#clip3902)\" x1=\"448.367\" y1=\"95.8588\" x2=\"442.367\" y2=\"95.8588\" style=\"stroke:#000000; stroke-opacity:1\"/>\n",
       "<line clip-path=\"url(#clip3902)\" x1=\"456.279\" y1=\"101.358\" x2=\"450.279\" y2=\"101.358\" style=\"stroke:#000000; stroke-opacity:1\"/>\n",
       "<line clip-path=\"url(#clip3902)\" x1=\"456.279\" y1=\"43.6652\" x2=\"450.279\" y2=\"43.6652\" style=\"stroke:#000000; stroke-opacity:1\"/>\n",
       "<line clip-path=\"url(#clip3902)\" x1=\"464.192\" y1=\"141.284\" x2=\"458.192\" y2=\"141.284\" style=\"stroke:#000000; stroke-opacity:1\"/>\n",
       "<line clip-path=\"url(#clip3902)\" x1=\"464.192\" y1=\"85.6271\" x2=\"458.192\" y2=\"85.6271\" style=\"stroke:#000000; stroke-opacity:1\"/>\n",
       "<line clip-path=\"url(#clip3902)\" x1=\"472.104\" y1=\"167.829\" x2=\"466.104\" y2=\"167.829\" style=\"stroke:#000000; stroke-opacity:1\"/>\n",
       "<line clip-path=\"url(#clip3902)\" x1=\"472.104\" y1=\"113.848\" x2=\"466.104\" y2=\"113.848\" style=\"stroke:#000000; stroke-opacity:1\"/>\n",
       "<line clip-path=\"url(#clip3902)\" x1=\"480.016\" y1=\"192.081\" x2=\"474.016\" y2=\"192.081\" style=\"stroke:#000000; stroke-opacity:1\"/>\n",
       "<line clip-path=\"url(#clip3902)\" x1=\"480.016\" y1=\"138.395\" x2=\"474.016\" y2=\"138.395\" style=\"stroke:#000000; stroke-opacity:1\"/>\n",
       "<line clip-path=\"url(#clip3902)\" x1=\"487.929\" y1=\"234.927\" x2=\"481.929\" y2=\"234.927\" style=\"stroke:#000000; stroke-opacity:1\"/>\n",
       "<line clip-path=\"url(#clip3902)\" x1=\"487.929\" y1=\"182.86\" x2=\"481.929\" y2=\"182.86\" style=\"stroke:#000000; stroke-opacity:1\"/>\n",
       "<line clip-path=\"url(#clip3902)\" x1=\"495.841\" y1=\"142.876\" x2=\"489.841\" y2=\"142.876\" style=\"stroke:#000000; stroke-opacity:1\"/>\n",
       "<line clip-path=\"url(#clip3902)\" x1=\"495.841\" y1=\"92.6385\" x2=\"489.841\" y2=\"92.6385\" style=\"stroke:#000000; stroke-opacity:1\"/>\n",
       "<line clip-path=\"url(#clip3902)\" x1=\"503.754\" y1=\"222.118\" x2=\"497.754\" y2=\"222.118\" style=\"stroke:#000000; stroke-opacity:1\"/>\n",
       "<line clip-path=\"url(#clip3902)\" x1=\"503.754\" y1=\"176.389\" x2=\"497.754\" y2=\"176.389\" style=\"stroke:#000000; stroke-opacity:1\"/>\n",
       "<line clip-path=\"url(#clip3902)\" x1=\"511.666\" y1=\"241.187\" x2=\"505.666\" y2=\"241.187\" style=\"stroke:#000000; stroke-opacity:1\"/>\n",
       "<line clip-path=\"url(#clip3902)\" x1=\"511.666\" y1=\"194.303\" x2=\"505.666\" y2=\"194.303\" style=\"stroke:#000000; stroke-opacity:1\"/>\n",
       "<line clip-path=\"url(#clip3902)\" x1=\"519.579\" y1=\"246.992\" x2=\"513.579\" y2=\"246.992\" style=\"stroke:#000000; stroke-opacity:1\"/>\n",
       "<line clip-path=\"url(#clip3902)\" x1=\"519.579\" y1=\"201.324\" x2=\"513.579\" y2=\"201.324\" style=\"stroke:#000000; stroke-opacity:1\"/>\n",
       "<line clip-path=\"url(#clip3902)\" x1=\"527.491\" y1=\"256.264\" x2=\"521.491\" y2=\"256.264\" style=\"stroke:#000000; stroke-opacity:1\"/>\n",
       "<line clip-path=\"url(#clip3902)\" x1=\"527.491\" y1=\"211.918\" x2=\"521.491\" y2=\"211.918\" style=\"stroke:#000000; stroke-opacity:1\"/>\n",
       "<line clip-path=\"url(#clip3902)\" x1=\"535.404\" y1=\"269.067\" x2=\"529.404\" y2=\"269.067\" style=\"stroke:#000000; stroke-opacity:1\"/>\n",
       "<line clip-path=\"url(#clip3902)\" x1=\"535.404\" y1=\"227.763\" x2=\"529.404\" y2=\"227.763\" style=\"stroke:#000000; stroke-opacity:1\"/>\n",
       "<line clip-path=\"url(#clip3902)\" x1=\"543.316\" y1=\"220.233\" x2=\"537.316\" y2=\"220.233\" style=\"stroke:#000000; stroke-opacity:1\"/>\n",
       "<line clip-path=\"url(#clip3902)\" x1=\"543.316\" y1=\"176.254\" x2=\"537.316\" y2=\"176.254\" style=\"stroke:#000000; stroke-opacity:1\"/>\n",
       "<line clip-path=\"url(#clip3902)\" x1=\"551.229\" y1=\"235.843\" x2=\"545.229\" y2=\"235.843\" style=\"stroke:#000000; stroke-opacity:1\"/>\n",
       "<line clip-path=\"url(#clip3902)\" x1=\"551.229\" y1=\"192.004\" x2=\"545.229\" y2=\"192.004\" style=\"stroke:#000000; stroke-opacity:1\"/>\n",
       "<line clip-path=\"url(#clip3902)\" x1=\"559.141\" y1=\"279.153\" x2=\"553.141\" y2=\"279.153\" style=\"stroke:#000000; stroke-opacity:1\"/>\n",
       "<line clip-path=\"url(#clip3902)\" x1=\"559.141\" y1=\"235.993\" x2=\"553.141\" y2=\"235.993\" style=\"stroke:#000000; stroke-opacity:1\"/>\n",
       "<line clip-path=\"url(#clip3902)\" x1=\"567.054\" y1=\"210.847\" x2=\"561.054\" y2=\"210.847\" style=\"stroke:#000000; stroke-opacity:1\"/>\n",
       "<line clip-path=\"url(#clip3902)\" x1=\"567.054\" y1=\"168.955\" x2=\"561.054\" y2=\"168.955\" style=\"stroke:#000000; stroke-opacity:1\"/>\n",
       "<line clip-path=\"url(#clip3902)\" x1=\"574.966\" y1=\"226.943\" x2=\"568.966\" y2=\"226.943\" style=\"stroke:#000000; stroke-opacity:1\"/>\n",
       "<line clip-path=\"url(#clip3902)\" x1=\"574.966\" y1=\"185.602\" x2=\"568.966\" y2=\"185.602\" style=\"stroke:#000000; stroke-opacity:1\"/>\n",
       "<line clip-path=\"url(#clip3902)\" x1=\"582.879\" y1=\"230.034\" x2=\"576.879\" y2=\"230.034\" style=\"stroke:#000000; stroke-opacity:1\"/>\n",
       "<line clip-path=\"url(#clip3902)\" x1=\"582.879\" y1=\"190.394\" x2=\"576.879\" y2=\"190.394\" style=\"stroke:#000000; stroke-opacity:1\"/>\n",
       "<line clip-path=\"url(#clip3902)\" x1=\"590.791\" y1=\"233.174\" x2=\"584.791\" y2=\"233.174\" style=\"stroke:#000000; stroke-opacity:1\"/>\n",
       "<line clip-path=\"url(#clip3902)\" x1=\"590.791\" y1=\"194.243\" x2=\"584.791\" y2=\"194.243\" style=\"stroke:#000000; stroke-opacity:1\"/>\n",
       "<line clip-path=\"url(#clip3902)\" x1=\"598.703\" y1=\"219.402\" x2=\"592.703\" y2=\"219.402\" style=\"stroke:#000000; stroke-opacity:1\"/>\n",
       "<line clip-path=\"url(#clip3902)\" x1=\"598.703\" y1=\"184.063\" x2=\"592.703\" y2=\"184.063\" style=\"stroke:#000000; stroke-opacity:1\"/>\n",
       "<line clip-path=\"url(#clip3902)\" x1=\"606.616\" y1=\"250.924\" x2=\"600.616\" y2=\"250.924\" style=\"stroke:#000000; stroke-opacity:1\"/>\n",
       "<line clip-path=\"url(#clip3902)\" x1=\"606.616\" y1=\"215.393\" x2=\"600.616\" y2=\"215.393\" style=\"stroke:#000000; stroke-opacity:1\"/>\n",
       "<line clip-path=\"url(#clip3902)\" x1=\"614.528\" y1=\"273.323\" x2=\"608.528\" y2=\"273.323\" style=\"stroke:#000000; stroke-opacity:1\"/>\n",
       "<line clip-path=\"url(#clip3902)\" x1=\"614.528\" y1=\"239.382\" x2=\"608.528\" y2=\"239.382\" style=\"stroke:#000000; stroke-opacity:1\"/>\n",
       "<line clip-path=\"url(#clip3902)\" x1=\"622.441\" y1=\"279.825\" x2=\"616.441\" y2=\"279.825\" style=\"stroke:#000000; stroke-opacity:1\"/>\n",
       "<line clip-path=\"url(#clip3902)\" x1=\"622.441\" y1=\"246.523\" x2=\"616.441\" y2=\"246.523\" style=\"stroke:#000000; stroke-opacity:1\"/>\n",
       "<line clip-path=\"url(#clip3902)\" x1=\"630.353\" y1=\"215.998\" x2=\"624.353\" y2=\"215.998\" style=\"stroke:#000000; stroke-opacity:1\"/>\n",
       "<line clip-path=\"url(#clip3902)\" x1=\"630.353\" y1=\"182.807\" x2=\"624.353\" y2=\"182.807\" style=\"stroke:#000000; stroke-opacity:1\"/>\n",
       "<line clip-path=\"url(#clip3902)\" x1=\"638.266\" y1=\"264.874\" x2=\"632.266\" y2=\"264.874\" style=\"stroke:#000000; stroke-opacity:1\"/>\n",
       "<line clip-path=\"url(#clip3902)\" x1=\"638.266\" y1=\"233.172\" x2=\"632.266\" y2=\"233.172\" style=\"stroke:#000000; stroke-opacity:1\"/>\n",
       "<line clip-path=\"url(#clip3902)\" x1=\"646.178\" y1=\"280.987\" x2=\"640.178\" y2=\"280.987\" style=\"stroke:#000000; stroke-opacity:1\"/>\n",
       "<line clip-path=\"url(#clip3902)\" x1=\"646.178\" y1=\"249.621\" x2=\"640.178\" y2=\"249.621\" style=\"stroke:#000000; stroke-opacity:1\"/>\n",
       "<line clip-path=\"url(#clip3902)\" x1=\"654.091\" y1=\"250.09\" x2=\"648.091\" y2=\"250.09\" style=\"stroke:#000000; stroke-opacity:1\"/>\n",
       "<line clip-path=\"url(#clip3902)\" x1=\"654.091\" y1=\"217.65\" x2=\"648.091\" y2=\"217.65\" style=\"stroke:#000000; stroke-opacity:1\"/>\n",
       "<line clip-path=\"url(#clip3902)\" x1=\"662.003\" y1=\"279.108\" x2=\"656.003\" y2=\"279.108\" style=\"stroke:#000000; stroke-opacity:1\"/>\n",
       "<line clip-path=\"url(#clip3902)\" x1=\"662.003\" y1=\"250.256\" x2=\"656.003\" y2=\"250.256\" style=\"stroke:#000000; stroke-opacity:1\"/>\n",
       "<line clip-path=\"url(#clip3902)\" x1=\"669.916\" y1=\"314.267\" x2=\"663.916\" y2=\"314.267\" style=\"stroke:#000000; stroke-opacity:1\"/>\n",
       "<line clip-path=\"url(#clip3902)\" x1=\"669.916\" y1=\"285.131\" x2=\"663.916\" y2=\"285.131\" style=\"stroke:#000000; stroke-opacity:1\"/>\n",
       "<line clip-path=\"url(#clip3902)\" x1=\"677.828\" y1=\"260.477\" x2=\"671.828\" y2=\"260.477\" style=\"stroke:#000000; stroke-opacity:1\"/>\n",
       "<line clip-path=\"url(#clip3902)\" x1=\"677.828\" y1=\"230.726\" x2=\"671.828\" y2=\"230.726\" style=\"stroke:#000000; stroke-opacity:1\"/>\n",
       "<line clip-path=\"url(#clip3902)\" x1=\"685.741\" y1=\"279.707\" x2=\"679.741\" y2=\"279.707\" style=\"stroke:#000000; stroke-opacity:1\"/>\n",
       "<line clip-path=\"url(#clip3902)\" x1=\"685.741\" y1=\"250.89\" x2=\"679.741\" y2=\"250.89\" style=\"stroke:#000000; stroke-opacity:1\"/>\n",
       "<line clip-path=\"url(#clip3902)\" x1=\"693.653\" y1=\"285.554\" x2=\"687.653\" y2=\"285.554\" style=\"stroke:#000000; stroke-opacity:1\"/>\n",
       "<line clip-path=\"url(#clip3902)\" x1=\"693.653\" y1=\"257.065\" x2=\"687.653\" y2=\"257.065\" style=\"stroke:#000000; stroke-opacity:1\"/>\n",
       "<line clip-path=\"url(#clip3902)\" x1=\"701.566\" y1=\"289.926\" x2=\"695.566\" y2=\"289.926\" style=\"stroke:#000000; stroke-opacity:1\"/>\n",
       "<line clip-path=\"url(#clip3902)\" x1=\"701.566\" y1=\"262.127\" x2=\"695.566\" y2=\"262.127\" style=\"stroke:#000000; stroke-opacity:1\"/>\n",
       "<line clip-path=\"url(#clip3902)\" x1=\"709.478\" y1=\"304.156\" x2=\"703.478\" y2=\"304.156\" style=\"stroke:#000000; stroke-opacity:1\"/>\n",
       "<line clip-path=\"url(#clip3902)\" x1=\"709.478\" y1=\"279.623\" x2=\"703.478\" y2=\"279.623\" style=\"stroke:#000000; stroke-opacity:1\"/>\n",
       "<line clip-path=\"url(#clip3902)\" x1=\"717.391\" y1=\"312.118\" x2=\"711.391\" y2=\"312.118\" style=\"stroke:#000000; stroke-opacity:1\"/>\n",
       "<line clip-path=\"url(#clip3902)\" x1=\"717.391\" y1=\"287.164\" x2=\"711.391\" y2=\"287.164\" style=\"stroke:#000000; stroke-opacity:1\"/>\n",
       "<line clip-path=\"url(#clip3902)\" x1=\"725.303\" y1=\"307.775\" x2=\"719.303\" y2=\"307.775\" style=\"stroke:#000000; stroke-opacity:1\"/>\n",
       "<line clip-path=\"url(#clip3902)\" x1=\"725.303\" y1=\"284.093\" x2=\"719.303\" y2=\"284.093\" style=\"stroke:#000000; stroke-opacity:1\"/>\n",
       "<line clip-path=\"url(#clip3902)\" x1=\"733.215\" y1=\"317.647\" x2=\"727.215\" y2=\"317.647\" style=\"stroke:#000000; stroke-opacity:1\"/>\n",
       "<line clip-path=\"url(#clip3902)\" x1=\"733.215\" y1=\"293.83\" x2=\"727.215\" y2=\"293.83\" style=\"stroke:#000000; stroke-opacity:1\"/>\n",
       "<line clip-path=\"url(#clip3902)\" x1=\"741.128\" y1=\"307.726\" x2=\"735.128\" y2=\"307.726\" style=\"stroke:#000000; stroke-opacity:1\"/>\n",
       "<line clip-path=\"url(#clip3902)\" x1=\"741.128\" y1=\"283.024\" x2=\"735.128\" y2=\"283.024\" style=\"stroke:#000000; stroke-opacity:1\"/>\n",
       "<line clip-path=\"url(#clip3902)\" x1=\"749.04\" y1=\"305.879\" x2=\"743.04\" y2=\"305.879\" style=\"stroke:#000000; stroke-opacity:1\"/>\n",
       "<line clip-path=\"url(#clip3902)\" x1=\"749.04\" y1=\"282.651\" x2=\"743.04\" y2=\"282.651\" style=\"stroke:#000000; stroke-opacity:1\"/>\n",
       "<line clip-path=\"url(#clip3902)\" x1=\"756.953\" y1=\"328.355\" x2=\"750.953\" y2=\"328.355\" style=\"stroke:#000000; stroke-opacity:1\"/>\n",
       "<line clip-path=\"url(#clip3902)\" x1=\"756.953\" y1=\"306.055\" x2=\"750.953\" y2=\"306.055\" style=\"stroke:#000000; stroke-opacity:1\"/>\n",
       "<line clip-path=\"url(#clip3902)\" x1=\"764.865\" y1=\"341.388\" x2=\"758.865\" y2=\"341.388\" style=\"stroke:#000000; stroke-opacity:1\"/>\n",
       "<line clip-path=\"url(#clip3902)\" x1=\"764.865\" y1=\"318.395\" x2=\"758.865\" y2=\"318.395\" style=\"stroke:#000000; stroke-opacity:1\"/>\n",
       "<line clip-path=\"url(#clip3902)\" x1=\"772.778\" y1=\"314.237\" x2=\"766.778\" y2=\"314.237\" style=\"stroke:#000000; stroke-opacity:1\"/>\n",
       "<line clip-path=\"url(#clip3902)\" x1=\"772.778\" y1=\"291.35\" x2=\"766.778\" y2=\"291.35\" style=\"stroke:#000000; stroke-opacity:1\"/>\n",
       "<line clip-path=\"url(#clip3902)\" x1=\"780.69\" y1=\"315.704\" x2=\"774.69\" y2=\"315.704\" style=\"stroke:#000000; stroke-opacity:1\"/>\n",
       "<line clip-path=\"url(#clip3902)\" x1=\"780.69\" y1=\"293.868\" x2=\"774.69\" y2=\"293.868\" style=\"stroke:#000000; stroke-opacity:1\"/>\n",
       "<line clip-path=\"url(#clip3902)\" x1=\"788.603\" y1=\"321.608\" x2=\"782.603\" y2=\"321.608\" style=\"stroke:#000000; stroke-opacity:1\"/>\n",
       "<line clip-path=\"url(#clip3902)\" x1=\"788.603\" y1=\"300.308\" x2=\"782.603\" y2=\"300.308\" style=\"stroke:#000000; stroke-opacity:1\"/>\n",
       "<line clip-path=\"url(#clip3902)\" x1=\"796.515\" y1=\"357.973\" x2=\"790.515\" y2=\"357.973\" style=\"stroke:#000000; stroke-opacity:1\"/>\n",
       "<line clip-path=\"url(#clip3902)\" x1=\"796.515\" y1=\"338.02\" x2=\"790.515\" y2=\"338.02\" style=\"stroke:#000000; stroke-opacity:1\"/>\n",
       "<line clip-path=\"url(#clip3902)\" x1=\"804.428\" y1=\"331.323\" x2=\"798.428\" y2=\"331.323\" style=\"stroke:#000000; stroke-opacity:1\"/>\n",
       "<line clip-path=\"url(#clip3902)\" x1=\"804.428\" y1=\"312.023\" x2=\"798.428\" y2=\"312.023\" style=\"stroke:#000000; stroke-opacity:1\"/>\n",
       "<line clip-path=\"url(#clip3902)\" x1=\"812.34\" y1=\"361.363\" x2=\"806.34\" y2=\"361.363\" style=\"stroke:#000000; stroke-opacity:1\"/>\n",
       "<line clip-path=\"url(#clip3902)\" x1=\"812.34\" y1=\"342.282\" x2=\"806.34\" y2=\"342.282\" style=\"stroke:#000000; stroke-opacity:1\"/>\n",
       "<line clip-path=\"url(#clip3902)\" x1=\"820.253\" y1=\"362.092\" x2=\"814.253\" y2=\"362.092\" style=\"stroke:#000000; stroke-opacity:1\"/>\n",
       "<line clip-path=\"url(#clip3902)\" x1=\"820.253\" y1=\"344.135\" x2=\"814.253\" y2=\"344.135\" style=\"stroke:#000000; stroke-opacity:1\"/>\n",
       "<line clip-path=\"url(#clip3902)\" x1=\"828.165\" y1=\"366.278\" x2=\"822.165\" y2=\"366.278\" style=\"stroke:#000000; stroke-opacity:1\"/>\n",
       "<line clip-path=\"url(#clip3902)\" x1=\"828.165\" y1=\"348.257\" x2=\"822.165\" y2=\"348.257\" style=\"stroke:#000000; stroke-opacity:1\"/>\n",
       "<line clip-path=\"url(#clip3902)\" x1=\"836.078\" y1=\"359.578\" x2=\"830.078\" y2=\"359.578\" style=\"stroke:#000000; stroke-opacity:1\"/>\n",
       "<line clip-path=\"url(#clip3902)\" x1=\"836.078\" y1=\"341.918\" x2=\"830.078\" y2=\"341.918\" style=\"stroke:#000000; stroke-opacity:1\"/>\n",
       "<line clip-path=\"url(#clip3902)\" x1=\"843.99\" y1=\"359.692\" x2=\"837.99\" y2=\"359.692\" style=\"stroke:#000000; stroke-opacity:1\"/>\n",
       "<line clip-path=\"url(#clip3902)\" x1=\"843.99\" y1=\"342.804\" x2=\"837.99\" y2=\"342.804\" style=\"stroke:#000000; stroke-opacity:1\"/>\n",
       "<line clip-path=\"url(#clip3902)\" x1=\"851.902\" y1=\"383.848\" x2=\"845.902\" y2=\"383.848\" style=\"stroke:#000000; stroke-opacity:1\"/>\n",
       "<line clip-path=\"url(#clip3902)\" x1=\"851.902\" y1=\"367.91\" x2=\"845.902\" y2=\"367.91\" style=\"stroke:#000000; stroke-opacity:1\"/>\n",
       "<line clip-path=\"url(#clip3902)\" x1=\"859.815\" y1=\"392.763\" x2=\"853.815\" y2=\"392.763\" style=\"stroke:#000000; stroke-opacity:1\"/>\n",
       "<line clip-path=\"url(#clip3902)\" x1=\"859.815\" y1=\"377.169\" x2=\"853.815\" y2=\"377.169\" style=\"stroke:#000000; stroke-opacity:1\"/>\n",
       "</svg>\n"
      ]
     },
     "execution_count": 179,
     "metadata": {
      "comm_id": "5f72dcf8-eaa4-4f26-8525-193c602dc8d2",
      "reactive": true
     },
     "output_type": "execute_result"
    }
   ],
   "source": [
    "create_interactive_plot_vs_mass(\n",
    "    (tprimei, wavei)->real.(all_SDMs[tprimei,:,wavei,wavei]),\n",
    "    (tprimei, wavei)->real.(all_SDMes[tprimei,:,wavei,wavei]),\n",
    "    \"Diagonal Spin-Density Matrix elements\"; fixed_range=(0.0,2e5))"
   ]
  },
  {
   "cell_type": "code",
   "execution_count": 181,
   "metadata": {},
   "outputs": [
    {
     "data": {
      "text/html": [],
      "text/plain": [
       "Interact.Options{:ToggleButtons,Any}(423: \"input-163\" = 1 Any , \"wavei\", 1, \"flat\", 1, Interact.OptionDict(DataStructures.OrderedDict{String,Any}(\"flat\"=>1,\"(1++)0+rho S\"=>2,\"(0-+)0+(pipi)_S S\"=>3,\"(0-+)0+f0(980) S\"=>4,\"(0-+)0+rho P\"=>5,\"(0-+)0+f0(1500) S\"=>6,\"(0-+)0+f2 D\"=>7,\"(1++)1+rho S\"=>8,\"(1++)0+rho D\"=>9,\"(1++)1+rho D\"=>10…), Dict{Any,String}(Pair{Any,String}(68, \"(5++)0+rho3 D\"),Pair{Any,String}(2, \"(1++)0+rho S\"),Pair{Any,String}(11, \"(1++)0+(pipi)_S P\"),Pair{Any,String}(39, \"(2-+)1+rho3 P\"),Pair{Any,String}(46, \"(3++)1+rho D\"),Pair{Any,String}(85, \"(2++)0-rho D\"),Pair{Any,String}(25, \"(2++)1+rho3 D\"),Pair{Any,String}(55, \"(3++)1+(pipi)_S F\"),Pair{Any,String}(42, \"(2-+)0+f0(980) D\"),Pair{Any,String}(29, \"(2-+)0+f2 D\")…)), Any[], Any[], true, \"horizontal\", true)"
      ]
     },
     "metadata": {},
     "output_type": "display_data"
    },
    {
     "data": {
      "text/html": [],
      "text/plain": [
       "Interact.Options{:SelectionSlider,Int64}(425: \"input-164\" = 6 Int64 , \"tprimei\", 6, \"6\", 6, Interact.OptionDict(DataStructures.OrderedDict(\"1\"=>1,\"2\"=>2,\"3\"=>3,\"4\"=>4,\"5\"=>5,\"6\"=>6,\"7\"=>7,\"8\"=>8,\"9\"=>9,\"10\"=>10…), Dict(2=>\"2\",11=>\"11\",7=>\"7\",9=>\"9\",10=>\"10\",8=>\"8\",6=>\"6\",4=>\"4\",3=>\"3\",5=>\"5\"…)), Any[], Any[], true, \"horizontal\", true)"
      ]
     },
     "metadata": {},
     "output_type": "display_data"
    },
    {
     "data": {
      "text/html": [],
      "text/plain": [
       "Interact.Options{:ToggleButtons,Any}(427: \"input-165\" = auto Any , \"scale\", :auto, \"auto\", 1, Interact.OptionDict(DataStructures.OrderedDict{String,Any}(\"auto\"=>:auto,\"fixed\"=>(-180.0, 180.0)), Dict{Any,String}(Pair{Any,String}((-180.0, 180.0), \"fixed\"),Pair{Any,String}(:auto, \"auto\"))), Any[], Any[], true, \"horizontal\", true)"
      ]
     },
     "metadata": {},
     "output_type": "display_data"
    },
    {
     "data": {
      "image/svg+xml": [
       "<?xml version=\"1.0\" encoding=\"utf-8\"?>\n",
       "<svg xmlns=\"http://www.w3.org/2000/svg\" xmlns:xlink=\"http://www.w3.org/1999/xlink\" width=\"900\" height=\"500\" viewBox=\"0 0 900 500\">\n",
       "<defs>\n",
       "  <clipPath id=\"clip00\">\n",
       "    <rect x=\"0\" y=\"0\" width=\"900\" height=\"500\"/>\n",
       "  </clipPath>\n",
       "</defs>\n",
       "<polygon clip-path=\"url(#clip9700)\" points=\"\n",
       "0,500 900,500 900,0 0,0 \n",
       "  \" fill=\"#ffffff\" fill-opacity=\"1\"/>\n",
       "<defs>\n",
       "  <clipPath id=\"clip01\">\n",
       "    <rect x=\"180\" y=\"0\" width=\"631\" height=\"500\"/>\n",
       "  </clipPath>\n",
       "</defs>\n",
       "<polygon clip-path=\"url(#clip9700)\" points=\"\n",
       "46.6858,461.472 880.315,461.472 880.315,31.4961 46.6858,31.4961 \n",
       "  \" fill=\"#ffffff\" fill-opacity=\"1\"/>\n",
       "<defs>\n",
       "  <clipPath id=\"clip02\">\n",
       "    <rect x=\"46\" y=\"31\" width=\"835\" height=\"431\"/>\n",
       "  </clipPath>\n",
       "</defs>\n",
       "<polyline clip-path=\"url(#clip9702)\" style=\"stroke:#000000; stroke-width:0.5; stroke-opacity:0.1; fill:none\" points=\"\n",
       "  66.3071,461.472 66.3071,31.4961 \n",
       "  \"/>\n",
       "<polyline clip-path=\"url(#clip9702)\" style=\"stroke:#000000; stroke-width:0.5; stroke-opacity:0.1; fill:none\" points=\"\n",
       "  264.904,461.472 264.904,31.4961 \n",
       "  \"/>\n",
       "<polyline clip-path=\"url(#clip9702)\" style=\"stroke:#000000; stroke-width:0.5; stroke-opacity:0.1; fill:none\" points=\"\n",
       "  463.5,461.472 463.5,31.4961 \n",
       "  \"/>\n",
       "<polyline clip-path=\"url(#clip9702)\" style=\"stroke:#000000; stroke-width:0.5; stroke-opacity:0.1; fill:none\" points=\"\n",
       "  662.097,461.472 662.097,31.4961 \n",
       "  \"/>\n",
       "<polyline clip-path=\"url(#clip9702)\" style=\"stroke:#000000; stroke-width:0.5; stroke-opacity:0.1; fill:none\" points=\"\n",
       "  860.694,461.472 860.694,31.4961 \n",
       "  \"/>\n",
       "<polyline clip-path=\"url(#clip9702)\" style=\"stroke:#000000; stroke-width:0.5; stroke-opacity:0.1; fill:none\" points=\"\n",
       "  46.6858,449.303 880.315,449.303 \n",
       "  \"/>\n",
       "<polyline clip-path=\"url(#clip9702)\" style=\"stroke:#000000; stroke-width:0.5; stroke-opacity:0.1; fill:none\" points=\"\n",
       "  46.6858,347.893 880.315,347.893 \n",
       "  \"/>\n",
       "<polyline clip-path=\"url(#clip9702)\" style=\"stroke:#000000; stroke-width:0.5; stroke-opacity:0.1; fill:none\" points=\"\n",
       "  46.6858,246.484 880.315,246.484 \n",
       "  \"/>\n",
       "<polyline clip-path=\"url(#clip9702)\" style=\"stroke:#000000; stroke-width:0.5; stroke-opacity:0.1; fill:none\" points=\"\n",
       "  46.6858,145.075 880.315,145.075 \n",
       "  \"/>\n",
       "<polyline clip-path=\"url(#clip9702)\" style=\"stroke:#000000; stroke-width:0.5; stroke-opacity:0.1; fill:none\" points=\"\n",
       "  46.6858,43.6652 880.315,43.6652 \n",
       "  \"/>\n",
       "<polyline clip-path=\"url(#clip9700)\" style=\"stroke:#000000; stroke-width:1; stroke-opacity:1; fill:none\" points=\"\n",
       "  46.6858,461.472 880.315,461.472 \n",
       "  \"/>\n",
       "<polyline clip-path=\"url(#clip9700)\" style=\"stroke:#000000; stroke-width:1; stroke-opacity:1; fill:none\" points=\"\n",
       "  46.6858,461.472 46.6858,31.4961 \n",
       "  \"/>\n",
       "<polyline clip-path=\"url(#clip9700)\" style=\"stroke:#000000; stroke-width:1; stroke-opacity:1; fill:none\" points=\"\n",
       "  66.3071,461.472 66.3071,455.022 \n",
       "  \"/>\n",
       "<polyline clip-path=\"url(#clip9700)\" style=\"stroke:#000000; stroke-width:1; stroke-opacity:1; fill:none\" points=\"\n",
       "  264.904,461.472 264.904,455.022 \n",
       "  \"/>\n",
       "<polyline clip-path=\"url(#clip9700)\" style=\"stroke:#000000; stroke-width:1; stroke-opacity:1; fill:none\" points=\"\n",
       "  463.5,461.472 463.5,455.022 \n",
       "  \"/>\n",
       "<polyline clip-path=\"url(#clip9700)\" style=\"stroke:#000000; stroke-width:1; stroke-opacity:1; fill:none\" points=\"\n",
       "  662.097,461.472 662.097,455.022 \n",
       "  \"/>\n",
       "<polyline clip-path=\"url(#clip9700)\" style=\"stroke:#000000; stroke-width:1; stroke-opacity:1; fill:none\" points=\"\n",
       "  860.694,461.472 860.694,455.022 \n",
       "  \"/>\n",
       "<polyline clip-path=\"url(#clip9700)\" style=\"stroke:#000000; stroke-width:1; stroke-opacity:1; fill:none\" points=\"\n",
       "  46.6858,449.303 59.1902,449.303 \n",
       "  \"/>\n",
       "<polyline clip-path=\"url(#clip9700)\" style=\"stroke:#000000; stroke-width:1; stroke-opacity:1; fill:none\" points=\"\n",
       "  46.6858,347.893 59.1902,347.893 \n",
       "  \"/>\n",
       "<polyline clip-path=\"url(#clip9700)\" style=\"stroke:#000000; stroke-width:1; stroke-opacity:1; fill:none\" points=\"\n",
       "  46.6858,246.484 59.1902,246.484 \n",
       "  \"/>\n",
       "<polyline clip-path=\"url(#clip9700)\" style=\"stroke:#000000; stroke-width:1; stroke-opacity:1; fill:none\" points=\"\n",
       "  46.6858,145.075 59.1902,145.075 \n",
       "  \"/>\n",
       "<polyline clip-path=\"url(#clip9700)\" style=\"stroke:#000000; stroke-width:1; stroke-opacity:1; fill:none\" points=\"\n",
       "  46.6858,43.6652 59.1902,43.6652 \n",
       "  \"/>\n",
       "<g clip-path=\"url(#clip9700)\">\n",
       "<text style=\"fill:#000000; fill-opacity:1; font-family:Arial,Helvetica Neue,Helvetica,sans-serif; font-size:12; text-anchor:middle;\" transform=\"rotate(0, 66.3071, 476.772)\" x=\"66.3071\" y=\"476.772\">0.5</text>\n",
       "</g>\n",
       "<g clip-path=\"url(#clip9700)\">\n",
       "<text style=\"fill:#000000; fill-opacity:1; font-family:Arial,Helvetica Neue,Helvetica,sans-serif; font-size:12; text-anchor:middle;\" transform=\"rotate(0, 264.904, 476.772)\" x=\"264.904\" y=\"476.772\">1.0</text>\n",
       "</g>\n",
       "<g clip-path=\"url(#clip9700)\">\n",
       "<text style=\"fill:#000000; fill-opacity:1; font-family:Arial,Helvetica Neue,Helvetica,sans-serif; font-size:12; text-anchor:middle;\" transform=\"rotate(0, 463.5, 476.772)\" x=\"463.5\" y=\"476.772\">1.5</text>\n",
       "</g>\n",
       "<g clip-path=\"url(#clip9700)\">\n",
       "<text style=\"fill:#000000; fill-opacity:1; font-family:Arial,Helvetica Neue,Helvetica,sans-serif; font-size:12; text-anchor:middle;\" transform=\"rotate(0, 662.097, 476.772)\" x=\"662.097\" y=\"476.772\">2.0</text>\n",
       "</g>\n",
       "<g clip-path=\"url(#clip9700)\">\n",
       "<text style=\"fill:#000000; fill-opacity:1; font-family:Arial,Helvetica Neue,Helvetica,sans-serif; font-size:12; text-anchor:middle;\" transform=\"rotate(0, 860.694, 476.772)\" x=\"860.694\" y=\"476.772\">2.5</text>\n",
       "</g>\n",
       "<g clip-path=\"url(#clip9700)\">\n",
       "<text style=\"fill:#000000; fill-opacity:1; font-family:Arial,Helvetica Neue,Helvetica,sans-serif; font-size:12; text-anchor:end;\" transform=\"rotate(0, 37.6858, 453.803)\" x=\"37.6858\" y=\"453.803\">0.00</text>\n",
       "</g>\n",
       "<g clip-path=\"url(#clip9700)\">\n",
       "<text style=\"fill:#000000; fill-opacity:1; font-family:Arial,Helvetica Neue,Helvetica,sans-serif; font-size:12; text-anchor:end;\" transform=\"rotate(0, 37.6858, 352.393)\" x=\"37.6858\" y=\"352.393\">0.25</text>\n",
       "</g>\n",
       "<g clip-path=\"url(#clip9700)\">\n",
       "<text style=\"fill:#000000; fill-opacity:1; font-family:Arial,Helvetica Neue,Helvetica,sans-serif; font-size:12; text-anchor:end;\" transform=\"rotate(0, 37.6858, 250.984)\" x=\"37.6858\" y=\"250.984\">0.50</text>\n",
       "</g>\n",
       "<g clip-path=\"url(#clip9700)\">\n",
       "<text style=\"fill:#000000; fill-opacity:1; font-family:Arial,Helvetica Neue,Helvetica,sans-serif; font-size:12; text-anchor:end;\" transform=\"rotate(0, 37.6858, 149.575)\" x=\"37.6858\" y=\"149.575\">0.75</text>\n",
       "</g>\n",
       "<g clip-path=\"url(#clip9700)\">\n",
       "<text style=\"fill:#000000; fill-opacity:1; font-family:Arial,Helvetica Neue,Helvetica,sans-serif; font-size:12; text-anchor:end;\" transform=\"rotate(0, 37.6858, 48.1652)\" x=\"37.6858\" y=\"48.1652\">1.00</text>\n",
       "</g>\n",
       "<g clip-path=\"url(#clip9700)\">\n",
       "<text style=\"fill:#000000; fill-opacity:1; font-family:Arial,Helvetica Neue,Helvetica,sans-serif; font-size:21; text-anchor:middle;\" transform=\"rotate(0, 463.5, 18)\" x=\"463.5\" y=\"18\">interference of the `(1++)0+rho S` with other waves</text>\n",
       "</g>\n",
       "<g clip-path=\"url(#clip9700)\">\n",
       "<text style=\"fill:#000000; fill-opacity:1; font-family:Arial,Helvetica Neue,Helvetica,sans-serif; font-size:16; text-anchor:middle;\" transform=\"rotate(0, 463.5, 497.6)\" x=\"463.5\" y=\"497.6\">M3pi (GeV)</text>\n",
       "</g>\n",
       "<polyline clip-path=\"url(#clip9702)\" style=\"stroke:#000000; stroke-width:1; stroke-opacity:0; fill:none\" points=\"\n",
       "  70.279,449.303 78.2229,449.303 86.1668,449.303 94.1106,449.303 102.054,449.303 109.998,449.303 117.942,449.303 125.886,449.303 133.83,449.303 141.774,449.303 \n",
       "  149.718,449.303 157.662,449.303 165.605,449.303 173.549,449.303 181.493,449.303 189.437,449.303 197.381,449.303 205.325,449.303 213.269,449.303 221.212,449.303 \n",
       "  229.156,449.303 237.1,449.303 245.044,449.303 252.988,449.303 260.932,449.303 268.876,449.303 276.82,449.303 284.763,449.303 292.707,449.303 300.651,449.303 \n",
       "  308.595,449.303 316.539,449.303 324.483,449.303 332.427,449.303 340.37,449.303 348.314,449.303 356.258,449.303 364.202,449.303 372.146,449.303 380.09,449.303 \n",
       "  388.034,449.303 395.978,449.303 403.921,449.303 411.865,449.303 419.809,449.303 427.753,449.303 435.697,449.303 443.641,449.303 451.585,449.303 459.528,449.303 \n",
       "  467.472,449.303 475.416,449.303 483.36,449.303 491.304,449.303 499.248,449.303 507.192,449.303 515.135,449.303 523.079,449.303 531.023,449.303 538.967,449.303 \n",
       "  546.911,449.303 554.855,449.303 562.799,449.303 570.743,449.303 578.686,449.303 586.63,449.303 594.574,449.303 602.518,449.303 610.462,449.303 618.406,449.303 \n",
       "  626.35,449.303 634.293,449.303 642.237,449.303 650.181,449.303 658.125,449.303 666.069,449.303 674.013,449.303 681.957,449.303 689.901,449.303 697.844,449.303 \n",
       "  705.788,449.303 713.732,449.303 721.676,449.303 729.62,449.303 737.564,449.303 745.508,449.303 753.451,449.303 761.395,449.303 769.339,449.303 777.283,449.303 \n",
       "  785.227,449.303 793.171,449.303 801.115,449.303 809.058,449.303 817.002,449.303 824.946,449.303 832.89,449.303 840.834,449.303 848.778,449.303 856.722,449.303 \n",
       "  \n",
       "  \"/>\n",
       "<circle clip-path=\"url(#clip9702)\" style=\"fill:#000000; stroke:none; fill-opacity:1\" cx=\"70.279\" cy=\"449.303\" r=\"2\"/>\n",
       "<circle clip-path=\"url(#clip9702)\" style=\"fill:#009af9; stroke:none; fill-opacity:1\" cx=\"70.279\" cy=\"449.303\" r=\"1\"/>\n",
       "<circle clip-path=\"url(#clip9702)\" style=\"fill:#000000; stroke:none; fill-opacity:1\" cx=\"78.2229\" cy=\"449.303\" r=\"2\"/>\n",
       "<circle clip-path=\"url(#clip9702)\" style=\"fill:#009af9; stroke:none; fill-opacity:1\" cx=\"78.2229\" cy=\"449.303\" r=\"1\"/>\n",
       "<circle clip-path=\"url(#clip9702)\" style=\"fill:#000000; stroke:none; fill-opacity:1\" cx=\"86.1668\" cy=\"449.303\" r=\"2\"/>\n",
       "<circle clip-path=\"url(#clip9702)\" style=\"fill:#009af9; stroke:none; fill-opacity:1\" cx=\"86.1668\" cy=\"449.303\" r=\"1\"/>\n",
       "<circle clip-path=\"url(#clip9702)\" style=\"fill:#000000; stroke:none; fill-opacity:1\" cx=\"94.1106\" cy=\"449.303\" r=\"2\"/>\n",
       "<circle clip-path=\"url(#clip9702)\" style=\"fill:#009af9; stroke:none; fill-opacity:1\" cx=\"94.1106\" cy=\"449.303\" r=\"1\"/>\n",
       "<circle clip-path=\"url(#clip9702)\" style=\"fill:#000000; stroke:none; fill-opacity:1\" cx=\"102.054\" cy=\"449.303\" r=\"2\"/>\n",
       "<circle clip-path=\"url(#clip9702)\" style=\"fill:#009af9; stroke:none; fill-opacity:1\" cx=\"102.054\" cy=\"449.303\" r=\"1\"/>\n",
       "<circle clip-path=\"url(#clip9702)\" style=\"fill:#000000; stroke:none; fill-opacity:1\" cx=\"109.998\" cy=\"449.303\" r=\"2\"/>\n",
       "<circle clip-path=\"url(#clip9702)\" style=\"fill:#009af9; stroke:none; fill-opacity:1\" cx=\"109.998\" cy=\"449.303\" r=\"1\"/>\n",
       "<circle clip-path=\"url(#clip9702)\" style=\"fill:#000000; stroke:none; fill-opacity:1\" cx=\"117.942\" cy=\"449.303\" r=\"2\"/>\n",
       "<circle clip-path=\"url(#clip9702)\" style=\"fill:#009af9; stroke:none; fill-opacity:1\" cx=\"117.942\" cy=\"449.303\" r=\"1\"/>\n",
       "<circle clip-path=\"url(#clip9702)\" style=\"fill:#000000; stroke:none; fill-opacity:1\" cx=\"125.886\" cy=\"449.303\" r=\"2\"/>\n",
       "<circle clip-path=\"url(#clip9702)\" style=\"fill:#009af9; stroke:none; fill-opacity:1\" cx=\"125.886\" cy=\"449.303\" r=\"1\"/>\n",
       "<circle clip-path=\"url(#clip9702)\" style=\"fill:#000000; stroke:none; fill-opacity:1\" cx=\"133.83\" cy=\"449.303\" r=\"2\"/>\n",
       "<circle clip-path=\"url(#clip9702)\" style=\"fill:#009af9; stroke:none; fill-opacity:1\" cx=\"133.83\" cy=\"449.303\" r=\"1\"/>\n",
       "<circle clip-path=\"url(#clip9702)\" style=\"fill:#000000; stroke:none; fill-opacity:1\" cx=\"141.774\" cy=\"449.303\" r=\"2\"/>\n",
       "<circle clip-path=\"url(#clip9702)\" style=\"fill:#009af9; stroke:none; fill-opacity:1\" cx=\"141.774\" cy=\"449.303\" r=\"1\"/>\n",
       "<circle clip-path=\"url(#clip9702)\" style=\"fill:#000000; stroke:none; fill-opacity:1\" cx=\"149.718\" cy=\"449.303\" r=\"2\"/>\n",
       "<circle clip-path=\"url(#clip9702)\" style=\"fill:#009af9; stroke:none; fill-opacity:1\" cx=\"149.718\" cy=\"449.303\" r=\"1\"/>\n",
       "<circle clip-path=\"url(#clip9702)\" style=\"fill:#000000; stroke:none; fill-opacity:1\" cx=\"157.662\" cy=\"449.303\" r=\"2\"/>\n",
       "<circle clip-path=\"url(#clip9702)\" style=\"fill:#009af9; stroke:none; fill-opacity:1\" cx=\"157.662\" cy=\"449.303\" r=\"1\"/>\n",
       "<circle clip-path=\"url(#clip9702)\" style=\"fill:#000000; stroke:none; fill-opacity:1\" cx=\"165.605\" cy=\"449.303\" r=\"2\"/>\n",
       "<circle clip-path=\"url(#clip9702)\" style=\"fill:#009af9; stroke:none; fill-opacity:1\" cx=\"165.605\" cy=\"449.303\" r=\"1\"/>\n",
       "<circle clip-path=\"url(#clip9702)\" style=\"fill:#000000; stroke:none; fill-opacity:1\" cx=\"173.549\" cy=\"449.303\" r=\"2\"/>\n",
       "<circle clip-path=\"url(#clip9702)\" style=\"fill:#009af9; stroke:none; fill-opacity:1\" cx=\"173.549\" cy=\"449.303\" r=\"1\"/>\n",
       "<circle clip-path=\"url(#clip9702)\" style=\"fill:#000000; stroke:none; fill-opacity:1\" cx=\"181.493\" cy=\"449.303\" r=\"2\"/>\n",
       "<circle clip-path=\"url(#clip9702)\" style=\"fill:#009af9; stroke:none; fill-opacity:1\" cx=\"181.493\" cy=\"449.303\" r=\"1\"/>\n",
       "<circle clip-path=\"url(#clip9702)\" style=\"fill:#000000; stroke:none; fill-opacity:1\" cx=\"189.437\" cy=\"449.303\" r=\"2\"/>\n",
       "<circle clip-path=\"url(#clip9702)\" style=\"fill:#009af9; stroke:none; fill-opacity:1\" cx=\"189.437\" cy=\"449.303\" r=\"1\"/>\n",
       "<circle clip-path=\"url(#clip9702)\" style=\"fill:#000000; stroke:none; fill-opacity:1\" cx=\"197.381\" cy=\"449.303\" r=\"2\"/>\n",
       "<circle clip-path=\"url(#clip9702)\" style=\"fill:#009af9; stroke:none; fill-opacity:1\" cx=\"197.381\" cy=\"449.303\" r=\"1\"/>\n",
       "<circle clip-path=\"url(#clip9702)\" style=\"fill:#000000; stroke:none; fill-opacity:1\" cx=\"205.325\" cy=\"449.303\" r=\"2\"/>\n",
       "<circle clip-path=\"url(#clip9702)\" style=\"fill:#009af9; stroke:none; fill-opacity:1\" cx=\"205.325\" cy=\"449.303\" r=\"1\"/>\n",
       "<circle clip-path=\"url(#clip9702)\" style=\"fill:#000000; stroke:none; fill-opacity:1\" cx=\"213.269\" cy=\"449.303\" r=\"2\"/>\n",
       "<circle clip-path=\"url(#clip9702)\" style=\"fill:#009af9; stroke:none; fill-opacity:1\" cx=\"213.269\" cy=\"449.303\" r=\"1\"/>\n",
       "<circle clip-path=\"url(#clip9702)\" style=\"fill:#000000; stroke:none; fill-opacity:1\" cx=\"221.212\" cy=\"449.303\" r=\"2\"/>\n",
       "<circle clip-path=\"url(#clip9702)\" style=\"fill:#009af9; stroke:none; fill-opacity:1\" cx=\"221.212\" cy=\"449.303\" r=\"1\"/>\n",
       "<circle clip-path=\"url(#clip9702)\" style=\"fill:#000000; stroke:none; fill-opacity:1\" cx=\"229.156\" cy=\"449.303\" r=\"2\"/>\n",
       "<circle clip-path=\"url(#clip9702)\" style=\"fill:#009af9; stroke:none; fill-opacity:1\" cx=\"229.156\" cy=\"449.303\" r=\"1\"/>\n",
       "<circle clip-path=\"url(#clip9702)\" style=\"fill:#000000; stroke:none; fill-opacity:1\" cx=\"237.1\" cy=\"449.303\" r=\"2\"/>\n",
       "<circle clip-path=\"url(#clip9702)\" style=\"fill:#009af9; stroke:none; fill-opacity:1\" cx=\"237.1\" cy=\"449.303\" r=\"1\"/>\n",
       "<circle clip-path=\"url(#clip9702)\" style=\"fill:#000000; stroke:none; fill-opacity:1\" cx=\"245.044\" cy=\"449.303\" r=\"2\"/>\n",
       "<circle clip-path=\"url(#clip9702)\" style=\"fill:#009af9; stroke:none; fill-opacity:1\" cx=\"245.044\" cy=\"449.303\" r=\"1\"/>\n",
       "<circle clip-path=\"url(#clip9702)\" style=\"fill:#000000; stroke:none; fill-opacity:1\" cx=\"252.988\" cy=\"449.303\" r=\"2\"/>\n",
       "<circle clip-path=\"url(#clip9702)\" style=\"fill:#009af9; stroke:none; fill-opacity:1\" cx=\"252.988\" cy=\"449.303\" r=\"1\"/>\n",
       "<circle clip-path=\"url(#clip9702)\" style=\"fill:#000000; stroke:none; fill-opacity:1\" cx=\"260.932\" cy=\"449.303\" r=\"2\"/>\n",
       "<circle clip-path=\"url(#clip9702)\" style=\"fill:#009af9; stroke:none; fill-opacity:1\" cx=\"260.932\" cy=\"449.303\" r=\"1\"/>\n",
       "<circle clip-path=\"url(#clip9702)\" style=\"fill:#000000; stroke:none; fill-opacity:1\" cx=\"268.876\" cy=\"449.303\" r=\"2\"/>\n",
       "<circle clip-path=\"url(#clip9702)\" style=\"fill:#009af9; stroke:none; fill-opacity:1\" cx=\"268.876\" cy=\"449.303\" r=\"1\"/>\n",
       "<circle clip-path=\"url(#clip9702)\" style=\"fill:#000000; stroke:none; fill-opacity:1\" cx=\"276.82\" cy=\"449.303\" r=\"2\"/>\n",
       "<circle clip-path=\"url(#clip9702)\" style=\"fill:#009af9; stroke:none; fill-opacity:1\" cx=\"276.82\" cy=\"449.303\" r=\"1\"/>\n",
       "<circle clip-path=\"url(#clip9702)\" style=\"fill:#000000; stroke:none; fill-opacity:1\" cx=\"284.763\" cy=\"449.303\" r=\"2\"/>\n",
       "<circle clip-path=\"url(#clip9702)\" style=\"fill:#009af9; stroke:none; fill-opacity:1\" cx=\"284.763\" cy=\"449.303\" r=\"1\"/>\n",
       "<circle clip-path=\"url(#clip9702)\" style=\"fill:#000000; stroke:none; fill-opacity:1\" cx=\"292.707\" cy=\"449.303\" r=\"2\"/>\n",
       "<circle clip-path=\"url(#clip9702)\" style=\"fill:#009af9; stroke:none; fill-opacity:1\" cx=\"292.707\" cy=\"449.303\" r=\"1\"/>\n",
       "<circle clip-path=\"url(#clip9702)\" style=\"fill:#000000; stroke:none; fill-opacity:1\" cx=\"300.651\" cy=\"449.303\" r=\"2\"/>\n",
       "<circle clip-path=\"url(#clip9702)\" style=\"fill:#009af9; stroke:none; fill-opacity:1\" cx=\"300.651\" cy=\"449.303\" r=\"1\"/>\n",
       "<circle clip-path=\"url(#clip9702)\" style=\"fill:#000000; stroke:none; fill-opacity:1\" cx=\"308.595\" cy=\"449.303\" r=\"2\"/>\n",
       "<circle clip-path=\"url(#clip9702)\" style=\"fill:#009af9; stroke:none; fill-opacity:1\" cx=\"308.595\" cy=\"449.303\" r=\"1\"/>\n",
       "<circle clip-path=\"url(#clip9702)\" style=\"fill:#000000; stroke:none; fill-opacity:1\" cx=\"316.539\" cy=\"449.303\" r=\"2\"/>\n",
       "<circle clip-path=\"url(#clip9702)\" style=\"fill:#009af9; stroke:none; fill-opacity:1\" cx=\"316.539\" cy=\"449.303\" r=\"1\"/>\n",
       "<circle clip-path=\"url(#clip9702)\" style=\"fill:#000000; stroke:none; fill-opacity:1\" cx=\"324.483\" cy=\"449.303\" r=\"2\"/>\n",
       "<circle clip-path=\"url(#clip9702)\" style=\"fill:#009af9; stroke:none; fill-opacity:1\" cx=\"324.483\" cy=\"449.303\" r=\"1\"/>\n",
       "<circle clip-path=\"url(#clip9702)\" style=\"fill:#000000; stroke:none; fill-opacity:1\" cx=\"332.427\" cy=\"449.303\" r=\"2\"/>\n",
       "<circle clip-path=\"url(#clip9702)\" style=\"fill:#009af9; stroke:none; fill-opacity:1\" cx=\"332.427\" cy=\"449.303\" r=\"1\"/>\n",
       "<circle clip-path=\"url(#clip9702)\" style=\"fill:#000000; stroke:none; fill-opacity:1\" cx=\"340.37\" cy=\"449.303\" r=\"2\"/>\n",
       "<circle clip-path=\"url(#clip9702)\" style=\"fill:#009af9; stroke:none; fill-opacity:1\" cx=\"340.37\" cy=\"449.303\" r=\"1\"/>\n",
       "<circle clip-path=\"url(#clip9702)\" style=\"fill:#000000; stroke:none; fill-opacity:1\" cx=\"348.314\" cy=\"449.303\" r=\"2\"/>\n",
       "<circle clip-path=\"url(#clip9702)\" style=\"fill:#009af9; stroke:none; fill-opacity:1\" cx=\"348.314\" cy=\"449.303\" r=\"1\"/>\n",
       "<circle clip-path=\"url(#clip9702)\" style=\"fill:#000000; stroke:none; fill-opacity:1\" cx=\"356.258\" cy=\"449.303\" r=\"2\"/>\n",
       "<circle clip-path=\"url(#clip9702)\" style=\"fill:#009af9; stroke:none; fill-opacity:1\" cx=\"356.258\" cy=\"449.303\" r=\"1\"/>\n",
       "<circle clip-path=\"url(#clip9702)\" style=\"fill:#000000; stroke:none; fill-opacity:1\" cx=\"364.202\" cy=\"449.303\" r=\"2\"/>\n",
       "<circle clip-path=\"url(#clip9702)\" style=\"fill:#009af9; stroke:none; fill-opacity:1\" cx=\"364.202\" cy=\"449.303\" r=\"1\"/>\n",
       "<circle clip-path=\"url(#clip9702)\" style=\"fill:#000000; stroke:none; fill-opacity:1\" cx=\"372.146\" cy=\"449.303\" r=\"2\"/>\n",
       "<circle clip-path=\"url(#clip9702)\" style=\"fill:#009af9; stroke:none; fill-opacity:1\" cx=\"372.146\" cy=\"449.303\" r=\"1\"/>\n",
       "<circle clip-path=\"url(#clip9702)\" style=\"fill:#000000; stroke:none; fill-opacity:1\" cx=\"380.09\" cy=\"449.303\" r=\"2\"/>\n",
       "<circle clip-path=\"url(#clip9702)\" style=\"fill:#009af9; stroke:none; fill-opacity:1\" cx=\"380.09\" cy=\"449.303\" r=\"1\"/>\n",
       "<circle clip-path=\"url(#clip9702)\" style=\"fill:#000000; stroke:none; fill-opacity:1\" cx=\"388.034\" cy=\"449.303\" r=\"2\"/>\n",
       "<circle clip-path=\"url(#clip9702)\" style=\"fill:#009af9; stroke:none; fill-opacity:1\" cx=\"388.034\" cy=\"449.303\" r=\"1\"/>\n",
       "<circle clip-path=\"url(#clip9702)\" style=\"fill:#000000; stroke:none; fill-opacity:1\" cx=\"395.978\" cy=\"449.303\" r=\"2\"/>\n",
       "<circle clip-path=\"url(#clip9702)\" style=\"fill:#009af9; stroke:none; fill-opacity:1\" cx=\"395.978\" cy=\"449.303\" r=\"1\"/>\n",
       "<circle clip-path=\"url(#clip9702)\" style=\"fill:#000000; stroke:none; fill-opacity:1\" cx=\"403.921\" cy=\"449.303\" r=\"2\"/>\n",
       "<circle clip-path=\"url(#clip9702)\" style=\"fill:#009af9; stroke:none; fill-opacity:1\" cx=\"403.921\" cy=\"449.303\" r=\"1\"/>\n",
       "<circle clip-path=\"url(#clip9702)\" style=\"fill:#000000; stroke:none; fill-opacity:1\" cx=\"411.865\" cy=\"449.303\" r=\"2\"/>\n",
       "<circle clip-path=\"url(#clip9702)\" style=\"fill:#009af9; stroke:none; fill-opacity:1\" cx=\"411.865\" cy=\"449.303\" r=\"1\"/>\n",
       "<circle clip-path=\"url(#clip9702)\" style=\"fill:#000000; stroke:none; fill-opacity:1\" cx=\"419.809\" cy=\"449.303\" r=\"2\"/>\n",
       "<circle clip-path=\"url(#clip9702)\" style=\"fill:#009af9; stroke:none; fill-opacity:1\" cx=\"419.809\" cy=\"449.303\" r=\"1\"/>\n",
       "<circle clip-path=\"url(#clip9702)\" style=\"fill:#000000; stroke:none; fill-opacity:1\" cx=\"427.753\" cy=\"449.303\" r=\"2\"/>\n",
       "<circle clip-path=\"url(#clip9702)\" style=\"fill:#009af9; stroke:none; fill-opacity:1\" cx=\"427.753\" cy=\"449.303\" r=\"1\"/>\n",
       "<circle clip-path=\"url(#clip9702)\" style=\"fill:#000000; stroke:none; fill-opacity:1\" cx=\"435.697\" cy=\"449.303\" r=\"2\"/>\n",
       "<circle clip-path=\"url(#clip9702)\" style=\"fill:#009af9; stroke:none; fill-opacity:1\" cx=\"435.697\" cy=\"449.303\" r=\"1\"/>\n",
       "<circle clip-path=\"url(#clip9702)\" style=\"fill:#000000; stroke:none; fill-opacity:1\" cx=\"443.641\" cy=\"449.303\" r=\"2\"/>\n",
       "<circle clip-path=\"url(#clip9702)\" style=\"fill:#009af9; stroke:none; fill-opacity:1\" cx=\"443.641\" cy=\"449.303\" r=\"1\"/>\n",
       "<circle clip-path=\"url(#clip9702)\" style=\"fill:#000000; stroke:none; fill-opacity:1\" cx=\"451.585\" cy=\"449.303\" r=\"2\"/>\n",
       "<circle clip-path=\"url(#clip9702)\" style=\"fill:#009af9; stroke:none; fill-opacity:1\" cx=\"451.585\" cy=\"449.303\" r=\"1\"/>\n",
       "<circle clip-path=\"url(#clip9702)\" style=\"fill:#000000; stroke:none; fill-opacity:1\" cx=\"459.528\" cy=\"449.303\" r=\"2\"/>\n",
       "<circle clip-path=\"url(#clip9702)\" style=\"fill:#009af9; stroke:none; fill-opacity:1\" cx=\"459.528\" cy=\"449.303\" r=\"1\"/>\n",
       "<circle clip-path=\"url(#clip9702)\" style=\"fill:#000000; stroke:none; fill-opacity:1\" cx=\"467.472\" cy=\"449.303\" r=\"2\"/>\n",
       "<circle clip-path=\"url(#clip9702)\" style=\"fill:#009af9; stroke:none; fill-opacity:1\" cx=\"467.472\" cy=\"449.303\" r=\"1\"/>\n",
       "<circle clip-path=\"url(#clip9702)\" style=\"fill:#000000; stroke:none; fill-opacity:1\" cx=\"475.416\" cy=\"449.303\" r=\"2\"/>\n",
       "<circle clip-path=\"url(#clip9702)\" style=\"fill:#009af9; stroke:none; fill-opacity:1\" cx=\"475.416\" cy=\"449.303\" r=\"1\"/>\n",
       "<circle clip-path=\"url(#clip9702)\" style=\"fill:#000000; stroke:none; fill-opacity:1\" cx=\"483.36\" cy=\"449.303\" r=\"2\"/>\n",
       "<circle clip-path=\"url(#clip9702)\" style=\"fill:#009af9; stroke:none; fill-opacity:1\" cx=\"483.36\" cy=\"449.303\" r=\"1\"/>\n",
       "<circle clip-path=\"url(#clip9702)\" style=\"fill:#000000; stroke:none; fill-opacity:1\" cx=\"491.304\" cy=\"449.303\" r=\"2\"/>\n",
       "<circle clip-path=\"url(#clip9702)\" style=\"fill:#009af9; stroke:none; fill-opacity:1\" cx=\"491.304\" cy=\"449.303\" r=\"1\"/>\n",
       "<circle clip-path=\"url(#clip9702)\" style=\"fill:#000000; stroke:none; fill-opacity:1\" cx=\"499.248\" cy=\"449.303\" r=\"2\"/>\n",
       "<circle clip-path=\"url(#clip9702)\" style=\"fill:#009af9; stroke:none; fill-opacity:1\" cx=\"499.248\" cy=\"449.303\" r=\"1\"/>\n",
       "<circle clip-path=\"url(#clip9702)\" style=\"fill:#000000; stroke:none; fill-opacity:1\" cx=\"507.192\" cy=\"449.303\" r=\"2\"/>\n",
       "<circle clip-path=\"url(#clip9702)\" style=\"fill:#009af9; stroke:none; fill-opacity:1\" cx=\"507.192\" cy=\"449.303\" r=\"1\"/>\n",
       "<circle clip-path=\"url(#clip9702)\" style=\"fill:#000000; stroke:none; fill-opacity:1\" cx=\"515.135\" cy=\"449.303\" r=\"2\"/>\n",
       "<circle clip-path=\"url(#clip9702)\" style=\"fill:#009af9; stroke:none; fill-opacity:1\" cx=\"515.135\" cy=\"449.303\" r=\"1\"/>\n",
       "<circle clip-path=\"url(#clip9702)\" style=\"fill:#000000; stroke:none; fill-opacity:1\" cx=\"523.079\" cy=\"449.303\" r=\"2\"/>\n",
       "<circle clip-path=\"url(#clip9702)\" style=\"fill:#009af9; stroke:none; fill-opacity:1\" cx=\"523.079\" cy=\"449.303\" r=\"1\"/>\n",
       "<circle clip-path=\"url(#clip9702)\" style=\"fill:#000000; stroke:none; fill-opacity:1\" cx=\"531.023\" cy=\"449.303\" r=\"2\"/>\n",
       "<circle clip-path=\"url(#clip9702)\" style=\"fill:#009af9; stroke:none; fill-opacity:1\" cx=\"531.023\" cy=\"449.303\" r=\"1\"/>\n",
       "<circle clip-path=\"url(#clip9702)\" style=\"fill:#000000; stroke:none; fill-opacity:1\" cx=\"538.967\" cy=\"449.303\" r=\"2\"/>\n",
       "<circle clip-path=\"url(#clip9702)\" style=\"fill:#009af9; stroke:none; fill-opacity:1\" cx=\"538.967\" cy=\"449.303\" r=\"1\"/>\n",
       "<circle clip-path=\"url(#clip9702)\" style=\"fill:#000000; stroke:none; fill-opacity:1\" cx=\"546.911\" cy=\"449.303\" r=\"2\"/>\n",
       "<circle clip-path=\"url(#clip9702)\" style=\"fill:#009af9; stroke:none; fill-opacity:1\" cx=\"546.911\" cy=\"449.303\" r=\"1\"/>\n",
       "<circle clip-path=\"url(#clip9702)\" style=\"fill:#000000; stroke:none; fill-opacity:1\" cx=\"554.855\" cy=\"449.303\" r=\"2\"/>\n",
       "<circle clip-path=\"url(#clip9702)\" style=\"fill:#009af9; stroke:none; fill-opacity:1\" cx=\"554.855\" cy=\"449.303\" r=\"1\"/>\n",
       "<circle clip-path=\"url(#clip9702)\" style=\"fill:#000000; stroke:none; fill-opacity:1\" cx=\"562.799\" cy=\"449.303\" r=\"2\"/>\n",
       "<circle clip-path=\"url(#clip9702)\" style=\"fill:#009af9; stroke:none; fill-opacity:1\" cx=\"562.799\" cy=\"449.303\" r=\"1\"/>\n",
       "<circle clip-path=\"url(#clip9702)\" style=\"fill:#000000; stroke:none; fill-opacity:1\" cx=\"570.743\" cy=\"449.303\" r=\"2\"/>\n",
       "<circle clip-path=\"url(#clip9702)\" style=\"fill:#009af9; stroke:none; fill-opacity:1\" cx=\"570.743\" cy=\"449.303\" r=\"1\"/>\n",
       "<circle clip-path=\"url(#clip9702)\" style=\"fill:#000000; stroke:none; fill-opacity:1\" cx=\"578.686\" cy=\"449.303\" r=\"2\"/>\n",
       "<circle clip-path=\"url(#clip9702)\" style=\"fill:#009af9; stroke:none; fill-opacity:1\" cx=\"578.686\" cy=\"449.303\" r=\"1\"/>\n",
       "<circle clip-path=\"url(#clip9702)\" style=\"fill:#000000; stroke:none; fill-opacity:1\" cx=\"586.63\" cy=\"449.303\" r=\"2\"/>\n",
       "<circle clip-path=\"url(#clip9702)\" style=\"fill:#009af9; stroke:none; fill-opacity:1\" cx=\"586.63\" cy=\"449.303\" r=\"1\"/>\n",
       "<circle clip-path=\"url(#clip9702)\" style=\"fill:#000000; stroke:none; fill-opacity:1\" cx=\"594.574\" cy=\"449.303\" r=\"2\"/>\n",
       "<circle clip-path=\"url(#clip9702)\" style=\"fill:#009af9; stroke:none; fill-opacity:1\" cx=\"594.574\" cy=\"449.303\" r=\"1\"/>\n",
       "<circle clip-path=\"url(#clip9702)\" style=\"fill:#000000; stroke:none; fill-opacity:1\" cx=\"602.518\" cy=\"449.303\" r=\"2\"/>\n",
       "<circle clip-path=\"url(#clip9702)\" style=\"fill:#009af9; stroke:none; fill-opacity:1\" cx=\"602.518\" cy=\"449.303\" r=\"1\"/>\n",
       "<circle clip-path=\"url(#clip9702)\" style=\"fill:#000000; stroke:none; fill-opacity:1\" cx=\"610.462\" cy=\"449.303\" r=\"2\"/>\n",
       "<circle clip-path=\"url(#clip9702)\" style=\"fill:#009af9; stroke:none; fill-opacity:1\" cx=\"610.462\" cy=\"449.303\" r=\"1\"/>\n",
       "<circle clip-path=\"url(#clip9702)\" style=\"fill:#000000; stroke:none; fill-opacity:1\" cx=\"618.406\" cy=\"449.303\" r=\"2\"/>\n",
       "<circle clip-path=\"url(#clip9702)\" style=\"fill:#009af9; stroke:none; fill-opacity:1\" cx=\"618.406\" cy=\"449.303\" r=\"1\"/>\n",
       "<circle clip-path=\"url(#clip9702)\" style=\"fill:#000000; stroke:none; fill-opacity:1\" cx=\"626.35\" cy=\"449.303\" r=\"2\"/>\n",
       "<circle clip-path=\"url(#clip9702)\" style=\"fill:#009af9; stroke:none; fill-opacity:1\" cx=\"626.35\" cy=\"449.303\" r=\"1\"/>\n",
       "<circle clip-path=\"url(#clip9702)\" style=\"fill:#000000; stroke:none; fill-opacity:1\" cx=\"634.293\" cy=\"449.303\" r=\"2\"/>\n",
       "<circle clip-path=\"url(#clip9702)\" style=\"fill:#009af9; stroke:none; fill-opacity:1\" cx=\"634.293\" cy=\"449.303\" r=\"1\"/>\n",
       "<circle clip-path=\"url(#clip9702)\" style=\"fill:#000000; stroke:none; fill-opacity:1\" cx=\"642.237\" cy=\"449.303\" r=\"2\"/>\n",
       "<circle clip-path=\"url(#clip9702)\" style=\"fill:#009af9; stroke:none; fill-opacity:1\" cx=\"642.237\" cy=\"449.303\" r=\"1\"/>\n",
       "<circle clip-path=\"url(#clip9702)\" style=\"fill:#000000; stroke:none; fill-opacity:1\" cx=\"650.181\" cy=\"449.303\" r=\"2\"/>\n",
       "<circle clip-path=\"url(#clip9702)\" style=\"fill:#009af9; stroke:none; fill-opacity:1\" cx=\"650.181\" cy=\"449.303\" r=\"1\"/>\n",
       "<circle clip-path=\"url(#clip9702)\" style=\"fill:#000000; stroke:none; fill-opacity:1\" cx=\"658.125\" cy=\"449.303\" r=\"2\"/>\n",
       "<circle clip-path=\"url(#clip9702)\" style=\"fill:#009af9; stroke:none; fill-opacity:1\" cx=\"658.125\" cy=\"449.303\" r=\"1\"/>\n",
       "<circle clip-path=\"url(#clip9702)\" style=\"fill:#000000; stroke:none; fill-opacity:1\" cx=\"666.069\" cy=\"449.303\" r=\"2\"/>\n",
       "<circle clip-path=\"url(#clip9702)\" style=\"fill:#009af9; stroke:none; fill-opacity:1\" cx=\"666.069\" cy=\"449.303\" r=\"1\"/>\n",
       "<circle clip-path=\"url(#clip9702)\" style=\"fill:#000000; stroke:none; fill-opacity:1\" cx=\"674.013\" cy=\"449.303\" r=\"2\"/>\n",
       "<circle clip-path=\"url(#clip9702)\" style=\"fill:#009af9; stroke:none; fill-opacity:1\" cx=\"674.013\" cy=\"449.303\" r=\"1\"/>\n",
       "<circle clip-path=\"url(#clip9702)\" style=\"fill:#000000; stroke:none; fill-opacity:1\" cx=\"681.957\" cy=\"449.303\" r=\"2\"/>\n",
       "<circle clip-path=\"url(#clip9702)\" style=\"fill:#009af9; stroke:none; fill-opacity:1\" cx=\"681.957\" cy=\"449.303\" r=\"1\"/>\n",
       "<circle clip-path=\"url(#clip9702)\" style=\"fill:#000000; stroke:none; fill-opacity:1\" cx=\"689.901\" cy=\"449.303\" r=\"2\"/>\n",
       "<circle clip-path=\"url(#clip9702)\" style=\"fill:#009af9; stroke:none; fill-opacity:1\" cx=\"689.901\" cy=\"449.303\" r=\"1\"/>\n",
       "<circle clip-path=\"url(#clip9702)\" style=\"fill:#000000; stroke:none; fill-opacity:1\" cx=\"697.844\" cy=\"449.303\" r=\"2\"/>\n",
       "<circle clip-path=\"url(#clip9702)\" style=\"fill:#009af9; stroke:none; fill-opacity:1\" cx=\"697.844\" cy=\"449.303\" r=\"1\"/>\n",
       "<circle clip-path=\"url(#clip9702)\" style=\"fill:#000000; stroke:none; fill-opacity:1\" cx=\"705.788\" cy=\"449.303\" r=\"2\"/>\n",
       "<circle clip-path=\"url(#clip9702)\" style=\"fill:#009af9; stroke:none; fill-opacity:1\" cx=\"705.788\" cy=\"449.303\" r=\"1\"/>\n",
       "<circle clip-path=\"url(#clip9702)\" style=\"fill:#000000; stroke:none; fill-opacity:1\" cx=\"713.732\" cy=\"449.303\" r=\"2\"/>\n",
       "<circle clip-path=\"url(#clip9702)\" style=\"fill:#009af9; stroke:none; fill-opacity:1\" cx=\"713.732\" cy=\"449.303\" r=\"1\"/>\n",
       "<circle clip-path=\"url(#clip9702)\" style=\"fill:#000000; stroke:none; fill-opacity:1\" cx=\"721.676\" cy=\"449.303\" r=\"2\"/>\n",
       "<circle clip-path=\"url(#clip9702)\" style=\"fill:#009af9; stroke:none; fill-opacity:1\" cx=\"721.676\" cy=\"449.303\" r=\"1\"/>\n",
       "<circle clip-path=\"url(#clip9702)\" style=\"fill:#000000; stroke:none; fill-opacity:1\" cx=\"729.62\" cy=\"449.303\" r=\"2\"/>\n",
       "<circle clip-path=\"url(#clip9702)\" style=\"fill:#009af9; stroke:none; fill-opacity:1\" cx=\"729.62\" cy=\"449.303\" r=\"1\"/>\n",
       "<circle clip-path=\"url(#clip9702)\" style=\"fill:#000000; stroke:none; fill-opacity:1\" cx=\"737.564\" cy=\"449.303\" r=\"2\"/>\n",
       "<circle clip-path=\"url(#clip9702)\" style=\"fill:#009af9; stroke:none; fill-opacity:1\" cx=\"737.564\" cy=\"449.303\" r=\"1\"/>\n",
       "<circle clip-path=\"url(#clip9702)\" style=\"fill:#000000; stroke:none; fill-opacity:1\" cx=\"745.508\" cy=\"449.303\" r=\"2\"/>\n",
       "<circle clip-path=\"url(#clip9702)\" style=\"fill:#009af9; stroke:none; fill-opacity:1\" cx=\"745.508\" cy=\"449.303\" r=\"1\"/>\n",
       "<circle clip-path=\"url(#clip9702)\" style=\"fill:#000000; stroke:none; fill-opacity:1\" cx=\"753.451\" cy=\"449.303\" r=\"2\"/>\n",
       "<circle clip-path=\"url(#clip9702)\" style=\"fill:#009af9; stroke:none; fill-opacity:1\" cx=\"753.451\" cy=\"449.303\" r=\"1\"/>\n",
       "<circle clip-path=\"url(#clip9702)\" style=\"fill:#000000; stroke:none; fill-opacity:1\" cx=\"761.395\" cy=\"449.303\" r=\"2\"/>\n",
       "<circle clip-path=\"url(#clip9702)\" style=\"fill:#009af9; stroke:none; fill-opacity:1\" cx=\"761.395\" cy=\"449.303\" r=\"1\"/>\n",
       "<circle clip-path=\"url(#clip9702)\" style=\"fill:#000000; stroke:none; fill-opacity:1\" cx=\"769.339\" cy=\"449.303\" r=\"2\"/>\n",
       "<circle clip-path=\"url(#clip9702)\" style=\"fill:#009af9; stroke:none; fill-opacity:1\" cx=\"769.339\" cy=\"449.303\" r=\"1\"/>\n",
       "<circle clip-path=\"url(#clip9702)\" style=\"fill:#000000; stroke:none; fill-opacity:1\" cx=\"777.283\" cy=\"449.303\" r=\"2\"/>\n",
       "<circle clip-path=\"url(#clip9702)\" style=\"fill:#009af9; stroke:none; fill-opacity:1\" cx=\"777.283\" cy=\"449.303\" r=\"1\"/>\n",
       "<circle clip-path=\"url(#clip9702)\" style=\"fill:#000000; stroke:none; fill-opacity:1\" cx=\"785.227\" cy=\"449.303\" r=\"2\"/>\n",
       "<circle clip-path=\"url(#clip9702)\" style=\"fill:#009af9; stroke:none; fill-opacity:1\" cx=\"785.227\" cy=\"449.303\" r=\"1\"/>\n",
       "<circle clip-path=\"url(#clip9702)\" style=\"fill:#000000; stroke:none; fill-opacity:1\" cx=\"793.171\" cy=\"449.303\" r=\"2\"/>\n",
       "<circle clip-path=\"url(#clip9702)\" style=\"fill:#009af9; stroke:none; fill-opacity:1\" cx=\"793.171\" cy=\"449.303\" r=\"1\"/>\n",
       "<circle clip-path=\"url(#clip9702)\" style=\"fill:#000000; stroke:none; fill-opacity:1\" cx=\"801.115\" cy=\"449.303\" r=\"2\"/>\n",
       "<circle clip-path=\"url(#clip9702)\" style=\"fill:#009af9; stroke:none; fill-opacity:1\" cx=\"801.115\" cy=\"449.303\" r=\"1\"/>\n",
       "<circle clip-path=\"url(#clip9702)\" style=\"fill:#000000; stroke:none; fill-opacity:1\" cx=\"809.058\" cy=\"449.303\" r=\"2\"/>\n",
       "<circle clip-path=\"url(#clip9702)\" style=\"fill:#009af9; stroke:none; fill-opacity:1\" cx=\"809.058\" cy=\"449.303\" r=\"1\"/>\n",
       "<circle clip-path=\"url(#clip9702)\" style=\"fill:#000000; stroke:none; fill-opacity:1\" cx=\"817.002\" cy=\"449.303\" r=\"2\"/>\n",
       "<circle clip-path=\"url(#clip9702)\" style=\"fill:#009af9; stroke:none; fill-opacity:1\" cx=\"817.002\" cy=\"449.303\" r=\"1\"/>\n",
       "<circle clip-path=\"url(#clip9702)\" style=\"fill:#000000; stroke:none; fill-opacity:1\" cx=\"824.946\" cy=\"449.303\" r=\"2\"/>\n",
       "<circle clip-path=\"url(#clip9702)\" style=\"fill:#009af9; stroke:none; fill-opacity:1\" cx=\"824.946\" cy=\"449.303\" r=\"1\"/>\n",
       "<circle clip-path=\"url(#clip9702)\" style=\"fill:#000000; stroke:none; fill-opacity:1\" cx=\"832.89\" cy=\"449.303\" r=\"2\"/>\n",
       "<circle clip-path=\"url(#clip9702)\" style=\"fill:#009af9; stroke:none; fill-opacity:1\" cx=\"832.89\" cy=\"449.303\" r=\"1\"/>\n",
       "<circle clip-path=\"url(#clip9702)\" style=\"fill:#000000; stroke:none; fill-opacity:1\" cx=\"840.834\" cy=\"449.303\" r=\"2\"/>\n",
       "<circle clip-path=\"url(#clip9702)\" style=\"fill:#009af9; stroke:none; fill-opacity:1\" cx=\"840.834\" cy=\"449.303\" r=\"1\"/>\n",
       "<circle clip-path=\"url(#clip9702)\" style=\"fill:#000000; stroke:none; fill-opacity:1\" cx=\"848.778\" cy=\"449.303\" r=\"2\"/>\n",
       "<circle clip-path=\"url(#clip9702)\" style=\"fill:#009af9; stroke:none; fill-opacity:1\" cx=\"848.778\" cy=\"449.303\" r=\"1\"/>\n",
       "<circle clip-path=\"url(#clip9702)\" style=\"fill:#000000; stroke:none; fill-opacity:1\" cx=\"856.722\" cy=\"449.303\" r=\"2\"/>\n",
       "<circle clip-path=\"url(#clip9702)\" style=\"fill:#009af9; stroke:none; fill-opacity:1\" cx=\"856.722\" cy=\"449.303\" r=\"1\"/>\n",
       "</svg>\n"
      ]
     },
     "execution_count": 181,
     "metadata": {
      "comm_id": "5bf9bc67-ec5a-4ded-8f49-3f10072c8b04",
      "reactive": true
     },
     "output_type": "execute_result"
    }
   ],
   "source": [
    "refwave = 2\n",
    "arg(z) = atan2(imag(z), real(z))/π*180;\n",
    "darg(dz,z) = sqrt(real(z)^2*imag(dz)^2+imag(z)^2*real(dz)^2)/abs2(z)\n",
    "create_interactive_plot_vs_mass(\n",
    "    (tprimei, wavei)->arg.(all_SDMs[tprimei,:,refwave,wavei]),\n",
    "    (tprimei, wavei)->[darg(all_SDMes[tprimei,i,refwave,wavei],all_SDMs[tprimei,i,refwave,wavei])/π*180 for i in 1:88],\n",
    "    \"interference of the `\"*shorten_wavenames[2]*\"` with other waves\"; fixed_range=(-180.0,180.0))"
   ]
  },
  {
   "cell_type": "code",
   "execution_count": 85,
   "metadata": {},
   "outputs": [
    {
     "data": {
      "text/html": [],
      "text/plain": [
       "Interact.Options{:SelectionSlider,Int64}(149: \"input-54\" = 50 Int64 , \"bin\", 50, \"50\", 50, Interact.OptionDict(DataStructures.OrderedDict(\"1\"=>1,\"2\"=>2,\"3\"=>3,\"4\"=>4,\"5\"=>5,\"6\"=>6,\"7\"=>7,\"8\"=>8,\"9\"=>9,\"10\"=>10…), Dict(68=>\"68\",2=>\"2\",89=>\"89\",11=>\"11\",39=>\"39\",46=>\"46\",85=>\"85\",25=>\"25\",55=>\"55\",42=>\"42\"…)), Any[], Any[], true, \"horizontal\", true)"
      ]
     },
     "metadata": {},
     "output_type": "display_data"
    },
    {
     "data": {
      "text/html": [],
      "text/plain": [
       "Interact.Options{:SelectionSlider,Int64}(151: \"input-55\" = 6 Int64 , \"tprimei\", 6, \"6\", 6, Interact.OptionDict(DataStructures.OrderedDict(\"1\"=>1,\"2\"=>2,\"3\"=>3,\"4\"=>4,\"5\"=>5,\"6\"=>6,\"7\"=>7,\"8\"=>8,\"9\"=>9,\"10\"=>10…), Dict(2=>\"2\",11=>\"11\",7=>\"7\",9=>\"9\",10=>\"10\",8=>\"8\",6=>\"6\",4=>\"4\",3=>\"3\",5=>\"5\"…)), Any[], Any[], true, \"horizontal\", true)"
      ]
     },
     "metadata": {},
     "output_type": "display_data"
    },
    {
     "data": {
      "image/svg+xml": [
       "<?xml version=\"1.0\" encoding=\"utf-8\"?>\n",
       "<svg xmlns=\"http://www.w3.org/2000/svg\" xmlns:xlink=\"http://www.w3.org/1999/xlink\" width=\"600\" height=\"400\" viewBox=\"0 0 600 400\">\n",
       "<defs>\n",
       "  <clipPath id=\"clip00\">\n",
       "    <rect x=\"0\" y=\"0\" width=\"600\" height=\"400\"/>\n",
       "  </clipPath>\n",
       "</defs>\n",
       "<polygon clip-path=\"url(#clip6500)\" points=\"\n",
       "0,400 600,400 600,0 0,0 \n",
       "  \" fill=\"#ffffff\" fill-opacity=\"1\"/>\n",
       "<defs>\n",
       "  <clipPath id=\"clip01\">\n",
       "    <rect x=\"120\" y=\"0\" width=\"421\" height=\"400\"/>\n",
       "  </clipPath>\n",
       "</defs>\n",
       "<polygon clip-path=\"url(#clip6500)\" points=\"\n",
       "37.1332,375.813 580.315,375.813 580.315,11.811 37.1332,11.811 \n",
       "  \" fill=\"#ffffff\" fill-opacity=\"1\"/>\n",
       "<defs>\n",
       "  <clipPath id=\"clip02\">\n",
       "    <rect x=\"37\" y=\"11\" width=\"544\" height=\"365\"/>\n",
       "  </clipPath>\n",
       "</defs>\n",
       "<polyline clip-path=\"url(#clip6502)\" style=\"stroke:#000000; stroke-width:0.5; stroke-opacity:0.1; fill:none\" points=\"\n",
       "  155.759,375.813 155.759,11.811 \n",
       "  \"/>\n",
       "<polyline clip-path=\"url(#clip6502)\" style=\"stroke:#000000; stroke-width:0.5; stroke-opacity:0.1; fill:none\" points=\"\n",
       "  280.628,375.813 280.628,11.811 \n",
       "  \"/>\n",
       "<polyline clip-path=\"url(#clip6502)\" style=\"stroke:#000000; stroke-width:0.5; stroke-opacity:0.1; fill:none\" points=\"\n",
       "  405.498,375.813 405.498,11.811 \n",
       "  \"/>\n",
       "<polyline clip-path=\"url(#clip6502)\" style=\"stroke:#000000; stroke-width:0.5; stroke-opacity:0.1; fill:none\" points=\"\n",
       "  530.367,375.813 530.367,11.811 \n",
       "  \"/>\n",
       "<polyline clip-path=\"url(#clip6502)\" style=\"stroke:#000000; stroke-width:0.5; stroke-opacity:0.1; fill:none\" points=\"\n",
       "  37.1332,330.497 580.315,330.497 \n",
       "  \"/>\n",
       "<polyline clip-path=\"url(#clip6502)\" style=\"stroke:#000000; stroke-width:0.5; stroke-opacity:0.1; fill:none\" points=\"\n",
       "  37.1332,278.106 580.315,278.106 \n",
       "  \"/>\n",
       "<polyline clip-path=\"url(#clip6502)\" style=\"stroke:#000000; stroke-width:0.5; stroke-opacity:0.1; fill:none\" points=\"\n",
       "  37.1332,225.715 580.315,225.715 \n",
       "  \"/>\n",
       "<polyline clip-path=\"url(#clip6502)\" style=\"stroke:#000000; stroke-width:0.5; stroke-opacity:0.1; fill:none\" points=\"\n",
       "  37.1332,173.325 580.315,173.325 \n",
       "  \"/>\n",
       "<polyline clip-path=\"url(#clip6502)\" style=\"stroke:#000000; stroke-width:0.5; stroke-opacity:0.1; fill:none\" points=\"\n",
       "  37.1332,120.934 580.315,120.934 \n",
       "  \"/>\n",
       "<polyline clip-path=\"url(#clip6502)\" style=\"stroke:#000000; stroke-width:0.5; stroke-opacity:0.1; fill:none\" points=\"\n",
       "  37.1332,68.5437 580.315,68.5437 \n",
       "  \"/>\n",
       "<polyline clip-path=\"url(#clip6502)\" style=\"stroke:#000000; stroke-width:0.5; stroke-opacity:0.1; fill:none\" points=\"\n",
       "  37.1332,16.1531 580.315,16.1531 \n",
       "  \"/>\n",
       "<polyline clip-path=\"url(#clip6500)\" style=\"stroke:#000000; stroke-width:1; stroke-opacity:1; fill:none\" points=\"\n",
       "  37.1332,375.813 580.315,375.813 \n",
       "  \"/>\n",
       "<polyline clip-path=\"url(#clip6500)\" style=\"stroke:#000000; stroke-width:1; stroke-opacity:1; fill:none\" points=\"\n",
       "  37.1332,375.813 37.1332,11.811 \n",
       "  \"/>\n",
       "<polyline clip-path=\"url(#clip6500)\" style=\"stroke:#000000; stroke-width:1; stroke-opacity:1; fill:none\" points=\"\n",
       "  155.759,375.813 155.759,370.353 \n",
       "  \"/>\n",
       "<polyline clip-path=\"url(#clip6500)\" style=\"stroke:#000000; stroke-width:1; stroke-opacity:1; fill:none\" points=\"\n",
       "  280.628,375.813 280.628,370.353 \n",
       "  \"/>\n",
       "<polyline clip-path=\"url(#clip6500)\" style=\"stroke:#000000; stroke-width:1; stroke-opacity:1; fill:none\" points=\"\n",
       "  405.498,375.813 405.498,370.353 \n",
       "  \"/>\n",
       "<polyline clip-path=\"url(#clip6500)\" style=\"stroke:#000000; stroke-width:1; stroke-opacity:1; fill:none\" points=\"\n",
       "  530.367,375.813 530.367,370.353 \n",
       "  \"/>\n",
       "<polyline clip-path=\"url(#clip6500)\" style=\"stroke:#000000; stroke-width:1; stroke-opacity:1; fill:none\" points=\"\n",
       "  37.1332,330.497 45.2809,330.497 \n",
       "  \"/>\n",
       "<polyline clip-path=\"url(#clip6500)\" style=\"stroke:#000000; stroke-width:1; stroke-opacity:1; fill:none\" points=\"\n",
       "  37.1332,278.106 45.2809,278.106 \n",
       "  \"/>\n",
       "<polyline clip-path=\"url(#clip6500)\" style=\"stroke:#000000; stroke-width:1; stroke-opacity:1; fill:none\" points=\"\n",
       "  37.1332,225.715 45.2809,225.715 \n",
       "  \"/>\n",
       "<polyline clip-path=\"url(#clip6500)\" style=\"stroke:#000000; stroke-width:1; stroke-opacity:1; fill:none\" points=\"\n",
       "  37.1332,173.325 45.2809,173.325 \n",
       "  \"/>\n",
       "<polyline clip-path=\"url(#clip6500)\" style=\"stroke:#000000; stroke-width:1; stroke-opacity:1; fill:none\" points=\"\n",
       "  37.1332,120.934 45.2809,120.934 \n",
       "  \"/>\n",
       "<polyline clip-path=\"url(#clip6500)\" style=\"stroke:#000000; stroke-width:1; stroke-opacity:1; fill:none\" points=\"\n",
       "  37.1332,68.5437 45.2809,68.5437 \n",
       "  \"/>\n",
       "<polyline clip-path=\"url(#clip6500)\" style=\"stroke:#000000; stroke-width:1; stroke-opacity:1; fill:none\" points=\"\n",
       "  37.1332,16.1531 45.2809,16.1531 \n",
       "  \"/>\n",
       "<g clip-path=\"url(#clip6500)\">\n",
       "<text style=\"fill:#000000; fill-opacity:1; font-family:Arial,Helvetica Neue,Helvetica,sans-serif; font-size:12; text-anchor:middle;\" transform=\"rotate(0, 155.759, 389.613)\" x=\"155.759\" y=\"389.613\">20</text>\n",
       "</g>\n",
       "<g clip-path=\"url(#clip6500)\">\n",
       "<text style=\"fill:#000000; fill-opacity:1; font-family:Arial,Helvetica Neue,Helvetica,sans-serif; font-size:12; text-anchor:middle;\" transform=\"rotate(0, 280.628, 389.613)\" x=\"280.628\" y=\"389.613\">40</text>\n",
       "</g>\n",
       "<g clip-path=\"url(#clip6500)\">\n",
       "<text style=\"fill:#000000; fill-opacity:1; font-family:Arial,Helvetica Neue,Helvetica,sans-serif; font-size:12; text-anchor:middle;\" transform=\"rotate(0, 405.498, 389.613)\" x=\"405.498\" y=\"389.613\">60</text>\n",
       "</g>\n",
       "<g clip-path=\"url(#clip6500)\">\n",
       "<text style=\"fill:#000000; fill-opacity:1; font-family:Arial,Helvetica Neue,Helvetica,sans-serif; font-size:12; text-anchor:middle;\" transform=\"rotate(0, 530.367, 389.613)\" x=\"530.367\" y=\"389.613\">80</text>\n",
       "</g>\n",
       "<g clip-path=\"url(#clip6500)\">\n",
       "<text style=\"fill:#000000; fill-opacity:1; font-family:Arial,Helvetica Neue,Helvetica,sans-serif; font-size:12; text-anchor:end;\" transform=\"rotate(0, 31.1332, 334.997)\" x=\"31.1332\" y=\"334.997\">-2</text>\n",
       "</g>\n",
       "<g clip-path=\"url(#clip6500)\">\n",
       "<text style=\"fill:#000000; fill-opacity:1; font-family:Arial,Helvetica Neue,Helvetica,sans-serif; font-size:12; text-anchor:end;\" transform=\"rotate(0, 31.1332, 282.606)\" x=\"31.1332\" y=\"282.606\">0</text>\n",
       "</g>\n",
       "<g clip-path=\"url(#clip6500)\">\n",
       "<text style=\"fill:#000000; fill-opacity:1; font-family:Arial,Helvetica Neue,Helvetica,sans-serif; font-size:12; text-anchor:end;\" transform=\"rotate(0, 31.1332, 230.215)\" x=\"31.1332\" y=\"230.215\">2</text>\n",
       "</g>\n",
       "<g clip-path=\"url(#clip6500)\">\n",
       "<text style=\"fill:#000000; fill-opacity:1; font-family:Arial,Helvetica Neue,Helvetica,sans-serif; font-size:12; text-anchor:end;\" transform=\"rotate(0, 31.1332, 177.825)\" x=\"31.1332\" y=\"177.825\">4</text>\n",
       "</g>\n",
       "<g clip-path=\"url(#clip6500)\">\n",
       "<text style=\"fill:#000000; fill-opacity:1; font-family:Arial,Helvetica Neue,Helvetica,sans-serif; font-size:12; text-anchor:end;\" transform=\"rotate(0, 31.1332, 125.434)\" x=\"31.1332\" y=\"125.434\">6</text>\n",
       "</g>\n",
       "<g clip-path=\"url(#clip6500)\">\n",
       "<text style=\"fill:#000000; fill-opacity:1; font-family:Arial,Helvetica Neue,Helvetica,sans-serif; font-size:12; text-anchor:end;\" transform=\"rotate(0, 31.1332, 73.0437)\" x=\"31.1332\" y=\"73.0437\">8</text>\n",
       "</g>\n",
       "<g clip-path=\"url(#clip6500)\">\n",
       "<text style=\"fill:#000000; fill-opacity:1; font-family:Arial,Helvetica Neue,Helvetica,sans-serif; font-size:12; text-anchor:end;\" transform=\"rotate(0, 31.1332, 20.6531)\" x=\"31.1332\" y=\"20.6531\">10</text>\n",
       "</g>\n",
       "<polyline clip-path=\"url(#clip6502)\" style=\"stroke:#009af9; stroke-width:1; stroke-opacity:1; fill:none\" points=\"\n",
       "  37.1332,11.811 43.3766,35.8747 49.6201,36.1321 55.8636,41.9078 62.107,42.3749 68.3505,46.7167 74.594,51.3454 80.8374,54.4263 87.0809,55.2897 93.3244,63.2942 \n",
       "  99.5678,63.9758 105.811,68.7982 112.055,73.0843 118.298,79.3767 124.542,81.1422 130.785,85.1245 137.029,89.5934 143.272,89.7513 149.516,90.7944 155.759,90.9256 \n",
       "  162.003,93.5487 168.246,93.8718 174.489,101.788 180.733,102.22 186.976,102.66 193.22,106.624 199.463,107.963 205.707,108.831 211.95,111.377 218.194,113.018 \n",
       "  224.437,113.438 230.681,114.721 236.924,119.446 243.168,120.626 249.411,121.567 255.655,122.254 261.898,125.258 268.142,126.746 274.385,128.033 280.628,128.557 \n",
       "  286.872,129.804 293.115,131.266 299.359,133.946 305.602,136.76 311.846,142.961 318.089,145.034 324.333,145.335 330.576,146.575 336.82,146.69 343.063,149.276 \n",
       "  349.307,149.35 355.55,151.841 361.794,152.515 368.037,154.203 374.28,157.39 380.524,162.185 386.767,162.77 393.011,163.694 399.254,167.769 405.498,169.147 \n",
       "  411.741,169.426 417.985,170.054 424.228,172.526 430.472,174.694 436.715,176.848 442.959,178.373 449.202,183.314 455.446,184.302 461.689,187.841 467.933,189.675 \n",
       "  474.176,190.52 480.419,191.731 486.663,199.913 492.906,201.49 499.15,207.182 505.393,214.565 511.637,216.031 517.88,219.667 524.124,220.33 530.367,225.439 \n",
       "  536.611,230.418 542.854,251.736 549.098,253.701 555.341,313.15 561.585,375.813 \n",
       "  \"/>\n",
       "<polygon clip-path=\"url(#clip6500)\" points=\"\n",
       "489.799,62.931 562.315,62.931 562.315,32.691 489.799,32.691 \n",
       "  \" fill=\"#ffffff\" fill-opacity=\"1\"/>\n",
       "<polyline clip-path=\"url(#clip6500)\" style=\"stroke:#000000; stroke-width:1; stroke-opacity:1; fill:none\" points=\"\n",
       "  489.799,62.931 562.315,62.931 562.315,32.691 489.799,32.691 489.799,62.931 \n",
       "  \"/>\n",
       "<polyline clip-path=\"url(#clip6500)\" style=\"stroke:#009af9; stroke-width:1; stroke-opacity:1; fill:none\" points=\"\n",
       "  495.799,47.811 531.799,47.811 \n",
       "  \"/>\n",
       "<g clip-path=\"url(#clip6500)\">\n",
       "<text style=\"fill:#000000; fill-opacity:1; font-family:Arial,Helvetica Neue,Helvetica,sans-serif; font-size:12; text-anchor:start;\" transform=\"rotate(0, 537.799, 52.311)\" x=\"537.799\" y=\"52.311\">y1</text>\n",
       "</g>\n",
       "</svg>\n"
      ]
     },
     "execution_count": 85,
     "metadata": {
      "comm_id": "717894b1-fed8-4725-a639-d6a1ad1c2030",
      "reactive": true
     },
     "output_type": "execute_result"
    }
   ],
   "source": [
    "@manipulate for bin=1:100, tprimei = 1:11\n",
    "    plot(log.(sort(real.(diag(all_SDMs[tprimei,bin,:,:])), rev=true)))\n",
    "end"
   ]
  }
 ],
 "metadata": {
  "kernelspec": {
   "display_name": "Julia 0.6.3",
   "language": "julia",
   "name": "julia-0.6"
  },
  "language_info": {
   "file_extension": ".jl",
   "mimetype": "application/julia",
   "name": "julia",
   "version": "0.6.3"
  },
  "widgets": {
   "state": {
    "01a0f300-51de-424c-b647-760777d8bc17": {
     "views": [
      {
       "cell_index": 14
      }
     ]
    },
    "01e8ab3f-0855-4d92-ad91-a42b4a738cc6": {
     "views": [
      {
       "cell_index": 14
      }
     ]
    },
    "072ebcb3-0d1f-437d-8c22-4ab01581db78": {
     "views": [
      {
       "cell_index": 17
      }
     ]
    },
    "10180183-dbb6-4113-972b-35e1fee4301d": {
     "views": [
      {
       "cell_index": 10
      }
     ]
    },
    "170a471c-f1c7-482d-917f-f2cfa13871c6": {
     "views": [
      {
       "cell_index": 10
      }
     ]
    },
    "1a35d422-faa2-4f5c-ab79-84cd6c5af029": {
     "views": [
      {
       "cell_index": 14
      }
     ]
    },
    "1b613d5c-3d91-4323-9bf5-8380f4343ba0": {
     "views": [
      {
       "cell_index": 16
      }
     ]
    },
    "23babd02-54a5-448c-9ec7-371815b64e34": {
     "views": [
      {
       "cell_index": 13
      }
     ]
    },
    "244d6440-5e01-434f-9fef-b97753ee0afb": {
     "views": [
      {
       "cell_index": 15
      }
     ]
    },
    "2bb270a3-4454-4f2e-86ec-431b9fd957d7": {
     "views": [
      {
       "cell_index": 4
      }
     ]
    },
    "2e37ca68-1166-4d57-9cb8-499bd544a55e": {
     "views": [
      {
       "cell_index": 4
      }
     ]
    },
    "31de5378-f30c-477b-b78e-af847abd573a": {
     "views": [
      {
       "cell_index": 16
      }
     ]
    },
    "3b447050-df21-4a0d-aa40-31a2a63d6d3f": {
     "views": [
      {
       "cell_index": 10
      }
     ]
    },
    "3de45b60-1afa-4213-bd87-d53f8281123a": {
     "views": [
      {
       "cell_index": 14
      }
     ]
    },
    "414cd3ac-f40c-4dc0-89c9-973e4d19d8db": {
     "views": [
      {
       "cell_index": 15
      }
     ]
    },
    "415772c2-e105-45f5-8cb5-5d397db6a3bc": {
     "views": [
      {
       "cell_index": 14
      }
     ]
    },
    "4216b82f-d00e-47cd-b28c-3641eafe2c04": {
     "views": [
      {
       "cell_index": 10
      }
     ]
    },
    "43ed505c-c9ee-4e3e-9787-93e415f18613": {
     "views": [
      {
       "cell_index": 10
      }
     ]
    },
    "44ecad16-d4e6-49b9-9c2e-f2076ec05f7e": {
     "views": [
      {
       "cell_index": 16
      }
     ]
    },
    "459e675c-82e3-4c3e-98b0-707c9f7b390d": {
     "views": [
      {
       "cell_index": 14
      }
     ]
    },
    "4815bf3d-61cd-4e5a-8890-4992febc7bb5": {
     "views": [
      {
       "cell_index": 10
      }
     ]
    },
    "48e5a00e-a19e-479a-8400-f0bb69382178": {
     "views": [
      {
       "cell_index": 16
      }
     ]
    },
    "4dfaff1b-acf7-4174-b24e-5a2585eeb99a": {
     "views": [
      {
       "cell_index": 10
      }
     ]
    },
    "4e89961f-7435-48a2-b214-619a12b06065": {
     "views": [
      {
       "cell_index": 14
      }
     ]
    },
    "4f5b4970-3dc1-4608-9000-f44f9625fc2f": {
     "views": [
      {
       "cell_index": 16
      }
     ]
    },
    "54f0040c-521b-4a0a-86f9-67e30ff8e308": {
     "views": [
      {
       "cell_index": 10
      }
     ]
    },
    "5557659e-2cb2-4dc8-b20c-33d2f6dedc2c": {
     "views": [
      {
       "cell_index": 5
      }
     ]
    },
    "60966326-2473-4f12-9d6f-3081a1e2d821": {
     "views": [
      {
       "cell_index": 13
      }
     ]
    },
    "6539c612-22e7-4244-a65b-7d5add76929e": {
     "views": [
      {
       "cell_index": 17
      }
     ]
    },
    "6bb3b8e6-8b0e-4a57-a9b8-f83c84fae1e8": {
     "views": [
      {
       "cell_index": 16
      }
     ]
    },
    "6eaec864-cfdc-4dc4-b38b-f7214d6bdda5": {
     "views": [
      {
       "cell_index": 12
      }
     ]
    },
    "6eddbf5e-0a2e-4cc0-b0c4-a4079a9ea331": {
     "views": [
      {
       "cell_index": 4
      }
     ]
    },
    "709c0952-ced2-4388-bcde-32e736584c44": {
     "views": [
      {
       "cell_index": 14
      }
     ]
    },
    "70fbeef5-36f1-4c05-bede-79f074117229": {
     "views": [
      {
       "cell_index": 17
      }
     ]
    },
    "741b6b81-001e-422a-bd35-daf2ddc59fef": {
     "views": [
      {
       "cell_index": 12
      }
     ]
    },
    "75148153-7b74-4955-82e8-579a95ed9c7c": {
     "views": [
      {
       "cell_index": 4
      }
     ]
    },
    "76ce196c-e4eb-4067-8adf-df6efa800de0": {
     "views": [
      {
       "cell_index": 15
      }
     ]
    },
    "7a890e58-d601-4915-8b1d-cbca03daf531": {
     "views": [
      {
       "cell_index": 11
      }
     ]
    },
    "7c2cd5a3-0e85-41dc-8b6b-bcd1db20f3b1": {
     "views": [
      {
       "cell_index": 10
      }
     ]
    },
    "8191f603-dc0c-4c89-9ad4-4104c9f2abea": {
     "views": [
      {
       "cell_index": 14
      }
     ]
    },
    "864a0f90-0b04-4e57-8bd7-45c01c1ad126": {
     "views": [
      {
       "cell_index": 12
      }
     ]
    },
    "8931013e-b77a-4a06-942b-deb07971a2bf": {
     "views": [
      {
       "cell_index": 13
      }
     ]
    },
    "8c7746b3-a693-4564-8455-c4434372d949": {
     "views": [
      {
       "cell_index": 5
      }
     ]
    },
    "8e14dc72-56d7-4c4e-ae19-8b5229393e75": {
     "views": [
      {
       "cell_index": 15
      }
     ]
    },
    "8f1b9fbb-d8b3-4b5c-84f9-52f969751813": {
     "views": [
      {
       "cell_index": 5
      }
     ]
    },
    "91de602d-94d2-4ea5-8aae-801a5a70e744": {
     "views": [
      {
       "cell_index": 4
      }
     ]
    },
    "a085c077-430a-47d9-8b1e-e4e3b99ff9a8": {
     "views": [
      {
       "cell_index": 10
      }
     ]
    },
    "a629f085-f9a4-4f14-8bd1-0318c1358ac2": {
     "views": [
      {
       "cell_index": 4
      }
     ]
    },
    "b472c938-fadc-4e90-9200-6cd99029f8fa": {
     "views": [
      {
       "cell_index": 10
      }
     ]
    },
    "b5fa0443-22f3-4401-810b-3b3606673616": {
     "views": [
      {
       "cell_index": 16
      }
     ]
    },
    "bd027bdb-dd50-4bf6-84fc-0d779d9f4253": {
     "views": [
      {
       "cell_index": 17
      }
     ]
    },
    "bd802cc2-c759-4641-8e1b-6c9cd72006d0": {
     "views": [
      {
       "cell_index": 12
      }
     ]
    },
    "bfc8bf38-8361-4754-80de-a5443672493a": {
     "views": [
      {
       "cell_index": 16
      }
     ]
    },
    "c488a360-b3fd-44c7-805b-fcbfd37af263": {
     "views": [
      {
       "cell_index": 14
      }
     ]
    },
    "c9e004af-1dca-4c49-af12-9fb3345a3665": {
     "views": [
      {
       "cell_index": 12
      }
     ]
    },
    "d40ee2bb-3189-4c80-870a-b73ed00f8029": {
     "views": [
      {
       "cell_index": 15
      }
     ]
    },
    "d43a492a-35bd-41d4-a4e1-8dcd476058ab": {
     "views": [
      {
       "cell_index": 13
      }
     ]
    },
    "e0db60f3-19b6-4d48-9805-a1398c4e8bff": {
     "views": [
      {
       "cell_index": 4
      }
     ]
    },
    "e3a8a913-3530-43dd-b1c0-33ed18fa5e16": {
     "views": [
      {
       "cell_index": 10
      }
     ]
    },
    "e55d1f60-e212-410c-8706-4d324e67660f": {
     "views": [
      {
       "cell_index": 14
      }
     ]
    },
    "e7ecc9ca-6a4c-4f50-99a0-836b8c9898d2": {
     "views": [
      {
       "cell_index": 13
      }
     ]
    },
    "f7f08c23-b272-4047-aa57-446279a5696c": {
     "views": [
      {
       "cell_index": 16
      }
     ]
    },
    "f880ee83-d8ae-4265-a2ad-f118edf3a059": {
     "views": [
      {
       "cell_index": 14
      }
     ]
    },
    "fd0f39c1-631b-4578-8917-b98a97a661d6": {
     "views": [
      {
       "cell_index": 16
      }
     ]
    }
   },
   "version": "1.2.0"
  }
 },
 "nbformat": 4,
 "nbformat_minor": 2
}
