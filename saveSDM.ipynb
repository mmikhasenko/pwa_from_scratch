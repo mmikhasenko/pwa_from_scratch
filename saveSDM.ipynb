{
 "cells": [
  {
   "cell_type": "markdown",
   "metadata": {},
   "source": [
    "# Extraction of SDM\n",
    "### Collect spin-density matrix elements from the `ROOT`-file and save them to a text file"
   ]
  },
  {
   "cell_type": "code",
   "execution_count": 1,
   "metadata": {},
   "outputs": [
    {
     "name": "stdout",
     "output_type": "stream",
     "text": [
      "Welcome to JupyROOT 6.14/00\n"
     ]
    }
   ],
   "source": [
    "import ROOT"
   ]
  },
  {
   "cell_type": "code",
   "execution_count": 2,
   "metadata": {},
   "outputs": [],
   "source": [
    "name = '0.100000-0.112853'"
   ]
  },
  {
   "cell_type": "code",
   "execution_count": 44,
   "metadata": {},
   "outputs": [],
   "source": [
    "############################################\n",
    "\n",
    "def get_cve(myfile,name,i) :\n",
    "    hist = myfile.Get(name)\n",
    "    return [hist.GetBinCenter(i), hist.GetBinContent(i), hist.GetBinError(i)]\n",
    "\n",
    "############################################\n",
    "\n",
    "def get_SDM(myfile,bin) :\n",
    "    SDM = [[0 for x in range(88)] for y in range(88)]\n",
    "    eSDM = [[0 for x in range(88)] for y in range(88)]\n",
    "    # zero epsilon\n",
    "    for i in range(88) :\n",
    "        v = get_cve(myfile,'h'+str(i+1), bin)\n",
    "        SDM[i][i] = v[1]\n",
    "        eSDM[i][i] = v[2]\n",
    "    # positive epsilon\n",
    "    for i in range(1,81) :\n",
    "        for j in range(1,81) :\n",
    "            if (i >= j) : continue\n",
    "            name = 'h1'+'{:03d}'.format(i+1)+'{:03d}'.format(j+1)\n",
    "            vr = get_cve(myfile,name, bin)\n",
    "            name = 'h2'+'{:03d}'.format(i+1)+'{:03d}'.format(j+1)\n",
    "            vi = get_cve(myfile,name, bin)\n",
    "            SDM[i][j] = vr[1]+vi[1]*1j\n",
    "            eSDM[i][j] = v[2]+vi[2]*1j\n",
    "            SDM[j][i] = vr[1]-vi[1]*1j\n",
    "            eSDM[j][i] = v[2]-vi[2]*1j\n",
    "    # negative epsilon\n",
    "    for i in range(82,88) :\n",
    "        for j in range(82,88) :\n",
    "            if (i >= j) : continue\n",
    "            name = 'h1'+'{:03d}'.format(i+1)+'{:03d}'.format(j+1)\n",
    "            vr = get_cve(myfile,name, bin)\n",
    "            name = 'h2'+'{:03d}'.format(i+1)+'{:03d}'.format(j+1)\n",
    "            vi = get_cve(myfile,name, bin)\n",
    "            SDM[i][j]  = vr[1]+vi[1]*1j\n",
    "            eSDM[i][j] = vr[2]+vi[2]*1j\n",
    "            SDM[j][i]  = vr[1]-vi[1]*1j\n",
    "            eSDM[j][i] = vr[2]-vi[2]*1j\n",
    "    return SDM, eSDM\n",
    "\n",
    "############################################\n",
    "\n",
    "import numpy as np\n",
    "def save2file(output, inmat) :\n",
    "    mat=np.matrix([np.array(v).real for v in inmat])\n",
    "    np.savetxt(output+'.re',mat)\n",
    "    mat=np.matrix([np.array(v).imag for v in inmat])\n",
    "    np.savetxt(output+'.im',mat)\n"
   ]
  },
  {
   "cell_type": "markdown",
   "metadata": {},
   "source": [
    "Save a single SDM"
   ]
  },
  {
   "cell_type": "code",
   "execution_count": 38,
   "metadata": {},
   "outputs": [
    {
     "name": "stdout",
     "output_type": "stream",
     "text": [
      "526.094482422\n"
     ]
    }
   ],
   "source": [
    "myfile = ROOT.TFile('/home/mikhasenko/cernbox/tmp/pwa_results/hfit_'+names[2]+'.root')\n",
    "\n",
    "SDM91, eSDM91 = get_SDM(myfile,91)\n",
    "# save2file('sdm91', SDM91)\n",
    "# save2file('sdm91-err', eSDM91)\n",
    "print(SDM91[1][1])\n",
    "\n",
    "myfile.Close()"
   ]
  },
  {
   "cell_type": "markdown",
   "metadata": {},
   "source": [
    "Save all SDMs for the fiven t' in the file "
   ]
  },
  {
   "cell_type": "code",
   "execution_count": 19,
   "metadata": {},
   "outputs": [],
   "source": [
    "myfile = ROOT.TFile('/home/mikhasenko/cernbox/tmp/pwa_results/hfit_0.100000-0.112853.root')\n",
    "\n",
    "for b in range(1,101) :\n",
    "    SDM_b, eSDM_b = get_SDM(myfile,b)\n",
    "    save2file('SDMs/'+name+'/'+'sdm'+str(b), SDM_b)\n",
    "    save2file('SDMs/'+name+'/'+'sdm'+str(b)+'-err', eSDM_b)\n",
    "    \n",
    "myfile.Close()"
   ]
  },
  {
   "cell_type": "markdown",
   "metadata": {},
   "source": [
    "Save all SDMs form all t'-slices in files "
   ]
  },
  {
   "cell_type": "code",
   "execution_count": 45,
   "metadata": {},
   "outputs": [],
   "source": [
    "def save_all_sdm(rootfilename, outfilename) :\n",
    "    myfile = ROOT.TFile(rootfilename)\n",
    "    Nb = 100\n",
    "    for b in range(1,Nb+1) :\n",
    "        SDM_b, eSDM_b = get_SDM(myfile,b)\n",
    "        save2file(outfilename+'/'+'sdm'+str(b), SDM_b)\n",
    "        save2file(outfilename+'/'+'sdm'+str(b)+'-err', eSDM_b)\n",
    "    myfile.Close()"
   ]
  },
  {
   "cell_type": "code",
   "execution_count": 46,
   "metadata": {},
   "outputs": [],
   "source": [
    "names = [\"0.100000-0.112853\", \"0.112853-0.127471\", \"0.127471-0.144385\", \"0.144385-0.164401\",\n",
    "         \"0.164401-0.188816\", \"0.188816-0.219907\", \"0.219907-0.262177\", \"0.262177-0.326380\",\n",
    "         \"0.326380-0.448588\", \"0.448588-0.724294\", \"0.724294-1.000000\"];"
   ]
  },
  {
   "cell_type": "code",
   "execution_count": 47,
   "metadata": {},
   "outputs": [
    {
     "name": "stdout",
     "output_type": "stream",
     "text": [
      "0.100000-0.112853\n",
      "0.112853-0.127471\n",
      "0.127471-0.144385\n",
      "0.144385-0.164401\n",
      "0.164401-0.188816\n",
      "0.188816-0.219907\n",
      "0.219907-0.262177\n",
      "0.262177-0.326380\n",
      "0.326380-0.448588\n",
      "0.448588-0.724294\n",
      "0.724294-1.000000\n"
     ]
    }
   ],
   "source": [
    "for name in names :\n",
    "    print(name)\n",
    "    save_all_sdm('/home/mikhasenko/cernbox/tmp/pwa_results/hfit_'+name+'.root',\"SDMs/\"+name)"
   ]
  },
  {
   "cell_type": "code",
   "execution_count": null,
   "metadata": {},
   "outputs": [],
   "source": []
  }
 ],
 "metadata": {
  "kernelspec": {
   "display_name": "Python 2",
   "language": "python",
   "name": "python2"
  },
  "language_info": {
   "codemirror_mode": {
    "name": "ipython",
    "version": 2
   },
   "file_extension": ".py",
   "mimetype": "text/x-python",
   "name": "python",
   "nbconvert_exporter": "python",
   "pygments_lexer": "ipython2",
   "version": "2.7.12"
  }
 },
 "nbformat": 4,
 "nbformat_minor": 2
}
