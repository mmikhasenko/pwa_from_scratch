{
 "cells": [
  {
   "cell_type": "code",
   "execution_count": 1,
   "metadata": {},
   "outputs": [
    {
     "name": "stdout",
     "output_type": "stream",
     "text": [
      "Welcome to JupyROOT 6.14/00\n"
     ]
    }
   ],
   "source": [
    "import ROOT"
   ]
  },
  {
   "cell_type": "code",
   "execution_count": 2,
   "metadata": {},
   "outputs": [],
   "source": [
    "myfile = ROOT.TFile('/home/mikhasenko/cernbox/tmp/pwa_results/hfit_0.100000-0.112853.root')"
   ]
  },
  {
   "cell_type": "code",
   "execution_count": 7,
   "metadata": {},
   "outputs": [],
   "source": [
    "############################################\n",
    "\n",
    "def get_cve(name,i) :\n",
    "    hist = myfile.Get(name)\n",
    "    return [hist.GetBinCenter(i), hist.GetBinContent(i), hist.GetBinError(i)]\n",
    "\n",
    "############################################\n",
    "\n",
    "def get_SDM(bin) :\n",
    "    SDM = [[0 for x in range(88)] for y in range(88)]\n",
    "    eSDM = [[0 for x in range(88)] for y in range(88)]\n",
    "    # zero epsilon\n",
    "    for i in range(88) :\n",
    "        v = get_cve('h'+str(i+1), bin)\n",
    "        SDM[i][i] = v[1]\n",
    "        eSDM[i][i] = v[2]\n",
    "    # positive epsilon\n",
    "    for i in range(1,81) :\n",
    "        for j in range(1,81) :\n",
    "            if (i >= j) : continue\n",
    "            name = 'h1'+'{:03d}'.format(i+1)+'{:03d}'.format(j+1)\n",
    "            vr = get_cve(name, bin)\n",
    "            name = 'h2'+'{:03d}'.format(i+1)+'{:03d}'.format(j+1)\n",
    "            vi = get_cve(name, bin)\n",
    "            SDM[i][j] = vr[1]+vi[1]*1j\n",
    "            eSDM[i][j] = v[2]+vi[2]*1j\n",
    "            SDM[j][i] = vr[1]-vi[1]*1j\n",
    "            eSDM[j][i] = v[2]-vi[2]*1j\n",
    "    # negative epsilon\n",
    "    for i in range(82,88) :\n",
    "        for j in range(82,88) :\n",
    "            if (i >= j) : continue\n",
    "            name = 'h1'+'{:03d}'.format(i+1)+'{:03d}'.format(j+1)\n",
    "            vr = get_cve(name, bin)\n",
    "            name = 'h2'+'{:03d}'.format(i+1)+'{:03d}'.format(j+1)\n",
    "            vi = get_cve(name, bin)\n",
    "            SDM[i][j]  = vr[1]+vi[1]*1j\n",
    "            eSDM[i][j] = vr[2]+vi[2]*1j\n",
    "            SDM[j][i]  = vr[1]-vi[1]*1j\n",
    "            eSDM[j][i] = vr[2]-vi[2]*1j\n",
    "    return SDM, eSDM\n",
    "\n",
    "############################################\n",
    "\n",
    "import numpy as np\n",
    "def save2file(output, inmat) :\n",
    "    mat=np.matrix([np.array(v).real for v in inmat])\n",
    "    np.savetxt(output+'.re',mat)\n",
    "    mat=np.matrix([np.array(v).imag for v in inmat])\n",
    "    np.savetxt(output+'.im',mat)\n"
   ]
  },
  {
   "cell_type": "markdown",
   "metadata": {},
   "source": [
    "Get the matrixes and Save them"
   ]
  },
  {
   "cell_type": "code",
   "execution_count": 8,
   "metadata": {},
   "outputs": [],
   "source": [
    "SDM91, eSDM91 = get_SDM(91)\n",
    "save2file('/tmp/sdm91', SDM91)\n",
    "save2file('/tmp/sdm91-err', eSDM91)"
   ]
  },
  {
   "cell_type": "code",
   "execution_count": null,
   "metadata": {},
   "outputs": [],
   "source": []
  }
 ],
 "metadata": {
  "kernelspec": {
   "display_name": "Python 2",
   "language": "python",
   "name": "python2"
  },
  "language_info": {
   "codemirror_mode": {
    "name": "ipython",
    "version": 2
   },
   "file_extension": ".py",
   "mimetype": "text/x-python",
   "name": "python",
   "nbconvert_exporter": "python",
   "pygments_lexer": "ipython2",
   "version": "2.7.12"
  }
 },
 "nbformat": 4,
 "nbformat_minor": 2
}
