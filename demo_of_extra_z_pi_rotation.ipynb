{
 "cells": [
  {
   "cell_type": "code",
   "execution_count": 48,
   "metadata": {},
   "outputs": [
    {
     "data": {
      "text/plain": [
       "boostz! (generic function with 1 method)"
      ]
     },
     "execution_count": 48,
     "metadata": {},
     "output_type": "execute_result"
    }
   ],
   "source": [
    "function rotz!(p,θ)\n",
    "    c, s = cos(θ), sin(θ)\n",
    "    p[1], p[2] = [c -s; s c]*[p[1], p[2]]\n",
    "    return\n",
    "end\n",
    "function roty!(p,θ)\n",
    "    c, s = cos(θ), sin(θ)\n",
    "    p[1], p[3] = [c s; -s c]*[p[1], p[3]]\n",
    "    return\n",
    "end\n",
    "function boostz!(p,γ)\n",
    "    γ, βγ = γ*sign(γ), sqrt(γ^2-1)*sign(γ)\n",
    "    p[3], p[4] = [γ βγ; βγ γ]*[p[3], p[4]]\n",
    "    return\n",
    "end"
   ]
  },
  {
   "cell_type": "code",
   "execution_count": 69,
   "metadata": {},
   "outputs": [
    {
     "name": "stdout",
     "output_type": "stream",
     "text": [
      "p = [1.12799e-13, 5.55112e-16, 0.0, 83.0111]\n",
      "b = [-3.41355, 0.112339, 15.5059, 71.078]\n"
     ]
    },
    {
     "data": {
      "text/plain": [
       "3.1086947277315367"
      ]
     },
     "execution_count": 69,
     "metadata": {},
     "output_type": "execute_result"
    }
   ],
   "source": [
    "p = Float64[-3,-0.4,100,130]\n",
    "b = Float64[0.1,-0.1,110,130]\n",
    "rotz!.([p,b],-atan2(p[2],p[1]))\n",
    "roty!.([p,b],-acos(p[3]/norm(p[1:3])))\n",
    "boostz!.([p,b],-p[4]/sqrt(p[4]^2-norm(p[1:3])^2))\n",
    "@show p\n",
    "@show b\n",
    "atan2(b[2], b[1])"
   ]
  },
  {
   "cell_type": "code",
   "execution_count": 42,
   "metadata": {},
   "outputs": [
    {
     "data": {
      "text/plain": [
       "5.0"
      ]
     },
     "execution_count": 42,
     "metadata": {},
     "output_type": "execute_result"
    }
   ],
   "source": [
    "norm([4,3])"
   ]
  },
  {
   "cell_type": "code",
   "execution_count": null,
   "metadata": {},
   "outputs": [],
   "source": []
  }
 ],
 "metadata": {
  "kernelspec": {
   "display_name": "Julia 0.6.4",
   "language": "julia",
   "name": "julia-0.6"
  },
  "language_info": {
   "file_extension": ".jl",
   "mimetype": "application/julia",
   "name": "julia",
   "version": "0.6.4"
  }
 },
 "nbformat": 4,
 "nbformat_minor": 2
}
